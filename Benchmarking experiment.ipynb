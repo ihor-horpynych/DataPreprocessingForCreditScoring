{
 "cells": [
  {
   "cell_type": "code",
   "execution_count": 1,
   "metadata": {},
   "outputs": [
    {
     "name": "stderr",
     "output_type": "stream",
     "text": [
      "Using TensorFlow backend.\n"
     ]
    }
   ],
   "source": [
    "#pandas\n",
    "import pandas as pd\n",
    "from pandas.api.types import is_string_dtype\n",
    "from pandas.api.types import is_numeric_dtype\n",
    "#sklearn\n",
    "from sklearn.model_selection import cross_val_score\n",
    "from sklearn.preprocessing import MinMaxScaler\n",
    "from sklearn.metrics import fbeta_score,recall_score, f1_score\n",
    "from sklearn.impute import SimpleImputer\n",
    "from sklearn.ensemble import RandomForestClassifier\n",
    "from sklearn.metrics import balanced_accuracy_score\n",
    "from sklearn.metrics import brier_score_loss\n",
    "from sklearn.linear_model import LogisticRegression\n",
    "from sklearn.neural_network import MLPClassifier\n",
    "from sklearn.model_selection import GridSearchCV\n",
    "from sklearn.model_selection import train_test_split\n",
    "from sklearn.preprocessing import OneHotEncoder\n",
    "from sklearn.linear_model import LogisticRegression\n",
    "from sklearn.ensemble import RandomForestClassifier\n",
    "from sklearn import metrics\n",
    "from sklearn.impute import SimpleImputer\n",
    "from sklearn.feature_selection import SelectKBest\n",
    "from sklearn.decomposition import PCA\n",
    "from sklearn.preprocessing import StandardScaler\n",
    "#imblearn\n",
    "from imblearn.pipeline import Pipeline\n",
    "from imblearn.over_sampling import (\n",
    "                                    RandomOverSampler, \n",
    "                                    SMOTE, \n",
    "                                    ADASYN,\n",
    "                                    BorderlineSMOTE\n",
    "                                   )\n",
    "from imblearn.under_sampling import (\n",
    "                                    RandomUnderSampler,\n",
    "                                    OneSidedSelection,\n",
    "                                    NeighbourhoodCleaningRule,\n",
    "                                    TomekLinks\n",
    "                                   )\n",
    "from imblearn.combine import (SMOTEENN, SMOTETomek)\n",
    "#others\n",
    "import numpy as np\n",
    "from hyperopt import fmin, tpe, hp, STATUS_OK, Trials\n",
    "import categorical_embedder as cem\n",
    "import collections\n",
    "import category_encoders as ce\n",
    "from matplotlib import pyplot as plt\n",
    "import category_encoders as ce\n",
    "from mlxtend.feature_selection import SequentialFeatureSelector as sfs\n",
    "import math\n",
    "\n",
    "\n",
    "#instantiate scaler\n",
    "scaler = MinMaxScaler()"
   ]
  },
  {
   "cell_type": "code",
   "execution_count": 2,
   "metadata": {},
   "outputs": [],
   "source": [
    "def mean_mode_impute(df):\n",
    "    impute_mean = SimpleImputer(strategy=\"mean\")\n",
    "    impute_mc = SimpleImputer(strategy=\"most_frequent\")\n",
    "    column_list = df.columns[df.isna().any()].tolist()\n",
    "    if column_list == []:\n",
    "#        print('No columns with missing values found')\n",
    "        return df\n",
    "    for column in column_list:\n",
    "         if is_numeric_dtype(df[column]):\n",
    "            impute_mean = impute_mean.fit(df[[column]])\n",
    "            df[column] = impute_mean.transform(df[[column]]).ravel()\n",
    "         elif is_string_dtype(df[column]):\n",
    "            impute_mc = impute_mc.fit(df[[column]])\n",
    "            df[column] = impute_mc.transform(df[[column]]).ravel()\n",
    "         else:\n",
    "            print('error')  \n",
    "    return df \n",
    "            \n",
    "def woe_encode(x,y):\n",
    "    column_list = x.columns.tolist()\n",
    "    for column in column_list:\n",
    "        if is_string_dtype(x[column]):\n",
    "            encoder = ce.WOEEncoder(cols=[column])\n",
    "            encoder.fit(x,y)\n",
    "            x = encoder.transform(x)\n",
    "    X_woe['BAD'] = y_woe\n",
    "    ld_woe = X_woe\n",
    "    return ld_woe\n",
    "\n",
    "def one_hot_encode(df):\n",
    "    column_list = df.columns.tolist()\n",
    "    for column in column_list:\n",
    "        if is_string_dtype(df[column]):\n",
    "            one_hot_column = pd.get_dummies(df[column],prefix=column,drop_first=True)\n",
    "            df = df.drop(column,axis = 1)\n",
    "            df = df.join(one_hot_column)\n",
    "    return df\n",
    "\n",
    "\n",
    "def namestr(obj, namespace):\n",
    "    return [name for name in namespace if namespace[name] is obj]\n",
    "\n",
    " "
   ]
  },
  {
   "cell_type": "code",
   "execution_count": 3,
   "metadata": {},
   "outputs": [],
   "source": [
    "def classify(X_train,y_train,X_test,y_test,resampler,parameterR, transformer, parameterT,encoder,classifier):\n",
    "    \n",
    "    res = []\n",
    "    model_name = type(classifier).__name__\n",
    "    model = classifier.fit(X_train, y_train)\n",
    "    y_pred = model.predict(X_test)\n",
    "    y_proba = model.predict_proba(X_test)\n",
    "    #print(y_proba)\n",
    "    y_proba = y_proba[:, 1]\n",
    "    y_test_arr = np.array(y_test)\n",
    "    rec = str(round(recall_score(y_test_arr, y_pred),4))\n",
    "    f1 = str(round(metrics.f1_score(y_test, y_pred),4))\n",
    "    auc = str(round(metrics.roc_auc_score(y_test, y_pred),4))\n",
    "    bs = str(round(metrics.brier_score_loss(y_test, y_proba),4))\n",
    "    print(dataset_name,encoder, resampler,parameterR,transformer,parameterT, model_name,rec,f1,auc,bs )\n",
    "    res.append(( dataset_name,encoder, resampler,parameterR,transformer,parameterT, model_name,rec,f1,auc,bs ))\n",
    "    return res\n",
    "\n",
    "\n",
    "def split(X,y):\n",
    "        X_train, X_test, y_train, y_test = train_test_split(X, y, test_size=0.3, stratify = y)\n",
    "        return X_train, X_test, y_train, y_test\n",
    "\n",
    "\n",
    "\n",
    "def classify_master(X_train, X_test, y_train, y_test,encoder_name,classifier):   \n",
    "    preprocess_technique_stat = pd.DataFrame()\n",
    "    \n",
    "    stat_encoded = classify(X_train,y_train,X_test,y_test,'NA','NA', 'NA', 'NA',encoder_name,classifier)\n",
    "    preprocess_technique_stat = preprocess_technique_stat.append(stat_encoded)\n",
    "    \n",
    "    stat_resample = resample_classify(X_train,X_test, y_train,y_test, ratios,encoder_name,classifier)\n",
    "    preprocess_technique_stat = preprocess_technique_stat.append(stat_resample)\n",
    "    \n",
    "    stat_reduce = reduce_classify(X_train,y_train,X_test,y_test,'NA', 'NA',encoder_name,classifier)\n",
    "    preprocess_technique_stat = preprocess_technique_stat.append(stat_reduce)\n",
    "    \n",
    "    stat_combined = process_classify(X_train,X_test, y_train,y_test, ratios,encoder_name,classifier)\n",
    "    preprocess_technique_stat = preprocess_technique_stat.append(stat_combined)\n",
    "    \n",
    "\n",
    "\n",
    "    return preprocess_technique_stat"
   ]
  },
  {
   "cell_type": "code",
   "execution_count": 4,
   "metadata": {},
   "outputs": [],
   "source": [
    "def process_classify(X_train,X_test, y_train,y_test, ratios,encoder,classifier):\n",
    "    results = pd.DataFrame()\n",
    "    k_neighbors = [5,10,15]\n",
    "\n",
    "    \n",
    "    resampler_instance = OneSidedSelection()\n",
    "    pipeline = Pipeline([('resampler', resampler_instance),  ('clf', classifier)])\n",
    "    params = {'resampler__sampling_strategy' : ['not minority','not majority','all'],\n",
    "              'resampler__n_neighbors':[1,3,6],\n",
    "             'resampler__n_seeds_S':[10,100,200]}\n",
    "    grid = GridSearchCV(pipeline, params,cv=5,scoring='roc_auc')\n",
    "    grid.fit(X_train, y_train)\n",
    "    pRatio = grid.best_params_['resampler__sampling_strategy']\n",
    "    pNeighbors = grid.best_params_['resampler__n_neighbors']\n",
    "    pSeeds = grid.best_params_['resampler__n_seeds_S']\n",
    "    resampler_instance = OneSidedSelection(sampling_strategy=pRatio,n_neighbors=pNeighbors,n_seeds_S=pSeeds)\n",
    "    X_resampled, y_resampled = resampler_instance.fit_sample(X_train, y_train)\n",
    "    stat = reduce_classify(X_resampled,y_resampled,X_test,y_test,'OSS',grid.best_params_ ,encoder,classifier)\n",
    "    results = results.append(( stat ))\n",
    "    \n",
    "    \n",
    "    ROS_instance = RandomOverSampler()\n",
    "    pipeline = Pipeline([('resampler', ROS_instance), ('clf', classifier)])\n",
    "    params = {'resampler__sampling_strategy' : ratios}\n",
    "    grid = GridSearchCV(pipeline, params,cv=5,scoring='roc_auc')\n",
    "    grid.fit(X_train, y_train)\n",
    "    pRatio = grid.best_params_['resampler__sampling_strategy']\n",
    "    ROS_instance = RandomOverSampler(sampling_strategy=pRatio)\n",
    "    X_resampled, y_resampled = ROS_instance.fit_sample(X_train, y_train)\n",
    "    stat = reduce_classify(X_resampled,y_resampled,X_test,y_test,'ROS', grid.best_params_,encoder,classifier)\n",
    "    results = results.append(( stat ))\n",
    "\n",
    "    \n",
    "    resampler_instance = SMOTE()\n",
    "    pipeline = Pipeline([('resampler', resampler_instance),  ('clf', classifier)])\n",
    "    params = {'resampler__sampling_strategy' : ratios,\n",
    "             'resampler__k_neighbors': k_neighbors}\n",
    "    grid = GridSearchCV(pipeline, params,cv=5,scoring='roc_auc')\n",
    "    grid.fit(X_train, y_train)\n",
    "    pSS = grid.best_params_['resampler__sampling_strategy']\n",
    "    pKN = grid.best_params_['resampler__k_neighbors']\n",
    "    resampler_instance = SMOTE(sampling_strategy=pSS, k_neighbors = pKN)\n",
    "    X_resampled, y_resampled = resampler_instance.fit_sample(X_train, y_train)\n",
    "    stat = reduce_classify(X_resampled,y_resampled,X_test,y_test,'SMT', grid.best_params_,encoder,classifier)\n",
    "    results = results.append(( stat ))\n",
    "    \n",
    "    \n",
    "    resampler_instance = ADASYN()\n",
    "    pipeline = Pipeline([('resampler', resampler_instance), ('clf', classifier)])\n",
    "    params = {'resampler__sampling_strategy' : ratios,\n",
    "             'resampler__n_neighbors': k_neighbors}\n",
    "    grid = GridSearchCV(pipeline, params,cv=5,scoring='roc_auc')\n",
    "    grid.fit(X_train, y_train)\n",
    "    pRatio = grid.best_params_['resampler__sampling_strategy']\n",
    "    pKN = grid.best_params_['resampler__n_neighbors']\n",
    "    resampler_instance = ADASYN(sampling_strategy=pRatio,n_neighbors=pKN)\n",
    "    X_resampled, y_resampled = resampler_instance.fit_sample(X_train, y_train)\n",
    "    stat = reduce_classify(X_resampled,y_resampled,X_test,y_test,'ADA', grid.best_params_,encoder,classifier)\n",
    "    results = results.append(( stat ))\n",
    "    \n",
    "    \n",
    "    resampler_instance = BorderlineSMOTE()\n",
    "    pipeline = Pipeline([('resampler', resampler_instance),  ('clf', classifier)])\n",
    "    params = {'resampler__sampling_strategy' : ratios,\n",
    "             'resampler__k_neighbors': k_neighbors,\n",
    "             'resampler__kind':['borderline-1','borderline-2']}\n",
    "    grid = GridSearchCV(pipeline, params,cv=5,scoring='roc_auc')\n",
    "    grid.fit(X_train, y_train)\n",
    "    pSS = grid.best_params_['resampler__sampling_strategy']\n",
    "    pKN = grid.best_params_['resampler__k_neighbors']\n",
    "    pKnd = grid.best_params_['resampler__kind']\n",
    "    resampler_instance = BorderlineSMOTE(sampling_strategy=pSS,k_neighbors=pKN,kind=pKnd)\n",
    "    X_resampled, y_resampled = resampler_instance.fit_sample(X_train, y_train)\n",
    "    stat = reduce_classify(X_resampled,y_resampled,X_test,y_test,'SMT_BL',grid.best_params_,encoder,classifier)\n",
    "    results = results.append(( stat ))\n",
    "    \n",
    "    resampler_instance = SMOTEENN()\n",
    "    pipeline = Pipeline([('resampler', resampler_instance), ('clf', classifier)])\n",
    "    params = {'resampler__sampling_strategy' : ratios}\n",
    "    grid = GridSearchCV(pipeline, params,cv=5,scoring='roc_auc')\n",
    "    grid.fit(X_train, y_train)\n",
    "    pRatio = grid.best_params_['resampler__sampling_strategy']\n",
    "    resampler_instance = SMOTEENN(sampling_strategy=pRatio)\n",
    "    X_resampled, y_resampled = resampler_instance.fit_sample(X_train, y_train)\n",
    "    stat = reduce_classify(X_resampled,y_resampled,X_test,y_test,'SMT_ENN', grid.best_params_,encoder,classifier)\n",
    "    results = results.append(( stat ))\n",
    "    \n",
    "    \n",
    "    resampler_instance = SMOTETomek()\n",
    "    pipeline = Pipeline([('resampler', resampler_instance),  ('clf', classifier)])\n",
    "    params = {'resampler__sampling_strategy' : ratios}\n",
    "    grid = GridSearchCV(pipeline, params,cv=5,scoring='roc_auc')\n",
    "    grid.fit(X_train, y_train)\n",
    "    pRatio = grid.best_params_['resampler__sampling_strategy']\n",
    "    resampler_instance = SMOTETomek(sampling_strategy=pRatio)\n",
    "    X_resampled, y_resampled = resampler_instance.fit_sample(X_train, y_train)\n",
    "    stat = reduce_classify(X_resampled,y_resampled,X_test,y_test,'SMT_TL', grid.best_params_,encoder,classifier)\n",
    "    results = results.append(( stat ))\n",
    "    \n",
    "    \n",
    "    resampler_instance = RandomUnderSampler()\n",
    "    pipeline = Pipeline([('resampler', resampler_instance),  ('clf', classifier)])\n",
    "    params = {'resampler__sampling_strategy' : ratios}\n",
    "    grid = GridSearchCV(pipeline, params,cv=5,scoring='roc_auc')\n",
    "    grid.fit(X_train, y_train)\n",
    "    pRatio = grid.best_params_['resampler__sampling_strategy']\n",
    "    resampler_instance = RandomUnderSampler(sampling_strategy=pRatio)\n",
    "    X_resampled, y_resampled = resampler_instance.fit_sample(X_train, y_train)\n",
    "    stat = reduce_classify(X_resampled,y_resampled,X_test,y_test,'RUS', grid.best_params_,encoder,classifier)\n",
    "    results = results.append(( stat ))\n",
    "    \n",
    "\n",
    "    resampler_instance = NeighbourhoodCleaningRule()\n",
    "    pipeline = Pipeline([('resampler', resampler_instance), ('clf', classifier)])\n",
    "    params = {'resampler__sampling_strategy' : ['not minority','not majority','all'],\n",
    "              'resampler__n_neighbors':[3,6,9]}\n",
    "    grid = GridSearchCV(pipeline, params,cv=5,scoring='roc_auc')\n",
    "    grid.fit(X_train, y_train)\n",
    "    pRatio = grid.best_params_['resampler__sampling_strategy']\n",
    "    pN = grid.best_params_['resampler__n_neighbors']\n",
    "    resampler_instance = NeighbourhoodCleaningRule(sampling_strategy=pRatio,n_neighbors=pN)\n",
    "    X_resampled, y_resampled = resampler_instance.fit_sample(X_train, y_train)\n",
    "    stat = reduce_classify(X_resampled,y_resampled,X_test,y_test,'NCL',grid.best_params_,encoder,classifier)\n",
    "    results = results.append(( stat ))\n",
    "\n",
    "    \n",
    "    resampler_instance = TomekLinks()\n",
    "    pipeline = Pipeline([('resampler', resampler_instance),  ('clf', classifier)])\n",
    "    params = {'resampler__sampling_strategy' : ['not minority','not majority','all']}\n",
    "    grid = GridSearchCV(pipeline, params,cv=5,scoring='roc_auc')\n",
    "    grid.fit(X_train, y_train)\n",
    "    pRatio = grid.best_params_['resampler__sampling_strategy']\n",
    "    resampler_instance = TomekLinks(sampling_strategy=pRatio)\n",
    "    X_resampled, y_resampled = resampler_instance.fit_sample(X_train, y_train)\n",
    "    stat = reduce_classify(X_resampled,y_resampled,X_test,y_test,'TL', grid.best_params_,encoder,classifier)\n",
    "    results = results.append(( stat ))\n",
    "\n",
    "    return results\n",
    "    "
   ]
  },
  {
   "cell_type": "code",
   "execution_count": 5,
   "metadata": {},
   "outputs": [],
   "source": [
    "def resample_classify(X_train,X_test, y_train,y_test, ratios,encoder,classifier):\n",
    "    results = pd.DataFrame()\n",
    "    k_neighbors = [5,10,15]\n",
    "\n",
    "    \n",
    "    resampler_instance = OneSidedSelection()\n",
    "    pipeline = Pipeline([('resampler', resampler_instance),  ('clf', classifier)])\n",
    "    params = {'resampler__sampling_strategy' : ['not minority','not majority','all'],\n",
    "              'resampler__n_neighbors':[1,3,6],\n",
    "             'resampler__n_seeds_S':[10,100,200]}\n",
    "    grid = GridSearchCV(pipeline, params,cv=5,scoring='roc_auc')\n",
    "    grid.fit(X_train, y_train)\n",
    "    pRatio = grid.best_params_['resampler__sampling_strategy']\n",
    "    pNeighbors = grid.best_params_['resampler__n_neighbors']\n",
    "    pSeeds = grid.best_params_['resampler__n_seeds_S']\n",
    "    resampler_instance = OneSidedSelection(sampling_strategy=pRatio,n_neighbors=pNeighbors,n_seeds_S=pSeeds)\n",
    "    X_resampled, y_resampled = resampler_instance.fit_sample(X_train, y_train)\n",
    "    stat = classify(X_resampled,y_resampled,X_test,y_test,'OSS',grid.best_params_ ,'NA','NA',encoder,classifier)\n",
    "    results = results.append(( stat ))\n",
    "\n",
    "    resampler_instance = RandomOverSampler()\n",
    "    pipeline = Pipeline([('resampler', resampler_instance), ('clf', classifier)])\n",
    "    params = {'resampler__sampling_strategy' : ratios}\n",
    "    grid = GridSearchCV(pipeline, params,cv=5,scoring='roc_auc')\n",
    "    grid.fit(X_train, y_train)\n",
    "    pRatio = grid.best_params_['resampler__sampling_strategy']\n",
    "    resampler_instance = RandomOverSampler(sampling_strategy=pRatio)\n",
    "    X_resampled, y_resampled = resampler_instance.fit_sample(X_train, y_train)\n",
    "    stat = classify(X_resampled,y_resampled,X_test,y_test,'ROS', grid.best_params_,'NA','NA',encoder,classifier)\n",
    "    results = results.append(( stat ))\n",
    "\n",
    "    resampler_instance = SMOTE()\n",
    "    pipeline = Pipeline([('resampler', resampler_instance),  ('clf', classifier)])\n",
    "    params = {'resampler__sampling_strategy' : ratios,\n",
    "             'resampler__k_neighbors': k_neighbors}\n",
    "    grid = GridSearchCV(pipeline, params,cv=5,scoring='roc_auc')\n",
    "    grid.fit(X_train, y_train)\n",
    "    pSS = grid.best_params_['resampler__sampling_strategy']\n",
    "    pKN = grid.best_params_['resampler__k_neighbors']\n",
    "    resampler_instance = SMOTE(sampling_strategy=pSS, k_neighbors = pKN)\n",
    "    X_resampled, y_resampled = resampler_instance.fit_sample(X_train, y_train)\n",
    "    stat = classify(X_resampled,y_resampled,X_test,y_test,'SMT', grid.best_params_,'NA','NA',encoder,classifier)\n",
    "    results = results.append(( stat ))\n",
    "    \n",
    "    \n",
    "    resampler_instance = ADASYN()\n",
    "    pipeline = Pipeline([('resampler', resampler_instance), ('clf', classifier)])\n",
    "    params = {'resampler__sampling_strategy' : ratios,\n",
    "             'resampler__n_neighbors': k_neighbors}\n",
    "    grid = GridSearchCV(pipeline, params,cv=5,scoring='roc_auc')\n",
    "    grid.fit(X_train, y_train)\n",
    "    pRatio = grid.best_params_['resampler__sampling_strategy']\n",
    "    pKN = grid.best_params_['resampler__n_neighbors']\n",
    "    resampler_instance = ADASYN(sampling_strategy=pRatio,n_neighbors=pKN)\n",
    "    X_resampled, y_resampled = resampler_instance.fit_sample(X_train, y_train)\n",
    "    stat = classify(X_resampled,y_resampled,X_test,y_test,'ADA', grid.best_params_,'NA','NA',encoder,classifier)\n",
    "    results = results.append(( stat ))\n",
    "    \n",
    "    resampler_instance = BorderlineSMOTE()\n",
    "    pipeline = Pipeline([('resampler', resampler_instance),  ('clf', classifier)])\n",
    "    params = {'resampler__sampling_strategy' : ratios,\n",
    "             'resampler__k_neighbors': k_neighbors,\n",
    "             'resampler__kind':['borderline-1','borderline-2']}\n",
    "    grid = GridSearchCV(pipeline, params,cv=5,scoring='roc_auc')\n",
    "    grid.fit(X_train, y_train)\n",
    "    pSS = grid.best_params_['resampler__sampling_strategy']\n",
    "    pKN = grid.best_params_['resampler__k_neighbors']\n",
    "    pKnd = grid.best_params_['resampler__kind']\n",
    "    resampler_instance = BorderlineSMOTE(sampling_strategy=pSS,k_neighbors=pKN,kind=pKnd)\n",
    "    X_resampled, y_resampled = resampler_instance.fit_sample(X_train, y_train)\n",
    "    stat = classify(X_resampled,y_resampled,X_test,y_test,'SMT_BL',grid.best_params_,'NA','NA',encoder,classifier)\n",
    "    results = results.append(( stat ))\n",
    "    \n",
    "    resampler_instance = SMOTEENN()\n",
    "    pipeline = Pipeline([('resampler', resampler_instance), ('clf', classifier)])\n",
    "    params = {'resampler__sampling_strategy' : ratios}\n",
    "    grid = GridSearchCV(pipeline, params,cv=5,scoring='roc_auc')\n",
    "    grid.fit(X_train, y_train)\n",
    "    pRatio = grid.best_params_['resampler__sampling_strategy']\n",
    "    resampler_instance = SMOTEENN(sampling_strategy=pRatio)\n",
    "    X_resampled, y_resampled = resampler_instance.fit_sample(X_train, y_train)\n",
    "    stat = classify(X_resampled,y_resampled,X_test,y_test,'SMT_ENN', grid.best_params_,'NA','NA',encoder,classifier)\n",
    "    results = results.append(( stat ))\n",
    "    \n",
    "    resampler_instance = SMOTETomek()\n",
    "    pipeline = Pipeline([('resampler', resampler_instance),  ('clf', classifier)])\n",
    "    params = {'resampler__sampling_strategy' : ratios}\n",
    "    grid = GridSearchCV(pipeline, params,cv=5,scoring='roc_auc')\n",
    "    grid.fit(X_train, y_train)\n",
    "    pRatio = grid.best_params_['resampler__sampling_strategy']\n",
    "    resampler_instance = SMOTETomek(sampling_strategy=pRatio)\n",
    "    X_resampled, y_resampled = resampler_instance.fit_sample(X_train, y_train)\n",
    "    stat = classify(X_resampled,y_resampled,X_test,y_test,'SMT_TL', grid.best_params_,'NA','NA',encoder,classifier)\n",
    "    results = results.append(( stat ))\n",
    "    \n",
    "    resampler_instance = RandomUnderSampler()\n",
    "    pipeline = Pipeline([('resampler', resampler_instance),  ('clf', classifier)])\n",
    "    params = {'resampler__sampling_strategy' : ratios}\n",
    "    grid = GridSearchCV(pipeline, params,cv=5,scoring='roc_auc')\n",
    "    grid.fit(X_train, y_train)\n",
    "    pRatio = grid.best_params_['resampler__sampling_strategy']\n",
    "    resampler_instance = RandomUnderSampler(sampling_strategy=pRatio)\n",
    "    X_resampled, y_resampled = resampler_instance.fit_sample(X_train, y_train)\n",
    "    stat = classify(X_resampled,y_resampled,X_test,y_test,'RUS', grid.best_params_,'NA','NA',encoder,classifier)\n",
    "    results = results.append(( stat ))\n",
    "    \n",
    "    \n",
    "    resampler_instance = NeighbourhoodCleaningRule()\n",
    "    pipeline = Pipeline([('resampler', resampler_instance), ('clf', classifier)])\n",
    "    params = {'resampler__sampling_strategy' : ['not minority','not majority','all'],\n",
    "              'resampler__n_neighbors':[3,6,9]}\n",
    "    grid = GridSearchCV(pipeline, params,cv=5,scoring='roc_auc')\n",
    "    grid.fit(X_train, y_train)\n",
    "    pRatio = grid.best_params_['resampler__sampling_strategy']\n",
    "    pN = grid.best_params_['resampler__n_neighbors']\n",
    "    resampler_instance = NeighbourhoodCleaningRule(sampling_strategy=pRatio,n_neighbors=pN)\n",
    "    X_resampled, y_resampled = resampler_instance.fit_sample(X_train, y_train)\n",
    "    stat = classify(X_resampled,y_resampled,X_test,y_test,'NCL',grid.best_params_,'NA','NA',encoder,classifier)\n",
    "    results = results.append(( stat ))\n",
    "\n",
    "    \n",
    "    resampler_instance = TomekLinks()\n",
    "    pipeline = Pipeline([('resampler', resampler_instance),  ('clf', classifier)])\n",
    "    params = {'resampler__sampling_strategy' : ['not minority','not majority','all']}\n",
    "    grid = GridSearchCV(pipeline, params,cv=5,scoring='roc_auc')\n",
    "    grid.fit(X_train, y_train)\n",
    "    pRatio = grid.best_params_['resampler__sampling_strategy']\n",
    "    resampler_instance = TomekLinks(sampling_strategy=pRatio)\n",
    "    X_resampled, y_resampled = resampler_instance.fit_sample(X_train, y_train)\n",
    "    stat = classify(X_resampled,y_resampled,X_test,y_test,'TL', grid.best_params_,'NA','NA',encoder,classifier)\n",
    "    results = results.append(( stat ))\n",
    "\n",
    "    return results"
   ]
  },
  {
   "cell_type": "code",
   "execution_count": 6,
   "metadata": {},
   "outputs": [],
   "source": [
    "def reduce_classify(X_train,y_train,X_test,y_test,resampler_name, parameterR,encoder,classifier):\n",
    "\n",
    "    #take different percentages of columns with 3 steps\n",
    "    n=[math.ceil(len(X_train.columns)*0.7),\n",
    "    math.ceil(len(X_train.columns)*0.5),\n",
    "    math.ceil(len(X_train.columns)*0.3)]\n",
    "\n",
    "    ft_stat = pd.DataFrame()\n",
    "\n",
    "    transformer = 'PCA'\n",
    "    pca_instance = PCA()\n",
    "    pipeline = Pipeline([('transformer', pca_instance), ('clf', classifier)])\n",
    "    params = {'transformer__n_components' : n}\n",
    "    grid = GridSearchCV(pipeline, params,cv=5,scoring='roc_auc')\n",
    "    best_model = grid.fit(X_train, y_train)\n",
    "    parameter_n_comp = grid.best_params_['transformer__n_components']\n",
    "    pca = PCA(n_components=parameter_n_comp)\n",
    "    X_train_principalComponents = pca.fit_transform(X_train)\n",
    "    X_test_principalComponents = pca.fit_transform(X_test)\n",
    "    stats = classify(X_train_principalComponents,y_train,X_test_principalComponents,y_test,resampler_name,parameterR, transformer, grid.best_params_,encoder,classifier)\n",
    "    ft_stat = ft_stat.append(stats)\n",
    "\n",
    "    transformer = 'CFS'\n",
    "    selectKBest_instance = SelectKBest()\n",
    "    pipeline = Pipeline([('transformer', selectKBest_instance),  ('clf', classifier)])\n",
    "    params = {'transformer__k' : n}\n",
    "    grid = GridSearchCV(pipeline, params,cv=5,scoring='roc_auc')\n",
    "    best_model = grid.fit(X_train, y_train)\n",
    "    parameterT = grid.best_params_['transformer__k']\n",
    "    KBest = SelectKBest( k=parameterT)\n",
    "\n",
    "    kbest_selector = KBest.fit(X_train, y_train)\n",
    "    \n",
    "    X_KBestFeatures_train = kbest_selector.transform(X_train)\n",
    "    X_KBestFeatures_test = kbest_selector.transform(X_test)\n",
    "    stats = classify(X_KBestFeatures_train,y_train,X_KBestFeatures_test,y_test,resampler_name,parameterR, transformer, grid.best_params_,encoder,classifier)\n",
    "    ft_stat = ft_stat.append(stats)\n",
    "\n",
    "\n",
    "    return ft_stat\n"
   ]
  },
  {
   "cell_type": "code",
   "execution_count": 7,
   "metadata": {},
   "outputs": [],
   "source": [
    "from statsmodels.stats.outliers_influence import variance_inflation_factor\n",
    "def calculate_vif(X, thresh):\n",
    "    # Taken from https://stats.stackexchange.com/a/253620/53565 and modified\n",
    "    dropped=True\n",
    "    while dropped:\n",
    "        variables = X.columns\n",
    "        dropped = False\n",
    "        vif = [variance_inflation_factor(X[variables].values, X.columns.get_loc(var)) for var in X.columns]\n",
    "        max_vif = max(vif)\n",
    "        if max_vif > thresh:\n",
    "            maxloc = vif.index(max_vif)\n",
    "            print(f'Dropping {X.columns[maxloc]} with vif={max_vif}')\n",
    "            X = X.drop([X.columns.tolist()[maxloc]], axis=1)\n",
    "            dropped=True\n",
    "    return X\n",
    "\n",
    "def removeMulticolinearFeatures(X_train, X_test, vif):\n",
    "    X_train = calculate_vif(X_train, vif)\n",
    "    columns_list = list(X_train)\n",
    "    X_test = X_test[columns_list]\n",
    "    return X_train, X_test"
   ]
  },
  {
   "cell_type": "code",
   "execution_count": 8,
   "metadata": {},
   "outputs": [],
   "source": [
    "#fmin(objective function, parameters list, optimizing algorithm)\n",
    "#objective function returns a value that has to be minimazied\n",
    "#tpe.suggest runs the Tree-structured Parzen estimator\n",
    "best = 0\n",
    "max_evals = 100\n",
    "def acc_model(params,classifier):\n",
    "    clf = classifier(**params)\n",
    "    return cross_val_score(clf, X_train, y_train,scoring = 'roc_auc').mean()\n",
    "\n",
    "def f_rf(params):\n",
    "    global best\n",
    "    classifier = RandomForestClassifier\n",
    "    acc = acc_model(params,classifier)\n",
    "    if acc > best:\n",
    "        best = acc\n",
    "    return {'loss': -acc, 'status': STATUS_OK}\n",
    "\n",
    "def getRF():\n",
    "    criterion_list = [\"gini\", \"entropy\"]\n",
    "    max_features_list = ['auto','sqrt','log2','None']\n",
    "    param_space = {\n",
    "        'max_depth': hp.choice('max_depth', range(1,30)),\n",
    "        'max_features': hp.choice('max_features', ['sqrt','log2','None']),\n",
    "        'n_estimators': hp.choice('n_estimators', range(50,150)),\n",
    "        'criterion': hp.choice('criterion', [\"gini\", \"entropy\"])\n",
    "    }\n",
    "        \n",
    "    trials = Trials()\n",
    "    best = fmin(f_rf, param_space, algo=tpe.suggest, max_evals=max_evals, trials=trials)\n",
    "    print ('best:')\n",
    "    print (best)  \n",
    "    criterion = criterion_list[best['criterion']]\n",
    "    if best['max_depth'] == 0:\n",
    "        max_depth = None\n",
    "    else: \n",
    "        max_depth = best['max_depth']\n",
    "    max_features = max_features_list[best['max_features']]\n",
    "    n_estimators = best['n_estimators']\n",
    "    optimizedRF = RandomForestClassifier(criterion = criterion, max_depth=max_depth,max_features = max_features,n_estimators=n_estimators)\n",
    "    return optimizedRF,best\n",
    "\n",
    "def f_lr(params):\n",
    "    global best\n",
    "    classifier = LogisticRegression\n",
    "    acc = acc_model(params,classifier)\n",
    "    if acc > best:\n",
    "        best = acc\n",
    "    return {'loss': -acc, 'status': STATUS_OK}\n",
    "\n",
    "def getLR():\n",
    "    penalty_list = ['l1','l2','elasticnet','none']\n",
    "    param_space = {\n",
    "        'C' : hp.uniform('C', 0.001, 100),\n",
    "        'penalty' : hp.choice('penalty', ['l1','l2','elasticnet','none']) \n",
    "    }\n",
    "        \n",
    "    trials = Trials()\n",
    "    best = fmin(f_lr, param_space, algo=tpe.suggest, max_evals=max_evals, trials=trials)\n",
    "    print ('best:')\n",
    "    print (best)  \n",
    "    penalty = penalty_list[best['penalty']]\n",
    "    C = best['C']\n",
    "    optimizedLR = LogisticRegression(C=C,penalty=penalty)\n",
    "    return optimizedLR,best\n",
    "\n",
    "def f_mlp(params):\n",
    "    global best\n",
    "    classifier = MLPClassifier\n",
    "    acc = acc_model(params,classifier)\n",
    "    if acc > best:\n",
    "        best = acc\n",
    "    return {'loss': -acc, 'status': STATUS_OK}\n",
    "\n",
    "def getMLP():\n",
    "    param_space = {\n",
    "        'alpha': hp.uniform('alpha',0.0001,1),\n",
    "        'hidden_layer_sizes': hp.randint('hidden_layer_sizes',100)\n",
    "    }\n",
    "    trials = Trials()\n",
    "    best = fmin(f_mlp, param_space, algo=tpe.suggest, max_evals=max_evals, trials=trials)\n",
    "    print ('best:')\n",
    "    print (best)\n",
    "    alpha = best['alpha']\n",
    "    hidden_layer_sizes = best['hidden_layer_sizes']\n",
    "    optimizedMLP = MLPClassifier(hidden_layer_sizes=(hidden_layer_sizes),\n",
    "                                 alpha=alpha)\n",
    "    return optimizedMLP,best\n"
   ]
  },
  {
   "cell_type": "code",
   "execution_count": 9,
   "metadata": {},
   "outputs": [
    {
     "name": "stdout",
     "output_type": "stream",
     "text": [
      "Dropping YOB with vif=14.000337677550297\n",
      "Dropping PHON with vif=10.527894860153744\n",
      "100%|█████████████████████████████████████████████| 100/100 [00:35<00:00,  2.85trial/s, best loss: -0.6468215825975464]\n",
      "best:\n",
      "{'criterion': 1, 'max_depth': 0, 'max_features': 1, 'n_estimators': 94}\n",
      "100%|█████████████████████████████████████████████| 100/100 [00:04<00:00, 21.07trial/s, best loss: -0.6251760093725082]\n",
      "best:\n",
      "{'C': 7.573717142765783, 'penalty': 1}\n",
      "100%|█████████████████████████████████████████████| 100/100 [06:23<00:00,  3.84s/trial, best loss: -0.6310364694678228]\n",
      "best:\n",
      "{'alpha': 0.7778384807860967, 'hidden_layer_sizes': 85}\n",
      "LD OHE NA NA NA NA LogisticRegression 0.0 0.0 0.5 0.1969\n",
      "LD OHE OSS {'resampler__n_neighbors': 1, 'resampler__n_seeds_S': 10, 'resampler__sampling_strategy': 'not minority'} NA NA LogisticRegression 0.0 0.0 0.5 0.1967\n",
      "LD OHE ROS {'resampler__sampling_strategy': 0.5} NA NA LogisticRegression 0.0 0.0 0.5 0.1919\n",
      "LD OHE SMT {'resampler__k_neighbors': 10, 'resampler__sampling_strategy': 0.406} NA NA LogisticRegression 0.0 0.0 0.5 0.1907\n",
      "LD OHE ADA {'resampler__n_neighbors': 10, 'resampler__sampling_strategy': 0.5} NA NA LogisticRegression 0.3579 0.3736 0.5793 0.2126\n",
      "LD OHE SMT_BL {'resampler__k_neighbors': 15, 'resampler__kind': 'borderline-1', 'resampler__sampling_strategy': 0.452} NA NA LogisticRegression 0.3579 0.356 0.5624 0.2145\n",
      "LD OHE SMT_ENN {'resampler__sampling_strategy': 0.452} NA NA LogisticRegression 0.0526 0.0926 0.5113 0.2026\n",
      "LD OHE SMT_TL {'resampler__sampling_strategy': 0.452} NA NA LogisticRegression 0.0 0.0 0.5 0.191\n",
      "LD OHE RUS {'resampler__sampling_strategy': 0.406} NA NA LogisticRegression 0.0 0.0 0.5 0.1946\n",
      "LD OHE NCL {'resampler__n_neighbors': 3, 'resampler__sampling_strategy': 'all'} NA NA LogisticRegression 0.0 0.0 0.5 0.2216\n",
      "LD OHE TL {'resampler__sampling_strategy': 'not minority'} NA NA LogisticRegression 0.0 0.0 0.5 0.1972\n",
      "LD OHE NA NA PCA {'transformer__n_components': 17} LogisticRegression 0.0 0.0 0.5 0.2\n",
      "LD OHE NA NA CFS {'transformer__k': 8} LogisticRegression 0.0 0.0 0.5 0.1893\n",
      "LD OHE OSS {'resampler__n_neighbors': 6, 'resampler__n_seeds_S': 10, 'resampler__sampling_strategy': 'not minority'} PCA {'transformer__n_components': 17} LogisticRegression 0.0 0.0 0.5 0.2007\n",
      "LD OHE OSS {'resampler__n_neighbors': 6, 'resampler__n_seeds_S': 10, 'resampler__sampling_strategy': 'not minority'} CFS {'transformer__k': 8} LogisticRegression 0.0 0.0 0.5 0.1895\n",
      "LD OHE ROS {'resampler__sampling_strategy': 0.406} PCA {'transformer__n_components': 17} LogisticRegression 0.0 0.0 0.5 0.2006\n",
      "LD OHE ROS {'resampler__sampling_strategy': 0.406} CFS {'transformer__k': 12} LogisticRegression 0.0 0.0 0.5 0.1881\n",
      "LD OHE SMT {'resampler__k_neighbors': 10, 'resampler__sampling_strategy': 0.5} PCA {'transformer__n_components': 17} LogisticRegression 0.0 0.0 0.4944 0.2042\n",
      "LD OHE SMT {'resampler__k_neighbors': 10, 'resampler__sampling_strategy': 0.5} CFS {'transformer__k': 17} LogisticRegression 0.3053 0.3537 0.5774 0.2037\n",
      "LD OHE ADA {'resampler__n_neighbors': 15, 'resampler__sampling_strategy': 0.5} PCA {'transformer__n_components': 17} LogisticRegression 0.0 0.0 0.5 0.2\n",
      "LD OHE ADA {'resampler__n_neighbors': 15, 'resampler__sampling_strategy': 0.5} CFS {'transformer__k': 12} LogisticRegression 0.0 0.0 0.5 0.1884\n",
      "LD OHE SMT_BL {'resampler__k_neighbors': 5, 'resampler__kind': 'borderline-1', 'resampler__sampling_strategy': 0.5} PCA {'transformer__n_components': 17} LogisticRegression 0.0 0.0 0.4981 0.2038\n",
      "LD OHE SMT_BL {'resampler__k_neighbors': 5, 'resampler__kind': 'borderline-1', 'resampler__sampling_strategy': 0.5} CFS {'transformer__k': 8} LogisticRegression 0.0 0.0 0.5 0.194\n",
      "LD OHE SMT_ENN {'resampler__sampling_strategy': 0.452} PCA {'transformer__n_components': 17} LogisticRegression 0.0 0.0 0.4981 0.2281\n",
      "LD OHE SMT_ENN {'resampler__sampling_strategy': 0.452} CFS {'transformer__k': 17} LogisticRegression 0.0 0.0 0.5 0.212\n",
      "LD OHE SMT_TL {'resampler__sampling_strategy': 0.5} PCA {'transformer__n_components': 17} LogisticRegression 0.0 0.0 0.5 0.1985\n",
      "LD OHE SMT_TL {'resampler__sampling_strategy': 0.5} CFS {'transformer__k': 17} LogisticRegression 0.1684 0.2443 0.5466 0.1949\n",
      "LD OHE RUS {'resampler__sampling_strategy': 0.406} PCA {'transformer__n_components': 17} LogisticRegression 0.0 0.0 0.5 0.1996\n",
      "LD OHE RUS {'resampler__sampling_strategy': 0.406} CFS {'transformer__k': 8} LogisticRegression 0.0 0.0 0.5 0.1893\n",
      "LD OHE NCL {'resampler__n_neighbors': 3, 'resampler__sampling_strategy': 'all'} PCA {'transformer__n_components': 17} LogisticRegression 0.0211 0.0388 0.4992 0.2276\n",
      "LD OHE NCL {'resampler__n_neighbors': 3, 'resampler__sampling_strategy': 'all'} CFS {'transformer__k': 17} LogisticRegression 0.0105 0.0208 0.5053 0.2121\n",
      "LD OHE TL {'resampler__sampling_strategy': 'not minority'} PCA {'transformer__n_components': 17} LogisticRegression 0.0 0.0 0.5 0.2007\n",
      "LD OHE TL {'resampler__sampling_strategy': 'not minority'} CFS {'transformer__k': 17} LogisticRegression 0.0 0.0 0.5 0.1887\n",
      "LD OHE NA NA NA NA RandomForestClassifier 0.0842 0.1322 0.5083 0.1958\n",
      "LD OHE OSS {'resampler__n_neighbors': 1, 'resampler__n_seeds_S': 10, 'resampler__sampling_strategy': 'not minority'} NA NA RandomForestClassifier 0.2316 0.3034 0.5632 0.1945\n",
      "LD OHE ROS {'resampler__sampling_strategy': 0.406} NA NA RandomForestClassifier 0.1263 0.1778 0.5105 0.196\n",
      "LD OHE SMT {'resampler__k_neighbors': 15, 'resampler__sampling_strategy': 0.452} NA NA RandomForestClassifier 0.2526 0.3 0.5492 0.2028\n",
      "LD OHE ADA {'resampler__n_neighbors': 15, 'resampler__sampling_strategy': 0.5} NA NA RandomForestClassifier 0.2211 0.2838 0.5504 0.1953\n",
      "LD OHE SMT_BL {'resampler__k_neighbors': 5, 'resampler__kind': 'borderline-1', 'resampler__sampling_strategy': 0.406} NA NA RandomForestClassifier 0.1158 0.1679 0.5109 0.1916\n",
      "LD OHE SMT_ENN {'resampler__sampling_strategy': 0.452} NA NA RandomForestClassifier 0.1579 0.2362 0.547 0.216\n",
      "LD OHE SMT_TL {'resampler__sampling_strategy': 0.406} NA NA RandomForestClassifier 0.2105 0.2778 0.5508 0.1953\n",
      "LD OHE RUS {'resampler__sampling_strategy': 0.5} NA NA RandomForestClassifier 0.3053 0.3432 0.568 0.2084\n",
      "LD OHE NCL {'resampler__n_neighbors': 9, 'resampler__sampling_strategy': 'all'} NA NA RandomForestClassifier 0.1684 0.2443 0.5466 0.2083\n",
      "LD OHE TL {'resampler__sampling_strategy': 'all'} NA NA RandomForestClassifier 0.0842 0.1391 0.5195 0.1955\n",
      "LD OHE NA NA PCA {'transformer__n_components': 8} RandomForestClassifier 0.0105 0.0208 0.5053 0.2081\n",
      "LD OHE NA NA CFS {'transformer__k': 12} RandomForestClassifier 0.1053 0.1739 0.5338 0.2007\n",
      "LD OHE OSS {'resampler__n_neighbors': 3, 'resampler__n_seeds_S': 100, 'resampler__sampling_strategy': 'all'} PCA {'transformer__n_components': 17} RandomForestClassifier 0.0 0.0 0.5 0.2312\n",
      "LD OHE OSS {'resampler__n_neighbors': 3, 'resampler__n_seeds_S': 100, 'resampler__sampling_strategy': 'all'} CFS {'transformer__k': 17} RandomForestClassifier 0.0211 0.0408 0.5086 0.2112\n",
      "LD OHE ROS {'resampler__sampling_strategy': 0.5} PCA {'transformer__n_components': 17} RandomForestClassifier 0.0105 0.0208 0.5053 0.203\n",
      "LD OHE ROS {'resampler__sampling_strategy': 0.5} CFS {'transformer__k': 17} RandomForestClassifier 0.1684 0.227 0.5278 0.2088\n",
      "LD OHE SMT {'resampler__k_neighbors': 10, 'resampler__sampling_strategy': 0.5} PCA {'transformer__n_components': 17} RandomForestClassifier 0.0 0.0 0.4944 0.2046\n",
      "LD OHE SMT {'resampler__k_neighbors': 10, 'resampler__sampling_strategy': 0.5} CFS {'transformer__k': 17} RandomForestClassifier 0.1789 0.2313 0.5237 0.2106\n",
      "LD OHE ADA {'resampler__n_neighbors': 10, 'resampler__sampling_strategy': 0.5} PCA {'transformer__n_components': 17} RandomForestClassifier 0.0 0.0 0.5 0.1939\n",
      "LD OHE ADA {'resampler__n_neighbors': 10, 'resampler__sampling_strategy': 0.5} CFS {'transformer__k': 17} RandomForestClassifier 0.1263 0.1935 0.5312 0.1997\n"
     ]
    },
    {
     "ename": "KeyboardInterrupt",
     "evalue": "",
     "output_type": "error",
     "traceback": [
      "\u001b[1;31m---------------------------------------------------------------------------\u001b[0m",
      "\u001b[1;31mKeyboardInterrupt\u001b[0m                         Traceback (most recent call last)",
      "\u001b[1;32m<ipython-input-9-09e8689ab91a>\u001b[0m in \u001b[0;36m<module>\u001b[1;34m\u001b[0m\n\u001b[0;32m     78\u001b[0m \u001b[0mi\u001b[0m \u001b[1;33m=\u001b[0m \u001b[1;36m0\u001b[0m\u001b[1;33m\u001b[0m\u001b[1;33m\u001b[0m\u001b[0m\n\u001b[0;32m     79\u001b[0m \u001b[1;32mfor\u001b[0m \u001b[0mclassifier\u001b[0m \u001b[1;32min\u001b[0m \u001b[0mclassifiers\u001b[0m\u001b[1;33m:\u001b[0m\u001b[1;33m\u001b[0m\u001b[1;33m\u001b[0m\u001b[0m\n\u001b[1;32m---> 80\u001b[1;33m     \u001b[0mstat\u001b[0m \u001b[1;33m=\u001b[0m \u001b[0mclassify_master\u001b[0m\u001b[1;33m(\u001b[0m\u001b[0mX_train\u001b[0m\u001b[1;33m,\u001b[0m \u001b[0mX_test\u001b[0m\u001b[1;33m,\u001b[0m \u001b[0my_train\u001b[0m\u001b[1;33m,\u001b[0m \u001b[0my_test\u001b[0m\u001b[1;33m,\u001b[0m\u001b[1;34m'OHE'\u001b[0m\u001b[1;33m,\u001b[0m\u001b[0mclassifier\u001b[0m\u001b[1;33m)\u001b[0m\u001b[1;33m\u001b[0m\u001b[1;33m\u001b[0m\u001b[0m\n\u001b[0m\u001b[0;32m     81\u001b[0m     \u001b[0mstat\u001b[0m\u001b[1;33m[\u001b[0m\u001b[1;34m'ClassifierParameters'\u001b[0m\u001b[1;33m]\u001b[0m \u001b[1;33m=\u001b[0m \u001b[0mbestParametersList\u001b[0m\u001b[1;33m[\u001b[0m\u001b[0mi\u001b[0m\u001b[1;33m]\u001b[0m\u001b[1;33m\u001b[0m\u001b[1;33m\u001b[0m\u001b[0m\n\u001b[0;32m     82\u001b[0m     \u001b[0mpreprocess_technique_stat\u001b[0m \u001b[1;33m=\u001b[0m \u001b[0mpreprocess_technique_stat\u001b[0m\u001b[1;33m.\u001b[0m\u001b[0mappend\u001b[0m\u001b[1;33m(\u001b[0m\u001b[0mstat\u001b[0m\u001b[1;33m)\u001b[0m\u001b[1;33m\u001b[0m\u001b[1;33m\u001b[0m\u001b[0m\n",
      "\u001b[1;32m<ipython-input-3-540ed9f6aa5e>\u001b[0m in \u001b[0;36mclassify_master\u001b[1;34m(X_train, X_test, y_train, y_test, encoder_name, classifier)\u001b[0m\n\u001b[0;32m     36\u001b[0m     \u001b[0mpreprocess_technique_stat\u001b[0m \u001b[1;33m=\u001b[0m \u001b[0mpreprocess_technique_stat\u001b[0m\u001b[1;33m.\u001b[0m\u001b[0mappend\u001b[0m\u001b[1;33m(\u001b[0m\u001b[0mstat_reduce\u001b[0m\u001b[1;33m)\u001b[0m\u001b[1;33m\u001b[0m\u001b[1;33m\u001b[0m\u001b[0m\n\u001b[0;32m     37\u001b[0m \u001b[1;33m\u001b[0m\u001b[0m\n\u001b[1;32m---> 38\u001b[1;33m     \u001b[0mstat_combined\u001b[0m \u001b[1;33m=\u001b[0m \u001b[0mprocess_classify\u001b[0m\u001b[1;33m(\u001b[0m\u001b[0mX_train\u001b[0m\u001b[1;33m,\u001b[0m\u001b[0mX_test\u001b[0m\u001b[1;33m,\u001b[0m \u001b[0my_train\u001b[0m\u001b[1;33m,\u001b[0m\u001b[0my_test\u001b[0m\u001b[1;33m,\u001b[0m \u001b[0mratios\u001b[0m\u001b[1;33m,\u001b[0m\u001b[0mencoder_name\u001b[0m\u001b[1;33m,\u001b[0m\u001b[0mclassifier\u001b[0m\u001b[1;33m)\u001b[0m\u001b[1;33m\u001b[0m\u001b[1;33m\u001b[0m\u001b[0m\n\u001b[0m\u001b[0;32m     39\u001b[0m     \u001b[0mpreprocess_technique_stat\u001b[0m \u001b[1;33m=\u001b[0m \u001b[0mpreprocess_technique_stat\u001b[0m\u001b[1;33m.\u001b[0m\u001b[0mappend\u001b[0m\u001b[1;33m(\u001b[0m\u001b[0mstat_combined\u001b[0m\u001b[1;33m)\u001b[0m\u001b[1;33m\u001b[0m\u001b[1;33m\u001b[0m\u001b[0m\n\u001b[0;32m     40\u001b[0m \u001b[1;33m\u001b[0m\u001b[0m\n",
      "\u001b[1;32m<ipython-input-4-44339ded2706>\u001b[0m in \u001b[0;36mprocess_classify\u001b[1;34m(X_train, X_test, y_train, y_test, ratios, encoder, classifier)\u001b[0m\n\u001b[0;32m     72\u001b[0m     \u001b[0mresampler_instance\u001b[0m \u001b[1;33m=\u001b[0m \u001b[0mBorderlineSMOTE\u001b[0m\u001b[1;33m(\u001b[0m\u001b[0msampling_strategy\u001b[0m\u001b[1;33m=\u001b[0m\u001b[0mpSS\u001b[0m\u001b[1;33m,\u001b[0m\u001b[0mk_neighbors\u001b[0m\u001b[1;33m=\u001b[0m\u001b[0mpKN\u001b[0m\u001b[1;33m,\u001b[0m\u001b[0mkind\u001b[0m\u001b[1;33m=\u001b[0m\u001b[0mpKnd\u001b[0m\u001b[1;33m)\u001b[0m\u001b[1;33m\u001b[0m\u001b[1;33m\u001b[0m\u001b[0m\n\u001b[0;32m     73\u001b[0m     \u001b[0mX_resampled\u001b[0m\u001b[1;33m,\u001b[0m \u001b[0my_resampled\u001b[0m \u001b[1;33m=\u001b[0m \u001b[0mresampler_instance\u001b[0m\u001b[1;33m.\u001b[0m\u001b[0mfit_sample\u001b[0m\u001b[1;33m(\u001b[0m\u001b[0mX_train\u001b[0m\u001b[1;33m,\u001b[0m \u001b[0my_train\u001b[0m\u001b[1;33m)\u001b[0m\u001b[1;33m\u001b[0m\u001b[1;33m\u001b[0m\u001b[0m\n\u001b[1;32m---> 74\u001b[1;33m     \u001b[0mstat\u001b[0m \u001b[1;33m=\u001b[0m \u001b[0mreduce_classify\u001b[0m\u001b[1;33m(\u001b[0m\u001b[0mX_resampled\u001b[0m\u001b[1;33m,\u001b[0m\u001b[0my_resampled\u001b[0m\u001b[1;33m,\u001b[0m\u001b[0mX_test\u001b[0m\u001b[1;33m,\u001b[0m\u001b[0my_test\u001b[0m\u001b[1;33m,\u001b[0m\u001b[1;34m'SMT_BL'\u001b[0m\u001b[1;33m,\u001b[0m\u001b[0mgrid\u001b[0m\u001b[1;33m.\u001b[0m\u001b[0mbest_params_\u001b[0m\u001b[1;33m,\u001b[0m\u001b[0mencoder\u001b[0m\u001b[1;33m,\u001b[0m\u001b[0mclassifier\u001b[0m\u001b[1;33m)\u001b[0m\u001b[1;33m\u001b[0m\u001b[1;33m\u001b[0m\u001b[0m\n\u001b[0m\u001b[0;32m     75\u001b[0m     \u001b[0mresults\u001b[0m \u001b[1;33m=\u001b[0m \u001b[0mresults\u001b[0m\u001b[1;33m.\u001b[0m\u001b[0mappend\u001b[0m\u001b[1;33m(\u001b[0m\u001b[1;33m(\u001b[0m \u001b[0mstat\u001b[0m \u001b[1;33m)\u001b[0m\u001b[1;33m)\u001b[0m\u001b[1;33m\u001b[0m\u001b[1;33m\u001b[0m\u001b[0m\n\u001b[0;32m     76\u001b[0m \u001b[1;33m\u001b[0m\u001b[0m\n",
      "\u001b[1;32m<ipython-input-6-0e116e56343e>\u001b[0m in \u001b[0;36mreduce_classify\u001b[1;34m(X_train, y_train, X_test, y_test, resampler_name, parameterR, encoder, classifier)\u001b[0m\n\u001b[0;32m     13\u001b[0m     \u001b[0mparams\u001b[0m \u001b[1;33m=\u001b[0m \u001b[1;33m{\u001b[0m\u001b[1;34m'transformer__n_components'\u001b[0m \u001b[1;33m:\u001b[0m \u001b[0mn\u001b[0m\u001b[1;33m}\u001b[0m\u001b[1;33m\u001b[0m\u001b[1;33m\u001b[0m\u001b[0m\n\u001b[0;32m     14\u001b[0m     \u001b[0mgrid\u001b[0m \u001b[1;33m=\u001b[0m \u001b[0mGridSearchCV\u001b[0m\u001b[1;33m(\u001b[0m\u001b[0mpipeline\u001b[0m\u001b[1;33m,\u001b[0m \u001b[0mparams\u001b[0m\u001b[1;33m,\u001b[0m\u001b[0mcv\u001b[0m\u001b[1;33m=\u001b[0m\u001b[1;36m5\u001b[0m\u001b[1;33m,\u001b[0m\u001b[0mscoring\u001b[0m\u001b[1;33m=\u001b[0m\u001b[1;34m'roc_auc'\u001b[0m\u001b[1;33m)\u001b[0m\u001b[1;33m\u001b[0m\u001b[1;33m\u001b[0m\u001b[0m\n\u001b[1;32m---> 15\u001b[1;33m     \u001b[0mbest_model\u001b[0m \u001b[1;33m=\u001b[0m \u001b[0mgrid\u001b[0m\u001b[1;33m.\u001b[0m\u001b[0mfit\u001b[0m\u001b[1;33m(\u001b[0m\u001b[0mX_train\u001b[0m\u001b[1;33m,\u001b[0m \u001b[0my_train\u001b[0m\u001b[1;33m)\u001b[0m\u001b[1;33m\u001b[0m\u001b[1;33m\u001b[0m\u001b[0m\n\u001b[0m\u001b[0;32m     16\u001b[0m     \u001b[0mparameter_n_comp\u001b[0m \u001b[1;33m=\u001b[0m \u001b[0mgrid\u001b[0m\u001b[1;33m.\u001b[0m\u001b[0mbest_params_\u001b[0m\u001b[1;33m[\u001b[0m\u001b[1;34m'transformer__n_components'\u001b[0m\u001b[1;33m]\u001b[0m\u001b[1;33m\u001b[0m\u001b[1;33m\u001b[0m\u001b[0m\n\u001b[0;32m     17\u001b[0m     \u001b[0mpca\u001b[0m \u001b[1;33m=\u001b[0m \u001b[0mPCA\u001b[0m\u001b[1;33m(\u001b[0m\u001b[0mn_components\u001b[0m\u001b[1;33m=\u001b[0m\u001b[0mparameter_n_comp\u001b[0m\u001b[1;33m)\u001b[0m\u001b[1;33m\u001b[0m\u001b[1;33m\u001b[0m\u001b[0m\n",
      "\u001b[1;32m~\\Anaconda3\\lib\\site-packages\\sklearn\\model_selection\\_search.py\u001b[0m in \u001b[0;36mfit\u001b[1;34m(self, X, y, groups, **fit_params)\u001b[0m\n\u001b[0;32m    708\u001b[0m                 \u001b[1;32mreturn\u001b[0m \u001b[0mresults\u001b[0m\u001b[1;33m\u001b[0m\u001b[1;33m\u001b[0m\u001b[0m\n\u001b[0;32m    709\u001b[0m \u001b[1;33m\u001b[0m\u001b[0m\n\u001b[1;32m--> 710\u001b[1;33m             \u001b[0mself\u001b[0m\u001b[1;33m.\u001b[0m\u001b[0m_run_search\u001b[0m\u001b[1;33m(\u001b[0m\u001b[0mevaluate_candidates\u001b[0m\u001b[1;33m)\u001b[0m\u001b[1;33m\u001b[0m\u001b[1;33m\u001b[0m\u001b[0m\n\u001b[0m\u001b[0;32m    711\u001b[0m \u001b[1;33m\u001b[0m\u001b[0m\n\u001b[0;32m    712\u001b[0m         \u001b[1;31m# For multi-metric evaluation, store the best_index_, best_params_ and\u001b[0m\u001b[1;33m\u001b[0m\u001b[1;33m\u001b[0m\u001b[1;33m\u001b[0m\u001b[0m\n",
      "\u001b[1;32m~\\Anaconda3\\lib\\site-packages\\sklearn\\model_selection\\_search.py\u001b[0m in \u001b[0;36m_run_search\u001b[1;34m(self, evaluate_candidates)\u001b[0m\n\u001b[0;32m   1149\u001b[0m     \u001b[1;32mdef\u001b[0m \u001b[0m_run_search\u001b[0m\u001b[1;33m(\u001b[0m\u001b[0mself\u001b[0m\u001b[1;33m,\u001b[0m \u001b[0mevaluate_candidates\u001b[0m\u001b[1;33m)\u001b[0m\u001b[1;33m:\u001b[0m\u001b[1;33m\u001b[0m\u001b[1;33m\u001b[0m\u001b[0m\n\u001b[0;32m   1150\u001b[0m         \u001b[1;34m\"\"\"Search all candidates in param_grid\"\"\"\u001b[0m\u001b[1;33m\u001b[0m\u001b[1;33m\u001b[0m\u001b[0m\n\u001b[1;32m-> 1151\u001b[1;33m         \u001b[0mevaluate_candidates\u001b[0m\u001b[1;33m(\u001b[0m\u001b[0mParameterGrid\u001b[0m\u001b[1;33m(\u001b[0m\u001b[0mself\u001b[0m\u001b[1;33m.\u001b[0m\u001b[0mparam_grid\u001b[0m\u001b[1;33m)\u001b[0m\u001b[1;33m)\u001b[0m\u001b[1;33m\u001b[0m\u001b[1;33m\u001b[0m\u001b[0m\n\u001b[0m\u001b[0;32m   1152\u001b[0m \u001b[1;33m\u001b[0m\u001b[0m\n\u001b[0;32m   1153\u001b[0m \u001b[1;33m\u001b[0m\u001b[0m\n",
      "\u001b[1;32m~\\Anaconda3\\lib\\site-packages\\sklearn\\model_selection\\_search.py\u001b[0m in \u001b[0;36mevaluate_candidates\u001b[1;34m(candidate_params)\u001b[0m\n\u001b[0;32m    687\u001b[0m                                \u001b[1;32mfor\u001b[0m \u001b[0mparameters\u001b[0m\u001b[1;33m,\u001b[0m \u001b[1;33m(\u001b[0m\u001b[0mtrain\u001b[0m\u001b[1;33m,\u001b[0m \u001b[0mtest\u001b[0m\u001b[1;33m)\u001b[0m\u001b[1;33m\u001b[0m\u001b[1;33m\u001b[0m\u001b[0m\n\u001b[0;32m    688\u001b[0m                                in product(candidate_params,\n\u001b[1;32m--> 689\u001b[1;33m                                           cv.split(X, y, groups)))\n\u001b[0m\u001b[0;32m    690\u001b[0m \u001b[1;33m\u001b[0m\u001b[0m\n\u001b[0;32m    691\u001b[0m                 \u001b[1;32mif\u001b[0m \u001b[0mlen\u001b[0m\u001b[1;33m(\u001b[0m\u001b[0mout\u001b[0m\u001b[1;33m)\u001b[0m \u001b[1;33m<\u001b[0m \u001b[1;36m1\u001b[0m\u001b[1;33m:\u001b[0m\u001b[1;33m\u001b[0m\u001b[1;33m\u001b[0m\u001b[0m\n",
      "\u001b[1;32m~\\Anaconda3\\lib\\site-packages\\joblib\\parallel.py\u001b[0m in \u001b[0;36m__call__\u001b[1;34m(self, iterable)\u001b[0m\n\u001b[0;32m    922\u001b[0m                 \u001b[0mself\u001b[0m\u001b[1;33m.\u001b[0m\u001b[0m_iterating\u001b[0m \u001b[1;33m=\u001b[0m \u001b[0mself\u001b[0m\u001b[1;33m.\u001b[0m\u001b[0m_original_iterator\u001b[0m \u001b[1;32mis\u001b[0m \u001b[1;32mnot\u001b[0m \u001b[1;32mNone\u001b[0m\u001b[1;33m\u001b[0m\u001b[1;33m\u001b[0m\u001b[0m\n\u001b[0;32m    923\u001b[0m \u001b[1;33m\u001b[0m\u001b[0m\n\u001b[1;32m--> 924\u001b[1;33m             \u001b[1;32mwhile\u001b[0m \u001b[0mself\u001b[0m\u001b[1;33m.\u001b[0m\u001b[0mdispatch_one_batch\u001b[0m\u001b[1;33m(\u001b[0m\u001b[0miterator\u001b[0m\u001b[1;33m)\u001b[0m\u001b[1;33m:\u001b[0m\u001b[1;33m\u001b[0m\u001b[1;33m\u001b[0m\u001b[0m\n\u001b[0m\u001b[0;32m    925\u001b[0m                 \u001b[1;32mpass\u001b[0m\u001b[1;33m\u001b[0m\u001b[1;33m\u001b[0m\u001b[0m\n\u001b[0;32m    926\u001b[0m \u001b[1;33m\u001b[0m\u001b[0m\n",
      "\u001b[1;32m~\\Anaconda3\\lib\\site-packages\\joblib\\parallel.py\u001b[0m in \u001b[0;36mdispatch_one_batch\u001b[1;34m(self, iterator)\u001b[0m\n\u001b[0;32m    757\u001b[0m                 \u001b[1;32mreturn\u001b[0m \u001b[1;32mFalse\u001b[0m\u001b[1;33m\u001b[0m\u001b[1;33m\u001b[0m\u001b[0m\n\u001b[0;32m    758\u001b[0m             \u001b[1;32melse\u001b[0m\u001b[1;33m:\u001b[0m\u001b[1;33m\u001b[0m\u001b[1;33m\u001b[0m\u001b[0m\n\u001b[1;32m--> 759\u001b[1;33m                 \u001b[0mself\u001b[0m\u001b[1;33m.\u001b[0m\u001b[0m_dispatch\u001b[0m\u001b[1;33m(\u001b[0m\u001b[0mtasks\u001b[0m\u001b[1;33m)\u001b[0m\u001b[1;33m\u001b[0m\u001b[1;33m\u001b[0m\u001b[0m\n\u001b[0m\u001b[0;32m    760\u001b[0m                 \u001b[1;32mreturn\u001b[0m \u001b[1;32mTrue\u001b[0m\u001b[1;33m\u001b[0m\u001b[1;33m\u001b[0m\u001b[0m\n\u001b[0;32m    761\u001b[0m \u001b[1;33m\u001b[0m\u001b[0m\n",
      "\u001b[1;32m~\\Anaconda3\\lib\\site-packages\\joblib\\parallel.py\u001b[0m in \u001b[0;36m_dispatch\u001b[1;34m(self, batch)\u001b[0m\n\u001b[0;32m    714\u001b[0m         \u001b[1;32mwith\u001b[0m \u001b[0mself\u001b[0m\u001b[1;33m.\u001b[0m\u001b[0m_lock\u001b[0m\u001b[1;33m:\u001b[0m\u001b[1;33m\u001b[0m\u001b[1;33m\u001b[0m\u001b[0m\n\u001b[0;32m    715\u001b[0m             \u001b[0mjob_idx\u001b[0m \u001b[1;33m=\u001b[0m \u001b[0mlen\u001b[0m\u001b[1;33m(\u001b[0m\u001b[0mself\u001b[0m\u001b[1;33m.\u001b[0m\u001b[0m_jobs\u001b[0m\u001b[1;33m)\u001b[0m\u001b[1;33m\u001b[0m\u001b[1;33m\u001b[0m\u001b[0m\n\u001b[1;32m--> 716\u001b[1;33m             \u001b[0mjob\u001b[0m \u001b[1;33m=\u001b[0m \u001b[0mself\u001b[0m\u001b[1;33m.\u001b[0m\u001b[0m_backend\u001b[0m\u001b[1;33m.\u001b[0m\u001b[0mapply_async\u001b[0m\u001b[1;33m(\u001b[0m\u001b[0mbatch\u001b[0m\u001b[1;33m,\u001b[0m \u001b[0mcallback\u001b[0m\u001b[1;33m=\u001b[0m\u001b[0mcb\u001b[0m\u001b[1;33m)\u001b[0m\u001b[1;33m\u001b[0m\u001b[1;33m\u001b[0m\u001b[0m\n\u001b[0m\u001b[0;32m    717\u001b[0m             \u001b[1;31m# A job can complete so quickly than its callback is\u001b[0m\u001b[1;33m\u001b[0m\u001b[1;33m\u001b[0m\u001b[1;33m\u001b[0m\u001b[0m\n\u001b[0;32m    718\u001b[0m             \u001b[1;31m# called before we get here, causing self._jobs to\u001b[0m\u001b[1;33m\u001b[0m\u001b[1;33m\u001b[0m\u001b[1;33m\u001b[0m\u001b[0m\n",
      "\u001b[1;32m~\\Anaconda3\\lib\\site-packages\\joblib\\_parallel_backends.py\u001b[0m in \u001b[0;36mapply_async\u001b[1;34m(self, func, callback)\u001b[0m\n\u001b[0;32m    180\u001b[0m     \u001b[1;32mdef\u001b[0m \u001b[0mapply_async\u001b[0m\u001b[1;33m(\u001b[0m\u001b[0mself\u001b[0m\u001b[1;33m,\u001b[0m \u001b[0mfunc\u001b[0m\u001b[1;33m,\u001b[0m \u001b[0mcallback\u001b[0m\u001b[1;33m=\u001b[0m\u001b[1;32mNone\u001b[0m\u001b[1;33m)\u001b[0m\u001b[1;33m:\u001b[0m\u001b[1;33m\u001b[0m\u001b[1;33m\u001b[0m\u001b[0m\n\u001b[0;32m    181\u001b[0m         \u001b[1;34m\"\"\"Schedule a func to be run\"\"\"\u001b[0m\u001b[1;33m\u001b[0m\u001b[1;33m\u001b[0m\u001b[0m\n\u001b[1;32m--> 182\u001b[1;33m         \u001b[0mresult\u001b[0m \u001b[1;33m=\u001b[0m \u001b[0mImmediateResult\u001b[0m\u001b[1;33m(\u001b[0m\u001b[0mfunc\u001b[0m\u001b[1;33m)\u001b[0m\u001b[1;33m\u001b[0m\u001b[1;33m\u001b[0m\u001b[0m\n\u001b[0m\u001b[0;32m    183\u001b[0m         \u001b[1;32mif\u001b[0m \u001b[0mcallback\u001b[0m\u001b[1;33m:\u001b[0m\u001b[1;33m\u001b[0m\u001b[1;33m\u001b[0m\u001b[0m\n\u001b[0;32m    184\u001b[0m             \u001b[0mcallback\u001b[0m\u001b[1;33m(\u001b[0m\u001b[0mresult\u001b[0m\u001b[1;33m)\u001b[0m\u001b[1;33m\u001b[0m\u001b[1;33m\u001b[0m\u001b[0m\n",
      "\u001b[1;32m~\\Anaconda3\\lib\\site-packages\\joblib\\_parallel_backends.py\u001b[0m in \u001b[0;36m__init__\u001b[1;34m(self, batch)\u001b[0m\n\u001b[0;32m    547\u001b[0m         \u001b[1;31m# Don't delay the application, to avoid keeping the input\u001b[0m\u001b[1;33m\u001b[0m\u001b[1;33m\u001b[0m\u001b[1;33m\u001b[0m\u001b[0m\n\u001b[0;32m    548\u001b[0m         \u001b[1;31m# arguments in memory\u001b[0m\u001b[1;33m\u001b[0m\u001b[1;33m\u001b[0m\u001b[1;33m\u001b[0m\u001b[0m\n\u001b[1;32m--> 549\u001b[1;33m         \u001b[0mself\u001b[0m\u001b[1;33m.\u001b[0m\u001b[0mresults\u001b[0m \u001b[1;33m=\u001b[0m \u001b[0mbatch\u001b[0m\u001b[1;33m(\u001b[0m\u001b[1;33m)\u001b[0m\u001b[1;33m\u001b[0m\u001b[1;33m\u001b[0m\u001b[0m\n\u001b[0m\u001b[0;32m    550\u001b[0m \u001b[1;33m\u001b[0m\u001b[0m\n\u001b[0;32m    551\u001b[0m     \u001b[1;32mdef\u001b[0m \u001b[0mget\u001b[0m\u001b[1;33m(\u001b[0m\u001b[0mself\u001b[0m\u001b[1;33m)\u001b[0m\u001b[1;33m:\u001b[0m\u001b[1;33m\u001b[0m\u001b[1;33m\u001b[0m\u001b[0m\n",
      "\u001b[1;32m~\\Anaconda3\\lib\\site-packages\\joblib\\parallel.py\u001b[0m in \u001b[0;36m__call__\u001b[1;34m(self)\u001b[0m\n\u001b[0;32m    223\u001b[0m         \u001b[1;32mwith\u001b[0m \u001b[0mparallel_backend\u001b[0m\u001b[1;33m(\u001b[0m\u001b[0mself\u001b[0m\u001b[1;33m.\u001b[0m\u001b[0m_backend\u001b[0m\u001b[1;33m,\u001b[0m \u001b[0mn_jobs\u001b[0m\u001b[1;33m=\u001b[0m\u001b[0mself\u001b[0m\u001b[1;33m.\u001b[0m\u001b[0m_n_jobs\u001b[0m\u001b[1;33m)\u001b[0m\u001b[1;33m:\u001b[0m\u001b[1;33m\u001b[0m\u001b[1;33m\u001b[0m\u001b[0m\n\u001b[0;32m    224\u001b[0m             return [func(*args, **kwargs)\n\u001b[1;32m--> 225\u001b[1;33m                     for func, args, kwargs in self.items]\n\u001b[0m\u001b[0;32m    226\u001b[0m \u001b[1;33m\u001b[0m\u001b[0m\n\u001b[0;32m    227\u001b[0m     \u001b[1;32mdef\u001b[0m \u001b[0m__len__\u001b[0m\u001b[1;33m(\u001b[0m\u001b[0mself\u001b[0m\u001b[1;33m)\u001b[0m\u001b[1;33m:\u001b[0m\u001b[1;33m\u001b[0m\u001b[1;33m\u001b[0m\u001b[0m\n",
      "\u001b[1;32m~\\Anaconda3\\lib\\site-packages\\joblib\\parallel.py\u001b[0m in \u001b[0;36m<listcomp>\u001b[1;34m(.0)\u001b[0m\n\u001b[0;32m    223\u001b[0m         \u001b[1;32mwith\u001b[0m \u001b[0mparallel_backend\u001b[0m\u001b[1;33m(\u001b[0m\u001b[0mself\u001b[0m\u001b[1;33m.\u001b[0m\u001b[0m_backend\u001b[0m\u001b[1;33m,\u001b[0m \u001b[0mn_jobs\u001b[0m\u001b[1;33m=\u001b[0m\u001b[0mself\u001b[0m\u001b[1;33m.\u001b[0m\u001b[0m_n_jobs\u001b[0m\u001b[1;33m)\u001b[0m\u001b[1;33m:\u001b[0m\u001b[1;33m\u001b[0m\u001b[1;33m\u001b[0m\u001b[0m\n\u001b[0;32m    224\u001b[0m             return [func(*args, **kwargs)\n\u001b[1;32m--> 225\u001b[1;33m                     for func, args, kwargs in self.items]\n\u001b[0m\u001b[0;32m    226\u001b[0m \u001b[1;33m\u001b[0m\u001b[0m\n\u001b[0;32m    227\u001b[0m     \u001b[1;32mdef\u001b[0m \u001b[0m__len__\u001b[0m\u001b[1;33m(\u001b[0m\u001b[0mself\u001b[0m\u001b[1;33m)\u001b[0m\u001b[1;33m:\u001b[0m\u001b[1;33m\u001b[0m\u001b[1;33m\u001b[0m\u001b[0m\n",
      "\u001b[1;32m~\\Anaconda3\\lib\\site-packages\\sklearn\\model_selection\\_validation.py\u001b[0m in \u001b[0;36m_fit_and_score\u001b[1;34m(estimator, X, y, scorer, train, test, verbose, parameters, fit_params, return_train_score, return_parameters, return_n_test_samples, return_times, return_estimator, error_score)\u001b[0m\n\u001b[0;32m    513\u001b[0m             \u001b[0mestimator\u001b[0m\u001b[1;33m.\u001b[0m\u001b[0mfit\u001b[0m\u001b[1;33m(\u001b[0m\u001b[0mX_train\u001b[0m\u001b[1;33m,\u001b[0m \u001b[1;33m**\u001b[0m\u001b[0mfit_params\u001b[0m\u001b[1;33m)\u001b[0m\u001b[1;33m\u001b[0m\u001b[1;33m\u001b[0m\u001b[0m\n\u001b[0;32m    514\u001b[0m         \u001b[1;32melse\u001b[0m\u001b[1;33m:\u001b[0m\u001b[1;33m\u001b[0m\u001b[1;33m\u001b[0m\u001b[0m\n\u001b[1;32m--> 515\u001b[1;33m             \u001b[0mestimator\u001b[0m\u001b[1;33m.\u001b[0m\u001b[0mfit\u001b[0m\u001b[1;33m(\u001b[0m\u001b[0mX_train\u001b[0m\u001b[1;33m,\u001b[0m \u001b[0my_train\u001b[0m\u001b[1;33m,\u001b[0m \u001b[1;33m**\u001b[0m\u001b[0mfit_params\u001b[0m\u001b[1;33m)\u001b[0m\u001b[1;33m\u001b[0m\u001b[1;33m\u001b[0m\u001b[0m\n\u001b[0m\u001b[0;32m    516\u001b[0m \u001b[1;33m\u001b[0m\u001b[0m\n\u001b[0;32m    517\u001b[0m     \u001b[1;32mexcept\u001b[0m \u001b[0mException\u001b[0m \u001b[1;32mas\u001b[0m \u001b[0me\u001b[0m\u001b[1;33m:\u001b[0m\u001b[1;33m\u001b[0m\u001b[1;33m\u001b[0m\u001b[0m\n",
      "\u001b[1;32m~\\AppData\\Roaming\\Python\\Python37\\site-packages\\imblearn\\pipeline.py\u001b[0m in \u001b[0;36mfit\u001b[1;34m(self, X, y, **fit_params)\u001b[0m\n\u001b[0;32m    289\u001b[0m                                  self._log_message(len(self.steps) - 1)):\n\u001b[0;32m    290\u001b[0m             \u001b[1;32mif\u001b[0m \u001b[0mself\u001b[0m\u001b[1;33m.\u001b[0m\u001b[0m_final_estimator\u001b[0m \u001b[1;33m!=\u001b[0m \u001b[1;34m\"passthrough\"\u001b[0m\u001b[1;33m:\u001b[0m\u001b[1;33m\u001b[0m\u001b[1;33m\u001b[0m\u001b[0m\n\u001b[1;32m--> 291\u001b[1;33m                 \u001b[0mself\u001b[0m\u001b[1;33m.\u001b[0m\u001b[0m_final_estimator\u001b[0m\u001b[1;33m.\u001b[0m\u001b[0mfit\u001b[0m\u001b[1;33m(\u001b[0m\u001b[0mXt\u001b[0m\u001b[1;33m,\u001b[0m \u001b[0myt\u001b[0m\u001b[1;33m,\u001b[0m \u001b[1;33m**\u001b[0m\u001b[0mfit_params\u001b[0m\u001b[1;33m)\u001b[0m\u001b[1;33m\u001b[0m\u001b[1;33m\u001b[0m\u001b[0m\n\u001b[0m\u001b[0;32m    292\u001b[0m         \u001b[1;32mreturn\u001b[0m \u001b[0mself\u001b[0m\u001b[1;33m\u001b[0m\u001b[1;33m\u001b[0m\u001b[0m\n\u001b[0;32m    293\u001b[0m \u001b[1;33m\u001b[0m\u001b[0m\n",
      "\u001b[1;32m~\\Anaconda3\\lib\\site-packages\\sklearn\\ensemble\\_forest.py\u001b[0m in \u001b[0;36mfit\u001b[1;34m(self, X, y, sample_weight)\u001b[0m\n\u001b[0;32m    381\u001b[0m                     \u001b[0mverbose\u001b[0m\u001b[1;33m=\u001b[0m\u001b[0mself\u001b[0m\u001b[1;33m.\u001b[0m\u001b[0mverbose\u001b[0m\u001b[1;33m,\u001b[0m \u001b[0mclass_weight\u001b[0m\u001b[1;33m=\u001b[0m\u001b[0mself\u001b[0m\u001b[1;33m.\u001b[0m\u001b[0mclass_weight\u001b[0m\u001b[1;33m,\u001b[0m\u001b[1;33m\u001b[0m\u001b[1;33m\u001b[0m\u001b[0m\n\u001b[0;32m    382\u001b[0m                     n_samples_bootstrap=n_samples_bootstrap)\n\u001b[1;32m--> 383\u001b[1;33m                 for i, t in enumerate(trees))\n\u001b[0m\u001b[0;32m    384\u001b[0m \u001b[1;33m\u001b[0m\u001b[0m\n\u001b[0;32m    385\u001b[0m             \u001b[1;31m# Collect newly grown trees\u001b[0m\u001b[1;33m\u001b[0m\u001b[1;33m\u001b[0m\u001b[1;33m\u001b[0m\u001b[0m\n",
      "\u001b[1;32m~\\Anaconda3\\lib\\site-packages\\joblib\\parallel.py\u001b[0m in \u001b[0;36m__call__\u001b[1;34m(self, iterable)\u001b[0m\n\u001b[0;32m    922\u001b[0m                 \u001b[0mself\u001b[0m\u001b[1;33m.\u001b[0m\u001b[0m_iterating\u001b[0m \u001b[1;33m=\u001b[0m \u001b[0mself\u001b[0m\u001b[1;33m.\u001b[0m\u001b[0m_original_iterator\u001b[0m \u001b[1;32mis\u001b[0m \u001b[1;32mnot\u001b[0m \u001b[1;32mNone\u001b[0m\u001b[1;33m\u001b[0m\u001b[1;33m\u001b[0m\u001b[0m\n\u001b[0;32m    923\u001b[0m \u001b[1;33m\u001b[0m\u001b[0m\n\u001b[1;32m--> 924\u001b[1;33m             \u001b[1;32mwhile\u001b[0m \u001b[0mself\u001b[0m\u001b[1;33m.\u001b[0m\u001b[0mdispatch_one_batch\u001b[0m\u001b[1;33m(\u001b[0m\u001b[0miterator\u001b[0m\u001b[1;33m)\u001b[0m\u001b[1;33m:\u001b[0m\u001b[1;33m\u001b[0m\u001b[1;33m\u001b[0m\u001b[0m\n\u001b[0m\u001b[0;32m    925\u001b[0m                 \u001b[1;32mpass\u001b[0m\u001b[1;33m\u001b[0m\u001b[1;33m\u001b[0m\u001b[0m\n\u001b[0;32m    926\u001b[0m \u001b[1;33m\u001b[0m\u001b[0m\n",
      "\u001b[1;32m~\\Anaconda3\\lib\\site-packages\\joblib\\parallel.py\u001b[0m in \u001b[0;36mdispatch_one_batch\u001b[1;34m(self, iterator)\u001b[0m\n\u001b[0;32m    757\u001b[0m                 \u001b[1;32mreturn\u001b[0m \u001b[1;32mFalse\u001b[0m\u001b[1;33m\u001b[0m\u001b[1;33m\u001b[0m\u001b[0m\n\u001b[0;32m    758\u001b[0m             \u001b[1;32melse\u001b[0m\u001b[1;33m:\u001b[0m\u001b[1;33m\u001b[0m\u001b[1;33m\u001b[0m\u001b[0m\n\u001b[1;32m--> 759\u001b[1;33m                 \u001b[0mself\u001b[0m\u001b[1;33m.\u001b[0m\u001b[0m_dispatch\u001b[0m\u001b[1;33m(\u001b[0m\u001b[0mtasks\u001b[0m\u001b[1;33m)\u001b[0m\u001b[1;33m\u001b[0m\u001b[1;33m\u001b[0m\u001b[0m\n\u001b[0m\u001b[0;32m    760\u001b[0m                 \u001b[1;32mreturn\u001b[0m \u001b[1;32mTrue\u001b[0m\u001b[1;33m\u001b[0m\u001b[1;33m\u001b[0m\u001b[0m\n\u001b[0;32m    761\u001b[0m \u001b[1;33m\u001b[0m\u001b[0m\n",
      "\u001b[1;32m~\\Anaconda3\\lib\\site-packages\\joblib\\parallel.py\u001b[0m in \u001b[0;36m_dispatch\u001b[1;34m(self, batch)\u001b[0m\n\u001b[0;32m    714\u001b[0m         \u001b[1;32mwith\u001b[0m \u001b[0mself\u001b[0m\u001b[1;33m.\u001b[0m\u001b[0m_lock\u001b[0m\u001b[1;33m:\u001b[0m\u001b[1;33m\u001b[0m\u001b[1;33m\u001b[0m\u001b[0m\n\u001b[0;32m    715\u001b[0m             \u001b[0mjob_idx\u001b[0m \u001b[1;33m=\u001b[0m \u001b[0mlen\u001b[0m\u001b[1;33m(\u001b[0m\u001b[0mself\u001b[0m\u001b[1;33m.\u001b[0m\u001b[0m_jobs\u001b[0m\u001b[1;33m)\u001b[0m\u001b[1;33m\u001b[0m\u001b[1;33m\u001b[0m\u001b[0m\n\u001b[1;32m--> 716\u001b[1;33m             \u001b[0mjob\u001b[0m \u001b[1;33m=\u001b[0m \u001b[0mself\u001b[0m\u001b[1;33m.\u001b[0m\u001b[0m_backend\u001b[0m\u001b[1;33m.\u001b[0m\u001b[0mapply_async\u001b[0m\u001b[1;33m(\u001b[0m\u001b[0mbatch\u001b[0m\u001b[1;33m,\u001b[0m \u001b[0mcallback\u001b[0m\u001b[1;33m=\u001b[0m\u001b[0mcb\u001b[0m\u001b[1;33m)\u001b[0m\u001b[1;33m\u001b[0m\u001b[1;33m\u001b[0m\u001b[0m\n\u001b[0m\u001b[0;32m    717\u001b[0m             \u001b[1;31m# A job can complete so quickly than its callback is\u001b[0m\u001b[1;33m\u001b[0m\u001b[1;33m\u001b[0m\u001b[1;33m\u001b[0m\u001b[0m\n\u001b[0;32m    718\u001b[0m             \u001b[1;31m# called before we get here, causing self._jobs to\u001b[0m\u001b[1;33m\u001b[0m\u001b[1;33m\u001b[0m\u001b[1;33m\u001b[0m\u001b[0m\n",
      "\u001b[1;32m~\\Anaconda3\\lib\\site-packages\\joblib\\_parallel_backends.py\u001b[0m in \u001b[0;36mapply_async\u001b[1;34m(self, func, callback)\u001b[0m\n\u001b[0;32m    180\u001b[0m     \u001b[1;32mdef\u001b[0m \u001b[0mapply_async\u001b[0m\u001b[1;33m(\u001b[0m\u001b[0mself\u001b[0m\u001b[1;33m,\u001b[0m \u001b[0mfunc\u001b[0m\u001b[1;33m,\u001b[0m \u001b[0mcallback\u001b[0m\u001b[1;33m=\u001b[0m\u001b[1;32mNone\u001b[0m\u001b[1;33m)\u001b[0m\u001b[1;33m:\u001b[0m\u001b[1;33m\u001b[0m\u001b[1;33m\u001b[0m\u001b[0m\n\u001b[0;32m    181\u001b[0m         \u001b[1;34m\"\"\"Schedule a func to be run\"\"\"\u001b[0m\u001b[1;33m\u001b[0m\u001b[1;33m\u001b[0m\u001b[0m\n\u001b[1;32m--> 182\u001b[1;33m         \u001b[0mresult\u001b[0m \u001b[1;33m=\u001b[0m \u001b[0mImmediateResult\u001b[0m\u001b[1;33m(\u001b[0m\u001b[0mfunc\u001b[0m\u001b[1;33m)\u001b[0m\u001b[1;33m\u001b[0m\u001b[1;33m\u001b[0m\u001b[0m\n\u001b[0m\u001b[0;32m    183\u001b[0m         \u001b[1;32mif\u001b[0m \u001b[0mcallback\u001b[0m\u001b[1;33m:\u001b[0m\u001b[1;33m\u001b[0m\u001b[1;33m\u001b[0m\u001b[0m\n\u001b[0;32m    184\u001b[0m             \u001b[0mcallback\u001b[0m\u001b[1;33m(\u001b[0m\u001b[0mresult\u001b[0m\u001b[1;33m)\u001b[0m\u001b[1;33m\u001b[0m\u001b[1;33m\u001b[0m\u001b[0m\n",
      "\u001b[1;32m~\\Anaconda3\\lib\\site-packages\\joblib\\_parallel_backends.py\u001b[0m in \u001b[0;36m__init__\u001b[1;34m(self, batch)\u001b[0m\n\u001b[0;32m    547\u001b[0m         \u001b[1;31m# Don't delay the application, to avoid keeping the input\u001b[0m\u001b[1;33m\u001b[0m\u001b[1;33m\u001b[0m\u001b[1;33m\u001b[0m\u001b[0m\n\u001b[0;32m    548\u001b[0m         \u001b[1;31m# arguments in memory\u001b[0m\u001b[1;33m\u001b[0m\u001b[1;33m\u001b[0m\u001b[1;33m\u001b[0m\u001b[0m\n\u001b[1;32m--> 549\u001b[1;33m         \u001b[0mself\u001b[0m\u001b[1;33m.\u001b[0m\u001b[0mresults\u001b[0m \u001b[1;33m=\u001b[0m \u001b[0mbatch\u001b[0m\u001b[1;33m(\u001b[0m\u001b[1;33m)\u001b[0m\u001b[1;33m\u001b[0m\u001b[1;33m\u001b[0m\u001b[0m\n\u001b[0m\u001b[0;32m    550\u001b[0m \u001b[1;33m\u001b[0m\u001b[0m\n\u001b[0;32m    551\u001b[0m     \u001b[1;32mdef\u001b[0m \u001b[0mget\u001b[0m\u001b[1;33m(\u001b[0m\u001b[0mself\u001b[0m\u001b[1;33m)\u001b[0m\u001b[1;33m:\u001b[0m\u001b[1;33m\u001b[0m\u001b[1;33m\u001b[0m\u001b[0m\n",
      "\u001b[1;32m~\\Anaconda3\\lib\\site-packages\\joblib\\parallel.py\u001b[0m in \u001b[0;36m__call__\u001b[1;34m(self)\u001b[0m\n\u001b[0;32m    223\u001b[0m         \u001b[1;32mwith\u001b[0m \u001b[0mparallel_backend\u001b[0m\u001b[1;33m(\u001b[0m\u001b[0mself\u001b[0m\u001b[1;33m.\u001b[0m\u001b[0m_backend\u001b[0m\u001b[1;33m,\u001b[0m \u001b[0mn_jobs\u001b[0m\u001b[1;33m=\u001b[0m\u001b[0mself\u001b[0m\u001b[1;33m.\u001b[0m\u001b[0m_n_jobs\u001b[0m\u001b[1;33m)\u001b[0m\u001b[1;33m:\u001b[0m\u001b[1;33m\u001b[0m\u001b[1;33m\u001b[0m\u001b[0m\n\u001b[0;32m    224\u001b[0m             return [func(*args, **kwargs)\n\u001b[1;32m--> 225\u001b[1;33m                     for func, args, kwargs in self.items]\n\u001b[0m\u001b[0;32m    226\u001b[0m \u001b[1;33m\u001b[0m\u001b[0m\n\u001b[0;32m    227\u001b[0m     \u001b[1;32mdef\u001b[0m \u001b[0m__len__\u001b[0m\u001b[1;33m(\u001b[0m\u001b[0mself\u001b[0m\u001b[1;33m)\u001b[0m\u001b[1;33m:\u001b[0m\u001b[1;33m\u001b[0m\u001b[1;33m\u001b[0m\u001b[0m\n",
      "\u001b[1;32m~\\Anaconda3\\lib\\site-packages\\joblib\\parallel.py\u001b[0m in \u001b[0;36m<listcomp>\u001b[1;34m(.0)\u001b[0m\n\u001b[0;32m    223\u001b[0m         \u001b[1;32mwith\u001b[0m \u001b[0mparallel_backend\u001b[0m\u001b[1;33m(\u001b[0m\u001b[0mself\u001b[0m\u001b[1;33m.\u001b[0m\u001b[0m_backend\u001b[0m\u001b[1;33m,\u001b[0m \u001b[0mn_jobs\u001b[0m\u001b[1;33m=\u001b[0m\u001b[0mself\u001b[0m\u001b[1;33m.\u001b[0m\u001b[0m_n_jobs\u001b[0m\u001b[1;33m)\u001b[0m\u001b[1;33m:\u001b[0m\u001b[1;33m\u001b[0m\u001b[1;33m\u001b[0m\u001b[0m\n\u001b[0;32m    224\u001b[0m             return [func(*args, **kwargs)\n\u001b[1;32m--> 225\u001b[1;33m                     for func, args, kwargs in self.items]\n\u001b[0m\u001b[0;32m    226\u001b[0m \u001b[1;33m\u001b[0m\u001b[0m\n\u001b[0;32m    227\u001b[0m     \u001b[1;32mdef\u001b[0m \u001b[0m__len__\u001b[0m\u001b[1;33m(\u001b[0m\u001b[0mself\u001b[0m\u001b[1;33m)\u001b[0m\u001b[1;33m:\u001b[0m\u001b[1;33m\u001b[0m\u001b[1;33m\u001b[0m\u001b[0m\n",
      "\u001b[1;32m~\\Anaconda3\\lib\\site-packages\\sklearn\\ensemble\\_forest.py\u001b[0m in \u001b[0;36m_parallel_build_trees\u001b[1;34m(tree, forest, X, y, sample_weight, tree_idx, n_trees, verbose, class_weight, n_samples_bootstrap)\u001b[0m\n\u001b[0;32m    163\u001b[0m             \u001b[0mcurr_sample_weight\u001b[0m \u001b[1;33m*=\u001b[0m \u001b[0mcompute_sample_weight\u001b[0m\u001b[1;33m(\u001b[0m\u001b[1;34m'balanced'\u001b[0m\u001b[1;33m,\u001b[0m \u001b[0my\u001b[0m\u001b[1;33m,\u001b[0m \u001b[0mindices\u001b[0m\u001b[1;33m)\u001b[0m\u001b[1;33m\u001b[0m\u001b[1;33m\u001b[0m\u001b[0m\n\u001b[0;32m    164\u001b[0m \u001b[1;33m\u001b[0m\u001b[0m\n\u001b[1;32m--> 165\u001b[1;33m         \u001b[0mtree\u001b[0m\u001b[1;33m.\u001b[0m\u001b[0mfit\u001b[0m\u001b[1;33m(\u001b[0m\u001b[0mX\u001b[0m\u001b[1;33m,\u001b[0m \u001b[0my\u001b[0m\u001b[1;33m,\u001b[0m \u001b[0msample_weight\u001b[0m\u001b[1;33m=\u001b[0m\u001b[0mcurr_sample_weight\u001b[0m\u001b[1;33m,\u001b[0m \u001b[0mcheck_input\u001b[0m\u001b[1;33m=\u001b[0m\u001b[1;32mFalse\u001b[0m\u001b[1;33m)\u001b[0m\u001b[1;33m\u001b[0m\u001b[1;33m\u001b[0m\u001b[0m\n\u001b[0m\u001b[0;32m    166\u001b[0m     \u001b[1;32melse\u001b[0m\u001b[1;33m:\u001b[0m\u001b[1;33m\u001b[0m\u001b[1;33m\u001b[0m\u001b[0m\n\u001b[0;32m    167\u001b[0m         \u001b[0mtree\u001b[0m\u001b[1;33m.\u001b[0m\u001b[0mfit\u001b[0m\u001b[1;33m(\u001b[0m\u001b[0mX\u001b[0m\u001b[1;33m,\u001b[0m \u001b[0my\u001b[0m\u001b[1;33m,\u001b[0m \u001b[0msample_weight\u001b[0m\u001b[1;33m=\u001b[0m\u001b[0msample_weight\u001b[0m\u001b[1;33m,\u001b[0m \u001b[0mcheck_input\u001b[0m\u001b[1;33m=\u001b[0m\u001b[1;32mFalse\u001b[0m\u001b[1;33m)\u001b[0m\u001b[1;33m\u001b[0m\u001b[1;33m\u001b[0m\u001b[0m\n",
      "\u001b[1;32m~\\Anaconda3\\lib\\site-packages\\sklearn\\tree\\_classes.py\u001b[0m in \u001b[0;36mfit\u001b[1;34m(self, X, y, sample_weight, check_input, X_idx_sorted)\u001b[0m\n\u001b[0;32m    875\u001b[0m             \u001b[0msample_weight\u001b[0m\u001b[1;33m=\u001b[0m\u001b[0msample_weight\u001b[0m\u001b[1;33m,\u001b[0m\u001b[1;33m\u001b[0m\u001b[1;33m\u001b[0m\u001b[0m\n\u001b[0;32m    876\u001b[0m             \u001b[0mcheck_input\u001b[0m\u001b[1;33m=\u001b[0m\u001b[0mcheck_input\u001b[0m\u001b[1;33m,\u001b[0m\u001b[1;33m\u001b[0m\u001b[1;33m\u001b[0m\u001b[0m\n\u001b[1;32m--> 877\u001b[1;33m             X_idx_sorted=X_idx_sorted)\n\u001b[0m\u001b[0;32m    878\u001b[0m         \u001b[1;32mreturn\u001b[0m \u001b[0mself\u001b[0m\u001b[1;33m\u001b[0m\u001b[1;33m\u001b[0m\u001b[0m\n\u001b[0;32m    879\u001b[0m \u001b[1;33m\u001b[0m\u001b[0m\n",
      "\u001b[1;32m~\\Anaconda3\\lib\\site-packages\\sklearn\\tree\\_classes.py\u001b[0m in \u001b[0;36mfit\u001b[1;34m(self, X, y, sample_weight, check_input, X_idx_sorted)\u001b[0m\n\u001b[0;32m    365\u001b[0m                                            min_impurity_split)\n\u001b[0;32m    366\u001b[0m \u001b[1;33m\u001b[0m\u001b[0m\n\u001b[1;32m--> 367\u001b[1;33m         \u001b[0mbuilder\u001b[0m\u001b[1;33m.\u001b[0m\u001b[0mbuild\u001b[0m\u001b[1;33m(\u001b[0m\u001b[0mself\u001b[0m\u001b[1;33m.\u001b[0m\u001b[0mtree_\u001b[0m\u001b[1;33m,\u001b[0m \u001b[0mX\u001b[0m\u001b[1;33m,\u001b[0m \u001b[0my\u001b[0m\u001b[1;33m,\u001b[0m \u001b[0msample_weight\u001b[0m\u001b[1;33m,\u001b[0m \u001b[0mX_idx_sorted\u001b[0m\u001b[1;33m)\u001b[0m\u001b[1;33m\u001b[0m\u001b[1;33m\u001b[0m\u001b[0m\n\u001b[0m\u001b[0;32m    368\u001b[0m \u001b[1;33m\u001b[0m\u001b[0m\n\u001b[0;32m    369\u001b[0m         \u001b[1;32mif\u001b[0m \u001b[0mself\u001b[0m\u001b[1;33m.\u001b[0m\u001b[0mn_outputs_\u001b[0m \u001b[1;33m==\u001b[0m \u001b[1;36m1\u001b[0m \u001b[1;32mand\u001b[0m \u001b[0mis_classifier\u001b[0m\u001b[1;33m(\u001b[0m\u001b[0mself\u001b[0m\u001b[1;33m)\u001b[0m\u001b[1;33m:\u001b[0m\u001b[1;33m\u001b[0m\u001b[1;33m\u001b[0m\u001b[0m\n",
      "\u001b[1;31mKeyboardInterrupt\u001b[0m: "
     ]
    }
   ],
   "source": [
    "preprocess_technique_stat = pd.DataFrame()\n",
    "dataset_name = 'LD'\n",
    "ld = pd.read_csv (r'C:\\Users\\ihorh\\Desktop\\Master Thesis\\data_ihorirene\\Thomas (2002)\\Loan Data.csv',delimiter=';')\n",
    "\n",
    "#drop duplicates\n",
    "ld = ld.drop_duplicates(keep='first')\n",
    "\n",
    "# #split dataset into data and target\n",
    "y = ld.BAD\n",
    "X = ld.drop('BAD',axis=1)\n",
    "\n",
    "\n",
    "#data set specific ratios to resample\n",
    "ratios =[0.406,0.452,0.5]\n",
    "\n",
    "toScaleColumns = ['YOB','DAINC','DHVAL','DMORT','DOUTM','DOUTL','DOUTHP','DOUTCC','SINC']\n",
    "\n",
    "X_train_original, X_test_original, y_train_original, y_test_original = split(X,y)\n",
    "\n",
    "#treat missing values\n",
    "imp_cat = SimpleImputer(strategy=\"most_frequent\")\n",
    "imp_num = SimpleImputer(missing_values=np.nan, strategy='mean')\n",
    "X_train_num = X_train_original.select_dtypes(include=['int64', 'float64'])\n",
    "X_test_num = X_test_original.select_dtypes(include=['int64', 'float64'])\n",
    "X_train_cat = X_train_original.select_dtypes(exclude=['int64', 'float64'])\n",
    "X_test_cat = X_test_original.select_dtypes(exclude=['int64', 'float64'])\n",
    "\n",
    "#impute mean mode\n",
    "X_train_cat = pd.DataFrame(imp_cat.fit_transform(X_train_cat),columns=X_train_cat.columns)\n",
    "X_test_cat = pd.DataFrame(imp_cat.transform(X_test_cat),columns=X_test_cat.columns)\n",
    "X_train_num = pd.DataFrame(imp_num.fit_transform(X_train_num),columns = X_train_num.columns)\n",
    "X_test_num = pd.DataFrame(imp_num.transform(X_test_num),columns=X_test_num.columns)\n",
    "\n",
    "X_train_original = pd.concat([X_train_cat,X_train_num],axis=1)\n",
    "X_test_original = pd.concat([X_test_cat,X_test_num],axis=1)\n",
    "\n",
    "\n",
    "\n",
    "\n",
    "#scale\n",
    "X_train_original[toScaleColumns] = scaler.fit_transform(X_train_original[toScaleColumns] )\n",
    "X_test_original[toScaleColumns]  = scaler.transform(X_test_original[toScaleColumns] )\n",
    "\n",
    "#downcast numerical columns\n",
    "for column in toScaleColumns:\n",
    "    X_train_original[column] = pd.to_numeric(X_train_original[column], downcast='float')\n",
    "\n",
    "\n",
    "\n",
    "\n",
    "###ONE HOT ENCODING-------------------------------------------------\n",
    "X_train = one_hot_encode(X_train_original)\n",
    "X_test = one_hot_encode(X_test_original)\n",
    "y_train = y_train_original\n",
    "y_test = y_test_original\n",
    "columns_list = X_train.columns.tolist()\n",
    "X_test = X_test[X_test.columns.intersection(columns_list)]\n",
    "\n",
    "\n",
    "#add columns that are not present in test\n",
    "for column in columns_list:\n",
    "    if column not in X.columns:\n",
    "        X_test[column] = 0\n",
    "\n",
    "\n",
    "#reduce colinearity\n",
    "X_train, X_test = removeMulticolinearFeatures(X_train,X_test, 10)\n",
    "\n",
    "\n",
    "#classifier optimization is performed on OHE dataset\n",
    "RF, bestParametersRF = getRF()\n",
    "LR, bestParametersLR= getLR()\n",
    "MLP, bestParametersMLP = getMLP()\n",
    "classifiers = [LR,RF,MLP]\n",
    "bestParametersList=[str(bestParametersLR),str(bestParametersRF),str(bestParametersMLP)]\n",
    "\n",
    "\n",
    "i = 0\n",
    "for classifier in classifiers:\n",
    "    stat = classify_master(X_train, X_test, y_train, y_test,'OHE',classifier)\n",
    "    stat['ClassifierParameters'] = bestParametersList[i]\n",
    "    preprocess_technique_stat = preprocess_technique_stat.append(stat)\n",
    "    i=i+1\n",
    "\n",
    "\n",
    "###END ONE HOT ENCODING-------------------------------------------------\n",
    "\n",
    "###WOE ENCODING-----------------------------------------------\n",
    "X_train = X_train_original\n",
    "X_test = X_test_original\n",
    "y_train = y_train_original\n",
    "y_test = y_test_original\n",
    "\n",
    "#Encode WOE\n",
    "columns_list = X_train.columns.tolist()\n",
    "for column in columns_list:\n",
    "    if is_string_dtype(X_train[column]):\n",
    "        encoder = ce.WOEEncoder(cols=[column])\n",
    "        encoder.fit(X_train,y_train)\n",
    "        X_train = encoder.transform(X_train)\n",
    "        X_test = encoder.transform(X_test)\n",
    "        \n",
    "#reduce colinearity\n",
    "X_train, X_test = removeMulticolinearFeatures(X_train,X_test, 10)\n",
    "\n",
    "\n",
    "\n",
    "# #classifier optimization is performed on WOE dataset\n",
    "RF, bestParametersRF = getRF()\n",
    "LR, bestParametersLR= getLR()\n",
    "MLP, bestParametersMLP = getMLP()\n",
    "classifiers = [LR,RF,MLP]\n",
    "bestParametersList=[str(bestParametersLR),str(bestParametersRF),str(bestParametersMLP)]\n",
    "\n",
    "\n",
    "i = 0\n",
    "for classifier in classifiers:\n",
    "    stat = classify_master(X_train, X_test, y_train, y_test,'WOE',classifier)\n",
    "    stat['ClassifierParameters'] = bestParametersList[i]\n",
    "    preprocess_technique_stat = preprocess_technique_stat.append(stat)\n",
    "    i=i+1\n",
    "\n",
    "###EMB---------------------------------\n",
    "X_train = X_train_original\n",
    "y_train = y_train_original\n",
    "X_test = X_test_original\n",
    "y_test = y_test_original\n",
    "\n",
    "\n",
    "        \n",
    "embedding_info = cem.get_embedding_info(X_train)\n",
    "\n",
    "X_encoded,encoders = cem.get_label_encoded_data(X_train)\n",
    "\n",
    "\n",
    "\n",
    "embeddings = cem.get_embeddings(X_encoded, y_train, categorical_embedding_info=embedding_info, \n",
    "                            is_classification=True, epochs=100,batch_size=256)\n",
    "\n",
    "\n",
    "\n",
    "\n",
    "X_train = cem.fit_transform(X_train, embeddings=embeddings, encoders=encoders, drop_categorical_vars=True)\n",
    "X_test = cem.fit_transform(X_test, embeddings=embeddings, encoders=encoders, drop_categorical_vars=True)\n",
    " \n",
    "\n",
    "#reduce colinearity\n",
    "X_train, X_test = removeMulticolinearFeatures(X_train,X_test, 10)\n",
    "\n",
    "# #classifier optimization is performed on OHE dataset\n",
    "RF, bestParametersRF = getRF()\n",
    "LR, bestParametersLR= getLR()\n",
    "MLP, bestParametersMLP = getMLP()\n",
    "classifiers = [LR,RF,MLP]\n",
    "bestParametersList=[str(bestParametersLR),str(bestParametersRF),str(bestParametersMLP)]\n",
    "\n",
    "i = 0\n",
    "for classifier in classifiers:\n",
    "    stat = classify_master(X_train, X_test, y_train, y_test,'EMB',classifier)\n",
    "    stat['ClassifierParameters'] = bestParametersList[i]\n",
    "    preprocess_technique_stat = preprocess_technique_stat.append(stat)\n",
    "    i=i+1\n",
    "    \n",
    "###END EMB-------------------------------------------------------------\n",
    "preprocess_technique_stat.to_excel(r'C:\\Users\\ihorh\\Desktop\\Master Thesis\\stats\\prep_technique_stats_'+dataset_name+'.xlsx')  \n",
    "   \n",
    "l_stat = preprocess_technique_stat\n",
    "\n",
    "\n"
   ]
  },
  {
   "cell_type": "code",
   "execution_count": 45,
   "metadata": {
    "collapsed": true
   },
   "outputs": [
    {
     "name": "stdout",
     "output_type": "stream",
     "text": [
      "100%|█████████████████████████████████████████████| 100/100 [01:07<00:00,  1.48trial/s, best loss: -0.9380858908400643]\n",
      "best:\n",
      "{'criterion': 1, 'max_depth': 25, 'max_features': 1, 'n_estimators': 41}\n",
      "100%|█████████████████████████████████████████████| 100/100 [00:08<00:00, 12.19trial/s, best loss: -0.7643543552819331]\n",
      "best:\n",
      "{'C': 53.629408323678774, 'penalty': 1}\n",
      "100%|██████████████████████████████████████████████| 100/100 [20:46<00:00, 12.46s/trial, best loss: -0.798836610020706]\n",
      "best:\n",
      "{'alpha': 0.024535248068517132, 'hidden_layer_sizes': 89}\n",
      "HMEQ OHE NA NA NA NA LogisticRegression 0.2549 0.3768 0.6152 0.1296\n",
      "HMEQ OHE OSS {'resampler__n_neighbors': 1, 'resampler__n_seeds_S': 200, 'resampler__sampling_strategy': 'not minority'} NA NA LogisticRegression 0.3613 0.4448 0.6478 0.1368\n",
      "HMEQ OHE ROS {'resampler__sampling_strategy': 0.416} NA NA LogisticRegression 0.3305 0.4229 0.6363 0.1344\n",
      "HMEQ OHE SMT {'resampler__k_neighbors': 10, 'resampler__sampling_strategy': 0.333} NA NA LogisticRegression 0.437 0.4657 0.6636 0.1591\n",
      "HMEQ OHE ADA {'resampler__n_neighbors': 5, 'resampler__sampling_strategy': 0.333} NA NA LogisticRegression 0.3557 0.4305 0.6408 0.1439\n",
      "HMEQ OHE SMT_BL {'resampler__k_neighbors': 5, 'resampler__kind': 'borderline-1', 'resampler__sampling_strategy': 0.333} NA NA LogisticRegression 0.4062 0.451 0.6538 0.1569\n",
      "HMEQ OHE SMT_ENN {'resampler__sampling_strategy': 0.333} NA NA LogisticRegression 0.2549 0.3784 0.6159 0.1313\n",
      "HMEQ OHE SMT_TL {'resampler__sampling_strategy': 0.333} NA NA LogisticRegression 0.4006 0.449 0.6524 0.1514\n",
      "HMEQ OHE RUS {'resampler__sampling_strategy': 0.333} NA NA LogisticRegression 0.3053 0.4113 0.6303 0.1315\n",
      "HMEQ OHE NCL {'resampler__n_neighbors': 3, 'resampler__sampling_strategy': 'not minority'} NA NA LogisticRegression 0.3473 0.4336 0.6419 0.1345\n",
      "HMEQ OHE TL {'resampler__sampling_strategy': 'not minority'} NA NA LogisticRegression 0.2633 0.3829 0.6177 0.1292\n",
      "HMEQ OHE NA NA PCA {'transformer__n_components': 12} LogisticRegression 0.2549 0.3745 0.6142 0.1316\n",
      "HMEQ OHE NA NA CFS {'transformer__k': 12} LogisticRegression 0.2269 0.3462 0.603 0.1307\n",
      "HMEQ OHE OSS {'resampler__n_neighbors': 1, 'resampler__n_seeds_S': 200, 'resampler__sampling_strategy': 'not minority'} PCA {'transformer__n_components': 12} LogisticRegression 0.3669 0.4389 0.6454 0.1452\n",
      "HMEQ OHE OSS {'resampler__n_neighbors': 1, 'resampler__n_seeds_S': 200, 'resampler__sampling_strategy': 'not minority'} CFS {'transformer__k': 12} LogisticRegression 0.3557 0.4528 0.651 0.1385\n",
      "HMEQ OHE ROS {'resampler__sampling_strategy': 0.416} PCA {'transformer__n_components': 12} LogisticRegression 0.3613 0.4433 0.6471 0.141\n",
      "HMEQ OHE ROS {'resampler__sampling_strategy': 0.416} CFS {'transformer__k': 12} LogisticRegression 0.3025 0.4083 0.6289 0.1327\n",
      "HMEQ OHE SMT {'resampler__k_neighbors': 10, 'resampler__sampling_strategy': 0.333} PCA {'transformer__n_components': 12} LogisticRegression 0.2997 0.4023 0.6261 0.1334\n",
      "HMEQ OHE SMT {'resampler__k_neighbors': 10, 'resampler__sampling_strategy': 0.333} CFS {'transformer__k': 8} LogisticRegression 0.3249 0.4257 0.6373 0.1355\n",
      "HMEQ OHE ADA {'resampler__n_neighbors': 5, 'resampler__sampling_strategy': 0.333} PCA {'transformer__n_components': 12} LogisticRegression 0.2773 0.3905 0.6208 0.1325\n",
      "HMEQ OHE ADA {'resampler__n_neighbors': 5, 'resampler__sampling_strategy': 0.333} CFS {'transformer__k': 12} LogisticRegression 0.2857 0.3977 0.624 0.133\n",
      "HMEQ OHE SMT_BL {'resampler__k_neighbors': 5, 'resampler__kind': 'borderline-1', 'resampler__sampling_strategy': 0.333} PCA {'transformer__n_components': 12} LogisticRegression 0.2913 0.3985 0.6243 0.1333\n",
      "HMEQ OHE SMT_BL {'resampler__k_neighbors': 5, 'resampler__kind': 'borderline-1', 'resampler__sampling_strategy': 0.333} CFS {'transformer__k': 8} LogisticRegression 0.3165 0.4177 0.6335 0.1357\n",
      "HMEQ OHE SMT_ENN {'resampler__sampling_strategy': 0.416} PCA {'transformer__n_components': 12} LogisticRegression 0.2829 0.4 0.625 0.1322\n",
      "HMEQ OHE SMT_ENN {'resampler__sampling_strategy': 0.416} CFS {'transformer__k': 12} LogisticRegression 0.2829 0.4008 0.6254 0.1292\n",
      "HMEQ OHE SMT_TL {'resampler__sampling_strategy': 0.333} PCA {'transformer__n_components': 12} LogisticRegression 0.3053 0.4075 0.6286 0.133\n",
      "HMEQ OHE SMT_TL {'resampler__sampling_strategy': 0.333} CFS {'transformer__k': 8} LogisticRegression 0.3221 0.4291 0.6387 0.1335\n",
      "HMEQ OHE RUS {'resampler__sampling_strategy': 0.333} PCA {'transformer__n_components': 12} LogisticRegression 0.2969 0.4 0.625 0.1335\n",
      "HMEQ OHE RUS {'resampler__sampling_strategy': 0.333} CFS {'transformer__k': 12} LogisticRegression 0.2801 0.3929 0.6219 0.1305\n",
      "HMEQ OHE NCL {'resampler__n_neighbors': 3, 'resampler__sampling_strategy': 'not minority'} PCA {'transformer__n_components': 12} LogisticRegression 0.3613 0.4403 0.6457 0.1384\n",
      "HMEQ OHE NCL {'resampler__n_neighbors': 3, 'resampler__sampling_strategy': 'not minority'} CFS {'transformer__k': 12} LogisticRegression 0.3669 0.4533 0.652 0.136\n",
      "HMEQ OHE TL {'resampler__sampling_strategy': 'not minority'} PCA {'transformer__n_components': 12} LogisticRegression 0.2605 0.3811 0.617 0.1313\n",
      "HMEQ OHE TL {'resampler__sampling_strategy': 'not minority'} CFS {'transformer__k': 12} LogisticRegression 0.2605 0.3819 0.6173 0.1297\n",
      "HMEQ OHE NA NA NA NA RandomForestClassifier 0.605 0.7164 0.792 0.0727\n",
      "HMEQ OHE OSS {'resampler__n_neighbors': 3, 'resampler__n_seeds_S': 10, 'resampler__sampling_strategy': 'not minority'} NA NA RandomForestClassifier 0.6331 0.7302 0.8039 0.0722\n",
      "HMEQ OHE ROS {'resampler__sampling_strategy': 0.5} NA NA RandomForestClassifier 0.6499 0.7284 0.8082 0.0711\n",
      "HMEQ OHE SMT {'resampler__k_neighbors': 5, 'resampler__sampling_strategy': 0.5} NA NA RandomForestClassifier 0.7171 0.742 0.8316 0.0836\n",
      "HMEQ OHE ADA {'resampler__n_neighbors': 10, 'resampler__sampling_strategy': 0.416} NA NA RandomForestClassifier 0.7059 0.7489 0.8306 0.0823\n",
      "HMEQ OHE SMT_BL {'resampler__k_neighbors': 5, 'resampler__kind': 'borderline-2', 'resampler__sampling_strategy': 0.5} NA NA RandomForestClassifier 0.7395 0.7303 0.8341 0.1017\n",
      "HMEQ OHE SMT_ENN {'resampler__sampling_strategy': 0.5} NA NA RandomForestClassifier 0.5742 0.6949 0.7773 0.0821\n",
      "HMEQ OHE SMT_TL {'resampler__sampling_strategy': 0.5} NA NA RandomForestClassifier 0.7311 0.7643 0.8428 0.0835\n",
      "HMEQ OHE RUS {'resampler__sampling_strategy': 0.333} NA NA RandomForestClassifier 0.6499 0.74 0.8117 0.0737\n",
      "HMEQ OHE NCL {'resampler__n_neighbors': 3, 'resampler__sampling_strategy': 'not minority'} NA NA RandomForestClassifier 0.7171 0.741 0.8313 0.0776\n",
      "HMEQ OHE TL {'resampler__sampling_strategy': 'not minority'} NA NA RandomForestClassifier 0.6275 0.7226 0.8001 0.0725\n",
      "HMEQ OHE NA NA PCA {'transformer__n_components': 12} RandomForestClassifier 0.4482 0.5096 0.6853 0.1346\n",
      "HMEQ OHE NA NA CFS {'transformer__k': 12} RandomForestClassifier 0.5098 0.6298 0.7413 0.0887\n",
      "HMEQ OHE OSS {'resampler__n_neighbors': 3, 'resampler__n_seeds_S': 10, 'resampler__sampling_strategy': 'not minority'} PCA {'transformer__n_components': 12} RandomForestClassifier 0.4482 0.5212 0.6902 0.1335\n",
      "HMEQ OHE OSS {'resampler__n_neighbors': 3, 'resampler__n_seeds_S': 10, 'resampler__sampling_strategy': 'not minority'} CFS {'transformer__k': 12} RandomForestClassifier 0.5518 0.6644 0.7623 0.0855\n",
      "HMEQ OHE ROS {'resampler__sampling_strategy': 0.333} PCA {'transformer__n_components': 12} RandomForestClassifier 0.4482 0.517 0.6885 0.1355\n",
      "HMEQ OHE ROS {'resampler__sampling_strategy': 0.333} CFS {'transformer__k': 12} RandomForestClassifier 0.5882 0.6709 0.7735 0.0854\n",
      "HMEQ OHE SMT {'resampler__k_neighbors': 5, 'resampler__sampling_strategy': 0.5} PCA {'transformer__n_components': 12} RandomForestClassifier 0.5826 0.4941 0.6945 0.1751\n",
      "HMEQ OHE SMT {'resampler__k_neighbors': 5, 'resampler__sampling_strategy': 0.5} CFS {'transformer__k': 12} RandomForestClassifier 0.7059 0.7252 0.8229 0.0952\n",
      "HMEQ OHE ADA {'resampler__n_neighbors': 10, 'resampler__sampling_strategy': 0.5} PCA {'transformer__n_components': 12} RandomForestClassifier 0.6022 0.4965 0.6984 0.1751\n",
      "HMEQ OHE ADA {'resampler__n_neighbors': 10, 'resampler__sampling_strategy': 0.5} CFS {'transformer__k': 12} RandomForestClassifier 0.7227 0.7127 0.8233 0.0965\n",
      "HMEQ OHE SMT_BL {'resampler__k_neighbors': 5, 'resampler__kind': 'borderline-2', 'resampler__sampling_strategy': 0.416} PCA {'transformer__n_components': 12} RandomForestClassifier 0.5742 0.5074 0.7012 0.1644\n"
     ]
    },
    {
     "name": "stdout",
     "output_type": "stream",
     "text": [
      "HMEQ OHE SMT_BL {'resampler__k_neighbors': 5, 'resampler__kind': 'borderline-2', 'resampler__sampling_strategy': 0.416} CFS {'transformer__k': 12} RandomForestClassifier 0.6667 0.6979 0.8029 0.0972\n",
      "HMEQ OHE SMT_ENN {'resampler__sampling_strategy': 0.5} PCA {'transformer__n_components': 8} RandomForestClassifier 0.6919 0.4773 0.6953 0.1995\n",
      "HMEQ OHE SMT_ENN {'resampler__sampling_strategy': 0.5} CFS {'transformer__k': 12} RandomForestClassifier 0.5462 0.6644 0.7609 0.0853\n",
      "HMEQ OHE SMT_TL {'resampler__sampling_strategy': 0.333} PCA {'transformer__n_components': 12} RandomForestClassifier 0.563 0.5654 0.7281 0.141\n",
      "HMEQ OHE SMT_TL {'resampler__sampling_strategy': 0.333} CFS {'transformer__k': 12} RandomForestClassifier 0.5882 0.6796 0.7763 0.0851\n",
      "HMEQ OHE RUS {'resampler__sampling_strategy': 0.333} PCA {'transformer__n_components': 12} RandomForestClassifier 0.4594 0.5101 0.6871 0.1321\n",
      "HMEQ OHE RUS {'resampler__sampling_strategy': 0.333} CFS {'transformer__k': 12} RandomForestClassifier 0.5882 0.6699 0.7732 0.0891\n",
      "HMEQ OHE NCL {'resampler__n_neighbors': 3, 'resampler__sampling_strategy': 'not minority'} PCA {'transformer__n_components': 12} RandomForestClassifier 0.577 0.5471 0.7221 0.1402\n",
      "HMEQ OHE NCL {'resampler__n_neighbors': 3, 'resampler__sampling_strategy': 'not minority'} CFS {'transformer__k': 12} RandomForestClassifier 0.6835 0.6991 0.8078 0.0894\n",
      "HMEQ OHE TL {'resampler__sampling_strategy': 'not majority'} PCA {'transformer__n_components': 12} RandomForestClassifier 0.3585 0.4767 0.6611 0.125\n",
      "HMEQ OHE TL {'resampler__sampling_strategy': 'not majority'} CFS {'transformer__k': 12} RandomForestClassifier 0.521 0.6458 0.749 0.0864\n",
      "HMEQ OHE NA NA NA NA MLPClassifier 0.3669 0.4888 0.6667 0.1185\n",
      "HMEQ OHE OSS {'resampler__n_neighbors': 6, 'resampler__n_seeds_S': 10, 'resampler__sampling_strategy': 'not minority'} NA NA MLPClassifier 0.3389 0.4663 0.6551 0.1186\n",
      "HMEQ OHE ROS {'resampler__sampling_strategy': 0.333} NA NA MLPClassifier 0.4286 0.5178 0.686 0.1238\n",
      "HMEQ OHE SMT {'resampler__k_neighbors': 15, 'resampler__sampling_strategy': 0.333} NA NA MLPClassifier 0.5294 0.5331 0.7078 0.1463\n",
      "HMEQ OHE ADA {'resampler__n_neighbors': 5, 'resampler__sampling_strategy': 0.333} NA NA MLPClassifier 0.5238 0.5275 0.7043 0.1576\n",
      "HMEQ OHE SMT_BL {'resampler__k_neighbors': 5, 'resampler__kind': 'borderline-2', 'resampler__sampling_strategy': 0.333} NA NA MLPClassifier 0.465 0.5123 0.6888 0.1399\n",
      "HMEQ OHE SMT_ENN {'resampler__sampling_strategy': 0.5} NA NA MLPClassifier 0.6106 0.4971 0.6998 0.1823\n",
      "HMEQ OHE SMT_TL {'resampler__sampling_strategy': 0.333} NA NA MLPClassifier 0.4902 0.5072 0.6899 0.1455\n",
      "HMEQ OHE RUS {'resampler__sampling_strategy': 0.333} NA NA MLPClassifier 0.3445 0.4615 0.6538 0.1219\n",
      "HMEQ OHE NCL {'resampler__n_neighbors': 3, 'resampler__sampling_strategy': 'not minority'} NA NA MLPClassifier 0.437 0.5057 0.6821 0.1289\n",
      "HMEQ OHE TL {'resampler__sampling_strategy': 'not minority'} NA NA MLPClassifier 0.3249 0.4386 0.6429 0.1236\n",
      "HMEQ OHE NA NA PCA {'transformer__n_components': 12} MLPClassifier 0.3894 0.5092 0.6772 0.1207\n",
      "HMEQ OHE NA NA CFS {'transformer__k': 12} MLPClassifier 0.2913 0.4177 0.6327 0.1271\n",
      "HMEQ OHE OSS {'resampler__n_neighbors': 3, 'resampler__n_seeds_S': 10, 'resampler__sampling_strategy': 'not minority'} PCA {'transformer__n_components': 12} MLPClassifier 0.3417 0.4639 0.6544 0.1216\n",
      "HMEQ OHE OSS {'resampler__n_neighbors': 3, 'resampler__n_seeds_S': 10, 'resampler__sampling_strategy': 'not minority'} CFS {'transformer__k': 12} MLPClassifier 0.3193 0.4351 0.6411 0.1275\n",
      "HMEQ OHE ROS {'resampler__sampling_strategy': 0.333} PCA {'transformer__n_components': 12} MLPClassifier 0.409 0.4932 0.6734 0.1283\n",
      "HMEQ OHE ROS {'resampler__sampling_strategy': 0.333} CFS {'transformer__k': 12} MLPClassifier 0.3333 0.4312 0.6401 0.1314\n",
      "HMEQ OHE SMT {'resampler__k_neighbors': 5, 'resampler__sampling_strategy': 0.333} PCA {'transformer__n_components': 12} MLPClassifier 0.4034 0.4906 0.6716 0.1281\n",
      "HMEQ OHE SMT {'resampler__k_neighbors': 5, 'resampler__sampling_strategy': 0.333} CFS {'transformer__k': 12} MLPClassifier 0.3445 0.4522 0.6499 0.1276\n",
      "HMEQ OHE ADA {'resampler__n_neighbors': 5, 'resampler__sampling_strategy': 0.416} PCA {'transformer__n_components': 12} MLPClassifier 0.4678 0.5061 0.6864 0.1374\n",
      "HMEQ OHE ADA {'resampler__n_neighbors': 5, 'resampler__sampling_strategy': 0.416} CFS {'transformer__k': 12} MLPClassifier 0.465 0.4933 0.6801 0.1495\n",
      "HMEQ OHE SMT_BL {'resampler__k_neighbors': 15, 'resampler__kind': 'borderline-2', 'resampler__sampling_strategy': 0.333} PCA {'transformer__n_components': 12} MLPClassifier 0.4006 0.4881 0.6702 0.1293\n",
      "HMEQ OHE SMT_BL {'resampler__k_neighbors': 15, 'resampler__kind': 'borderline-2', 'resampler__sampling_strategy': 0.333} CFS {'transformer__k': 12} MLPClassifier 0.3922 0.4828 0.6671 0.1293\n",
      "HMEQ OHE SMT_ENN {'resampler__sampling_strategy': 0.5} PCA {'transformer__n_components': 12} MLPClassifier 0.4426 0.4759 0.6692 0.1395\n",
      "HMEQ OHE SMT_ENN {'resampler__sampling_strategy': 0.5} CFS {'transformer__k': 12} MLPClassifier 0.4986 0.5452 0.7081 0.1282\n",
      "HMEQ OHE SMT_TL {'resampler__sampling_strategy': 0.333} PCA {'transformer__n_components': 12} MLPClassifier 0.4118 0.5017 0.6772 0.1258\n",
      "HMEQ OHE SMT_TL {'resampler__sampling_strategy': 0.333} CFS {'transformer__k': 12} MLPClassifier 0.381 0.478 0.6639 0.1268\n",
      "HMEQ OHE RUS {'resampler__sampling_strategy': 0.416} PCA {'transformer__n_components': 12} MLPClassifier 0.4286 0.5109 0.6832 0.133\n",
      "HMEQ OHE RUS {'resampler__sampling_strategy': 0.416} CFS {'transformer__k': 12} MLPClassifier 0.3669 0.4662 0.6576 0.1309\n",
      "HMEQ OHE NCL {'resampler__n_neighbors': 3, 'resampler__sampling_strategy': 'not minority'} PCA {'transformer__n_components': 12} MLPClassifier 0.4538 0.5285 0.694 0.1293\n",
      "HMEQ OHE NCL {'resampler__n_neighbors': 3, 'resampler__sampling_strategy': 'not minority'} CFS {'transformer__k': 12} MLPClassifier 0.4258 0.4927 0.6751 0.135\n",
      "HMEQ OHE TL {'resampler__sampling_strategy': 'not minority'} PCA {'transformer__n_components': 12} MLPClassifier 0.3641 0.4934 0.6681 0.1205\n",
      "HMEQ OHE TL {'resampler__sampling_strategy': 'not minority'} CFS {'transformer__k': 12} MLPClassifier 0.3193 0.4302 0.639 0.1285\n",
      "Dropping REASON with vif=18.63702873858641\n",
      "100%|█████████████████████████████████████████████████████████████| 100/100 [01:19<00:00,  1.26trial/s, best loss: nan]\n",
      "best:\n",
      "{'criterion': 0, 'max_depth': 27, 'max_features': 0, 'n_estimators': 89}\n",
      "100%|█████████████████████████████████████████████████████████████| 100/100 [00:07<00:00, 12.57trial/s, best loss: nan]\n",
      "best:\n",
      "{'C': 1.3589137707914127, 'penalty': 1}\n",
      "100%|█████████████████████████████████████████████| 100/100 [15:44<00:00,  9.44s/trial, best loss: -0.7828895488008184]\n",
      "best:\n",
      "{'alpha': 0.011885212843622123, 'hidden_layer_sizes': 50}\n",
      "HMEQ WOE NA NA NA NA LogisticRegression 0.2493 0.3708 0.6128 0.1295\n",
      "HMEQ WOE OSS {'resampler__n_neighbors': 3, 'resampler__n_seeds_S': 100, 'resampler__sampling_strategy': 'all'} NA NA LogisticRegression 0.0812 0.1503 0.5406 0.163\n",
      "HMEQ WOE ROS {'resampler__sampling_strategy': 0.333} NA NA LogisticRegression 0.2969 0.4061 0.6278 0.1303\n",
      "HMEQ WOE SMT {'resampler__k_neighbors': 5, 'resampler__sampling_strategy': 0.333} NA NA LogisticRegression 0.2941 0.4054 0.6275 0.1305\n",
      "HMEQ WOE ADA {'resampler__n_neighbors': 15, 'resampler__sampling_strategy': 0.5} NA NA LogisticRegression 0.3529 0.436 0.6433 0.1401\n",
      "HMEQ WOE SMT_BL {'resampler__k_neighbors': 5, 'resampler__kind': 'borderline-2', 'resampler__sampling_strategy': 0.5} NA NA LogisticRegression 0.3529 0.4315 0.6412 0.1429\n",
      "HMEQ WOE SMT_ENN {'resampler__sampling_strategy': 0.5} NA NA LogisticRegression 0.3389 0.4408 0.6447 0.13\n",
      "HMEQ WOE SMT_TL {'resampler__sampling_strategy': 0.333} NA NA LogisticRegression 0.2913 0.4031 0.6264 0.1296\n",
      "HMEQ WOE RUS {'resampler__sampling_strategy': 0.333} NA NA LogisticRegression 0.2885 0.3977 0.624 0.1305\n",
      "HMEQ WOE NCL {'resampler__n_neighbors': 3, 'resampler__sampling_strategy': 'not minority'} NA NA LogisticRegression 0.3417 0.4288 0.6394 0.1348\n",
      "HMEQ WOE TL {'resampler__sampling_strategy': 'not minority'} NA NA LogisticRegression 0.2605 0.3819 0.6173 0.1291\n",
      "HMEQ WOE NA NA PCA {'transformer__n_components': 8} LogisticRegression 0.2549 0.3714 0.6128 0.1361\n"
     ]
    },
    {
     "name": "stdout",
     "output_type": "stream",
     "text": [
      "HMEQ WOE NA NA CFS {'transformer__k': 6} LogisticRegression 0.2493 0.3701 0.6124 0.13\n",
      "HMEQ WOE OSS {'resampler__n_neighbors': 1, 'resampler__n_seeds_S': 10, 'resampler__sampling_strategy': 'not minority'} PCA {'transformer__n_components': 8} LogisticRegression 0.2605 0.372 0.6128 0.1359\n",
      "HMEQ WOE OSS {'resampler__n_neighbors': 1, 'resampler__n_seeds_S': 10, 'resampler__sampling_strategy': 'not minority'} CFS {'transformer__k': 6} LogisticRegression 0.2605 0.3788 0.6159 0.1295\n",
      "HMEQ WOE ROS {'resampler__sampling_strategy': 0.5} PCA {'transformer__n_components': 8} LogisticRegression 0.4006 0.4483 0.6521 0.1488\n",
      "HMEQ WOE ROS {'resampler__sampling_strategy': 0.5} CFS {'transformer__k': 8} LogisticRegression 0.3557 0.4402 0.6454 0.1404\n",
      "HMEQ WOE SMT {'resampler__k_neighbors': 5, 'resampler__sampling_strategy': 0.333} PCA {'transformer__n_components': 8} LogisticRegression 0.3193 0.4191 0.6342 0.1322\n",
      "HMEQ WOE SMT {'resampler__k_neighbors': 5, 'resampler__sampling_strategy': 0.333} CFS {'transformer__k': 8} LogisticRegression 0.2857 0.3961 0.6233 0.1315\n",
      "HMEQ WOE ADA {'resampler__n_neighbors': 10, 'resampler__sampling_strategy': 0.5} PCA {'transformer__n_components': 8} LogisticRegression 0.3782 0.4362 0.6447 0.1449\n",
      "HMEQ WOE ADA {'resampler__n_neighbors': 10, 'resampler__sampling_strategy': 0.5} CFS {'transformer__k': 6} LogisticRegression 0.3473 0.4321 0.6412 0.1405\n",
      "HMEQ WOE SMT_BL {'resampler__k_neighbors': 5, 'resampler__kind': 'borderline-2', 'resampler__sampling_strategy': 0.416} PCA {'transformer__n_components': 8} LogisticRegression 0.3389 0.4216 0.6359 0.1393\n",
      "HMEQ WOE SMT_BL {'resampler__k_neighbors': 5, 'resampler__kind': 'borderline-2', 'resampler__sampling_strategy': 0.416} CFS {'transformer__k': 6} LogisticRegression 0.2997 0.3993 0.6247 0.1382\n",
      "HMEQ WOE SMT_ENN {'resampler__sampling_strategy': 0.5} PCA {'transformer__n_components': 8} LogisticRegression 0.3557 0.4456 0.6478 0.1339\n",
      "HMEQ WOE SMT_ENN {'resampler__sampling_strategy': 0.5} CFS {'transformer__k': 8} LogisticRegression 0.3025 0.4099 0.6296 0.1306\n",
      "HMEQ WOE SMT_TL {'resampler__sampling_strategy': 0.416} PCA {'transformer__n_components': 8} LogisticRegression 0.3557 0.4327 0.6419 0.1377\n",
      "HMEQ WOE SMT_TL {'resampler__sampling_strategy': 0.416} CFS {'transformer__k': 8} LogisticRegression 0.3109 0.4142 0.6317 0.1336\n",
      "HMEQ WOE RUS {'resampler__sampling_strategy': 0.416} PCA {'transformer__n_components': 8} LogisticRegression 0.3501 0.4303 0.6405 0.1391\n",
      "HMEQ WOE RUS {'resampler__sampling_strategy': 0.416} CFS {'transformer__k': 6} LogisticRegression 0.3081 0.4151 0.632 0.1348\n",
      "HMEQ WOE NCL {'resampler__n_neighbors': 3, 'resampler__sampling_strategy': 'not minority'} PCA {'transformer__n_components': 8} LogisticRegression 0.3669 0.4411 0.6464 0.1381\n",
      "HMEQ WOE NCL {'resampler__n_neighbors': 3, 'resampler__sampling_strategy': 'not minority'} CFS {'transformer__k': 8} LogisticRegression 0.3417 0.4281 0.6391 0.1346\n",
      "HMEQ WOE TL {'resampler__sampling_strategy': 'not minority'} PCA {'transformer__n_components': 8} LogisticRegression 0.2605 0.3758 0.6145 0.136\n",
      "HMEQ WOE TL {'resampler__sampling_strategy': 'not minority'} CFS {'transformer__k': 6} LogisticRegression 0.2605 0.3819 0.6173 0.1296\n",
      "HMEQ WOE NA NA NA NA RandomForestClassifier 0.6303 0.7365 0.805 0.0672\n",
      "HMEQ WOE OSS {'resampler__n_neighbors': 1, 'resampler__n_seeds_S': 10, 'resampler__sampling_strategy': 'not minority'} NA NA RandomForestClassifier 0.6667 0.7532 0.8204 0.0677\n",
      "HMEQ WOE ROS {'resampler__sampling_strategy': 0.416} NA NA RandomForestClassifier 0.6527 0.7385 0.812 0.0665\n",
      "HMEQ WOE SMT {'resampler__k_neighbors': 5, 'resampler__sampling_strategy': 0.333} NA NA RandomForestClassifier 0.6779 0.7781 0.8309 0.0636\n",
      "HMEQ WOE ADA {'resampler__n_neighbors': 15, 'resampler__sampling_strategy': 0.416} NA NA RandomForestClassifier 0.7115 0.7876 0.8439 0.0644\n",
      "HMEQ WOE SMT_BL {'resampler__k_neighbors': 5, 'resampler__kind': 'borderline-2', 'resampler__sampling_strategy': 0.5} NA NA RandomForestClassifier 0.7227 0.7988 0.8505 0.0646\n",
      "HMEQ WOE SMT_ENN {'resampler__sampling_strategy': 0.5} NA NA RandomForestClassifier 0.5434 0.6701 0.7619 0.0762\n",
      "HMEQ WOE SMT_TL {'resampler__sampling_strategy': 0.5} NA NA RandomForestClassifier 0.6919 0.7635 0.8309 0.0659\n",
      "HMEQ WOE RUS {'resampler__sampling_strategy': 0.333} NA NA RandomForestClassifier 0.6919 0.76 0.8299 0.0678\n",
      "HMEQ WOE NCL {'resampler__n_neighbors': 3, 'resampler__sampling_strategy': 'not minority'} NA NA RandomForestClassifier 0.7479 0.7762 0.8516 0.0709\n",
      "HMEQ WOE TL {'resampler__sampling_strategy': 'not minority'} NA NA RandomForestClassifier 0.6499 0.7472 0.8137 0.0668\n",
      "HMEQ WOE NA NA PCA {'transformer__n_components': 8} RandomForestClassifier 0.465 0.4592 0.6626 0.1489\n",
      "HMEQ WOE NA NA CFS {'transformer__k': 8} RandomForestClassifier 0.5798 0.6866 0.7763 0.0746\n",
      "HMEQ WOE OSS {'resampler__n_neighbors': 1, 'resampler__n_seeds_S': 10, 'resampler__sampling_strategy': 'not minority'} PCA {'transformer__n_components': 8} RandomForestClassifier 0.5014 0.4805 0.6777 0.1539\n",
      "HMEQ WOE OSS {'resampler__n_neighbors': 1, 'resampler__n_seeds_S': 10, 'resampler__sampling_strategy': 'not minority'} CFS {'transformer__k': 8} RandomForestClassifier 0.6246 0.7068 0.7945 0.0763\n",
      "HMEQ WOE ROS {'resampler__sampling_strategy': 0.333} PCA {'transformer__n_components': 8} RandomForestClassifier 0.4482 0.4552 0.6591 0.1527\n",
      "HMEQ WOE ROS {'resampler__sampling_strategy': 0.333} CFS {'transformer__k': 8} RandomForestClassifier 0.6275 0.7179 0.7987 0.0741\n",
      "HMEQ WOE SMT {'resampler__k_neighbors': 5, 'resampler__sampling_strategy': 0.5} PCA {'transformer__n_components': 8} RandomForestClassifier 0.6022 0.4783 0.6869 0.1758\n",
      "HMEQ WOE SMT {'resampler__k_neighbors': 5, 'resampler__sampling_strategy': 0.5} CFS {'transformer__k': 8} RandomForestClassifier 0.6415 0.7179 0.8026 0.0755\n",
      "HMEQ WOE ADA {'resampler__n_neighbors': 5, 'resampler__sampling_strategy': 0.5} PCA {'transformer__n_components': 8} RandomForestClassifier 0.7479 0.6552 0.8072 0.132\n",
      "HMEQ WOE ADA {'resampler__n_neighbors': 5, 'resampler__sampling_strategy': 0.5} CFS {'transformer__k': 8} RandomForestClassifier 0.6275 0.7134 0.7973 0.0764\n",
      "HMEQ WOE SMT_BL {'resampler__k_neighbors': 10, 'resampler__kind': 'borderline-2', 'resampler__sampling_strategy': 0.416} PCA {'transformer__n_components': 8} RandomForestClassifier 0.5854 0.4964 0.6963 0.1671\n",
      "HMEQ WOE SMT_BL {'resampler__k_neighbors': 10, 'resampler__kind': 'borderline-2', 'resampler__sampling_strategy': 0.416} CFS {'transformer__k': 8} RandomForestClassifier 0.6359 0.7264 0.8036 0.0744\n",
      "HMEQ WOE SMT_ENN {'resampler__sampling_strategy': 0.5} PCA {'transformer__n_components': 4} RandomForestClassifier 0.5266 0.4694 0.6739 0.1725\n",
      "HMEQ WOE SMT_ENN {'resampler__sampling_strategy': 0.5} CFS {'transformer__k': 8} RandomForestClassifier 0.5434 0.6644 0.7602 0.0826\n",
      "HMEQ WOE SMT_TL {'resampler__sampling_strategy': 0.5} PCA {'transformer__n_components': 8} RandomForestClassifier 0.6919 0.6622 0.7963 0.1229\n",
      "HMEQ WOE SMT_TL {'resampler__sampling_strategy': 0.5} CFS {'transformer__k': 8} RandomForestClassifier 0.6555 0.7301 0.8103 0.0758\n",
      "HMEQ WOE RUS {'resampler__sampling_strategy': 0.333} PCA {'transformer__n_components': 8} RandomForestClassifier 0.521 0.4927 0.6864 0.1577\n",
      "HMEQ WOE RUS {'resampler__sampling_strategy': 0.333} CFS {'transformer__k': 8} RandomForestClassifier 0.6471 0.7108 0.8019 0.0763\n",
      "HMEQ WOE NCL {'resampler__n_neighbors': 3, 'resampler__sampling_strategy': 'not minority'} PCA {'transformer__n_components': 8} RandomForestClassifier 0.6415 0.6496 0.7791 0.1113\n",
      "HMEQ WOE NCL {'resampler__n_neighbors': 3, 'resampler__sampling_strategy': 'not minority'} CFS {'transformer__k': 8} RandomForestClassifier 0.7143 0.7434 0.8313 0.0772\n",
      "HMEQ WOE TL {'resampler__sampling_strategy': 'not minority'} PCA {'transformer__n_components': 8} RandomForestClassifier 0.479 0.4584 0.6633 0.1493\n",
      "HMEQ WOE TL {'resampler__sampling_strategy': 'not minority'} CFS {'transformer__k': 8} RandomForestClassifier 0.6162 0.7063 0.7921 0.0747\n",
      "HMEQ WOE NA NA NA NA MLPClassifier 0.3249 0.4567 0.6502 0.1179\n",
      "HMEQ WOE OSS {'resampler__n_neighbors': 1, 'resampler__n_seeds_S': 10, 'resampler__sampling_strategy': 'not minority'} NA NA MLPClassifier 0.3081 0.4418 0.6432 0.1203\n"
     ]
    },
    {
     "name": "stdout",
     "output_type": "stream",
     "text": [
      "HMEQ WOE ROS {'resampler__sampling_strategy': 0.416} NA NA MLPClassifier 0.4314 0.5159 0.6856 0.1229\n",
      "HMEQ WOE SMT {'resampler__k_neighbors': 10, 'resampler__sampling_strategy': 0.416} NA NA MLPClassifier 0.3894 0.4938 0.6713 0.1218\n",
      "HMEQ WOE ADA {'resampler__n_neighbors': 10, 'resampler__sampling_strategy': 0.5} NA NA MLPClassifier 0.4006 0.4965 0.6737 0.1259\n",
      "HMEQ WOE SMT_BL {'resampler__k_neighbors': 5, 'resampler__kind': 'borderline-2', 'resampler__sampling_strategy': 0.333} NA NA MLPClassifier 0.2941 0.4234 0.6352 0.1207\n",
      "HMEQ WOE SMT_ENN {'resampler__sampling_strategy': 0.5} NA NA MLPClassifier 0.395 0.5118 0.679 0.1193\n",
      "HMEQ WOE SMT_TL {'resampler__sampling_strategy': 0.416} NA NA MLPClassifier 0.4118 0.5017 0.6772 0.1248\n",
      "HMEQ WOE RUS {'resampler__sampling_strategy': 0.416} NA NA MLPClassifier 0.3277 0.444 0.6453 0.1259\n",
      "HMEQ WOE NCL {'resampler__n_neighbors': 3, 'resampler__sampling_strategy': 'not minority'} NA NA MLPClassifier 0.3922 0.4762 0.6643 0.131\n",
      "HMEQ WOE TL {'resampler__sampling_strategy': 'not minority'} NA NA MLPClassifier 0.3417 0.463 0.6541 0.1184\n",
      "HMEQ WOE NA NA PCA {'transformer__n_components': 8} MLPClassifier 0.2941 0.4086 0.6289 0.1275\n",
      "HMEQ WOE NA NA CFS {'transformer__k': 8} MLPClassifier 0.2885 0.4162 0.632 0.1242\n",
      "HMEQ WOE OSS {'resampler__n_neighbors': 3, 'resampler__n_seeds_S': 10, 'resampler__sampling_strategy': 'not minority'} PCA {'transformer__n_components': 8} MLPClassifier 0.3249 0.4436 0.645 0.1267\n",
      "HMEQ WOE OSS {'resampler__n_neighbors': 3, 'resampler__n_seeds_S': 10, 'resampler__sampling_strategy': 'not minority'} CFS {'transformer__k': 8} MLPClassifier 0.3585 0.4785 0.6618 0.1217\n",
      "HMEQ WOE ROS {'resampler__sampling_strategy': 0.416} PCA {'transformer__n_components': 8} MLPClassifier 0.4706 0.5209 0.6934 0.1322\n",
      "HMEQ WOE ROS {'resampler__sampling_strategy': 0.416} CFS {'transformer__k': 8} MLPClassifier 0.3725 0.4776 0.6629 0.1243\n",
      "HMEQ WOE SMT {'resampler__k_neighbors': 15, 'resampler__sampling_strategy': 0.416} PCA {'transformer__n_components': 8} MLPClassifier 0.3894 0.461 0.6573 0.1395\n",
      "HMEQ WOE SMT {'resampler__k_neighbors': 15, 'resampler__sampling_strategy': 0.416} CFS {'transformer__k': 6} MLPClassifier 0.451 0.5039 0.6832 0.1391\n",
      "HMEQ WOE ADA {'resampler__n_neighbors': 10, 'resampler__sampling_strategy': 0.5} PCA {'transformer__n_components': 8} MLPClassifier 0.4566 0.4977 0.6811 0.138\n",
      "HMEQ WOE ADA {'resampler__n_neighbors': 10, 'resampler__sampling_strategy': 0.5} CFS {'transformer__k': 8} MLPClassifier 0.4006 0.4831 0.6681 0.1338\n",
      "HMEQ WOE SMT_BL {'resampler__k_neighbors': 10, 'resampler__kind': 'borderline-2', 'resampler__sampling_strategy': 0.333} PCA {'transformer__n_components': 8} MLPClassifier 0.2941 0.4038 0.6268 0.1319\n",
      "HMEQ WOE SMT_BL {'resampler__k_neighbors': 10, 'resampler__kind': 'borderline-2', 'resampler__sampling_strategy': 0.333} CFS {'transformer__k': 6} MLPClassifier 0.3221 0.4398 0.6432 0.1249\n",
      "HMEQ WOE SMT_ENN {'resampler__sampling_strategy': 0.5} PCA {'transformer__n_components': 8} MLPClassifier 0.4622 0.5061 0.6857 0.1325\n",
      "HMEQ WOE SMT_ENN {'resampler__sampling_strategy': 0.5} CFS {'transformer__k': 8} MLPClassifier 0.3501 0.463 0.6548 0.1248\n",
      "HMEQ WOE SMT_TL {'resampler__sampling_strategy': 0.5} PCA {'transformer__n_components': 8} MLPClassifier 0.4986 0.5078 0.6913 0.1412\n",
      "HMEQ WOE SMT_TL {'resampler__sampling_strategy': 0.5} CFS {'transformer__k': 8} MLPClassifier 0.3445 0.4457 0.6471 0.1296\n",
      "HMEQ WOE RUS {'resampler__sampling_strategy': 0.5} PCA {'transformer__n_components': 8} MLPClassifier 0.5098 0.5163 0.6969 0.1453\n",
      "HMEQ WOE RUS {'resampler__sampling_strategy': 0.5} CFS {'transformer__k': 8} MLPClassifier 0.3838 0.4668 0.6594 0.1323\n",
      "HMEQ WOE NCL {'resampler__n_neighbors': 3, 'resampler__sampling_strategy': 'not minority'} PCA {'transformer__n_components': 8} MLPClassifier 0.4622 0.5132 0.6888 0.133\n",
      "HMEQ WOE NCL {'resampler__n_neighbors': 3, 'resampler__sampling_strategy': 'not minority'} CFS {'transformer__k': 8} MLPClassifier 0.4426 0.5232 0.6902 0.1259\n",
      "HMEQ WOE TL {'resampler__sampling_strategy': 'not minority'} PCA {'transformer__n_components': 8} MLPClassifier 0.3081 0.4391 0.6422 0.1267\n",
      "HMEQ WOE TL {'resampler__sampling_strategy': 'not minority'} CFS {'transformer__k': 8} MLPClassifier 0.3249 0.4487 0.6471 0.1239\n"
     ]
    },
    {
     "data": {
      "application/vnd.jupyter.widget-view+json": {
       "model_id": "3f88e1aae90f40ccb8884ac3f92b129a",
       "version_major": 2,
       "version_minor": 0
      },
      "text/plain": [
       "HBox(children=(FloatProgress(value=0.0, description='Training', style=ProgressStyle(description_width='initial…"
      ]
     },
     "metadata": {},
     "output_type": "display_data"
    },
    {
     "data": {
      "application/vnd.jupyter.widget-view+json": {
       "model_id": "",
       "version_major": 2,
       "version_minor": 0
      },
      "text/plain": [
       "HBox(children=(FloatProgress(value=0.0, description='Epoch 0', max=3337.0, style=ProgressStyle(description_wid…"
      ]
     },
     "metadata": {},
     "output_type": "display_data"
    },
    {
     "data": {
      "application/vnd.jupyter.widget-view+json": {
       "model_id": "",
       "version_major": 2,
       "version_minor": 0
      },
      "text/plain": [
       "HBox(children=(FloatProgress(value=0.0, description='Epoch 1', max=3337.0, style=ProgressStyle(description_wid…"
      ]
     },
     "metadata": {},
     "output_type": "display_data"
    },
    {
     "data": {
      "application/vnd.jupyter.widget-view+json": {
       "model_id": "",
       "version_major": 2,
       "version_minor": 0
      },
      "text/plain": [
       "HBox(children=(FloatProgress(value=0.0, description='Epoch 2', max=3337.0, style=ProgressStyle(description_wid…"
      ]
     },
     "metadata": {},
     "output_type": "display_data"
    },
    {
     "data": {
      "application/vnd.jupyter.widget-view+json": {
       "model_id": "",
       "version_major": 2,
       "version_minor": 0
      },
      "text/plain": [
       "HBox(children=(FloatProgress(value=0.0, description='Epoch 3', max=3337.0, style=ProgressStyle(description_wid…"
      ]
     },
     "metadata": {},
     "output_type": "display_data"
    },
    {
     "data": {
      "application/vnd.jupyter.widget-view+json": {
       "model_id": "",
       "version_major": 2,
       "version_minor": 0
      },
      "text/plain": [
       "HBox(children=(FloatProgress(value=0.0, description='Epoch 4', max=3337.0, style=ProgressStyle(description_wid…"
      ]
     },
     "metadata": {},
     "output_type": "display_data"
    },
    {
     "data": {
      "application/vnd.jupyter.widget-view+json": {
       "model_id": "",
       "version_major": 2,
       "version_minor": 0
      },
      "text/plain": [
       "HBox(children=(FloatProgress(value=0.0, description='Epoch 5', max=3337.0, style=ProgressStyle(description_wid…"
      ]
     },
     "metadata": {},
     "output_type": "display_data"
    },
    {
     "data": {
      "application/vnd.jupyter.widget-view+json": {
       "model_id": "",
       "version_major": 2,
       "version_minor": 0
      },
      "text/plain": [
       "HBox(children=(FloatProgress(value=0.0, description='Epoch 6', max=3337.0, style=ProgressStyle(description_wid…"
      ]
     },
     "metadata": {},
     "output_type": "display_data"
    },
    {
     "data": {
      "application/vnd.jupyter.widget-view+json": {
       "model_id": "",
       "version_major": 2,
       "version_minor": 0
      },
      "text/plain": [
       "HBox(children=(FloatProgress(value=0.0, description='Epoch 7', max=3337.0, style=ProgressStyle(description_wid…"
      ]
     },
     "metadata": {},
     "output_type": "display_data"
    },
    {
     "data": {
      "application/vnd.jupyter.widget-view+json": {
       "model_id": "",
       "version_major": 2,
       "version_minor": 0
      },
      "text/plain": [
       "HBox(children=(FloatProgress(value=0.0, description='Epoch 8', max=3337.0, style=ProgressStyle(description_wid…"
      ]
     },
     "metadata": {},
     "output_type": "display_data"
    },
    {
     "data": {
      "application/vnd.jupyter.widget-view+json": {
       "model_id": "",
       "version_major": 2,
       "version_minor": 0
      },
      "text/plain": [
       "HBox(children=(FloatProgress(value=0.0, description='Epoch 9', max=3337.0, style=ProgressStyle(description_wid…"
      ]
     },
     "metadata": {},
     "output_type": "display_data"
    },
    {
     "data": {
      "application/vnd.jupyter.widget-view+json": {
       "model_id": "",
       "version_major": 2,
       "version_minor": 0
      },
      "text/plain": [
       "HBox(children=(FloatProgress(value=0.0, description='Epoch 10', max=3337.0, style=ProgressStyle(description_wi…"
      ]
     },
     "metadata": {},
     "output_type": "display_data"
    },
    {
     "data": {
      "application/vnd.jupyter.widget-view+json": {
       "model_id": "",
       "version_major": 2,
       "version_minor": 0
      },
      "text/plain": [
       "HBox(children=(FloatProgress(value=0.0, description='Epoch 11', max=3337.0, style=ProgressStyle(description_wi…"
      ]
     },
     "metadata": {},
     "output_type": "display_data"
    },
    {
     "data": {
      "application/vnd.jupyter.widget-view+json": {
       "model_id": "",
       "version_major": 2,
       "version_minor": 0
      },
      "text/plain": [
       "HBox(children=(FloatProgress(value=0.0, description='Epoch 12', max=3337.0, style=ProgressStyle(description_wi…"
      ]
     },
     "metadata": {},
     "output_type": "display_data"
    },
    {
     "data": {
      "application/vnd.jupyter.widget-view+json": {
       "model_id": "",
       "version_major": 2,
       "version_minor": 0
      },
      "text/plain": [
       "HBox(children=(FloatProgress(value=0.0, description='Epoch 13', max=3337.0, style=ProgressStyle(description_wi…"
      ]
     },
     "metadata": {},
     "output_type": "display_data"
    },
    {
     "data": {
      "application/vnd.jupyter.widget-view+json": {
       "model_id": "",
       "version_major": 2,
       "version_minor": 0
      },
      "text/plain": [
       "HBox(children=(FloatProgress(value=0.0, description='Epoch 14', max=3337.0, style=ProgressStyle(description_wi…"
      ]
     },
     "metadata": {},
     "output_type": "display_data"
    },
    {
     "data": {
      "application/vnd.jupyter.widget-view+json": {
       "model_id": "",
       "version_major": 2,
       "version_minor": 0
      },
      "text/plain": [
       "HBox(children=(FloatProgress(value=0.0, description='Epoch 15', max=3337.0, style=ProgressStyle(description_wi…"
      ]
     },
     "metadata": {},
     "output_type": "display_data"
    },
    {
     "data": {
      "application/vnd.jupyter.widget-view+json": {
       "model_id": "",
       "version_major": 2,
       "version_minor": 0
      },
      "text/plain": [
       "HBox(children=(FloatProgress(value=0.0, description='Epoch 16', max=3337.0, style=ProgressStyle(description_wi…"
      ]
     },
     "metadata": {},
     "output_type": "display_data"
    },
    {
     "data": {
      "application/vnd.jupyter.widget-view+json": {
       "model_id": "",
       "version_major": 2,
       "version_minor": 0
      },
      "text/plain": [
       "HBox(children=(FloatProgress(value=0.0, description='Epoch 17', max=3337.0, style=ProgressStyle(description_wi…"
      ]
     },
     "metadata": {},
     "output_type": "display_data"
    },
    {
     "data": {
      "application/vnd.jupyter.widget-view+json": {
       "model_id": "",
       "version_major": 2,
       "version_minor": 0
      },
      "text/plain": [
       "HBox(children=(FloatProgress(value=0.0, description='Epoch 18', max=3337.0, style=ProgressStyle(description_wi…"
      ]
     },
     "metadata": {},
     "output_type": "display_data"
    },
    {
     "data": {
      "application/vnd.jupyter.widget-view+json": {
       "model_id": "",
       "version_major": 2,
       "version_minor": 0
      },
      "text/plain": [
       "HBox(children=(FloatProgress(value=0.0, description='Epoch 19', max=3337.0, style=ProgressStyle(description_wi…"
      ]
     },
     "metadata": {},
     "output_type": "display_data"
    },
    {
     "data": {
      "application/vnd.jupyter.widget-view+json": {
       "model_id": "",
       "version_major": 2,
       "version_minor": 0
      },
      "text/plain": [
       "HBox(children=(FloatProgress(value=0.0, description='Epoch 20', max=3337.0, style=ProgressStyle(description_wi…"
      ]
     },
     "metadata": {},
     "output_type": "display_data"
    },
    {
     "data": {
      "application/vnd.jupyter.widget-view+json": {
       "model_id": "",
       "version_major": 2,
       "version_minor": 0
      },
      "text/plain": [
       "HBox(children=(FloatProgress(value=0.0, description='Epoch 21', max=3337.0, style=ProgressStyle(description_wi…"
      ]
     },
     "metadata": {},
     "output_type": "display_data"
    },
    {
     "data": {
      "application/vnd.jupyter.widget-view+json": {
       "model_id": "",
       "version_major": 2,
       "version_minor": 0
      },
      "text/plain": [
       "HBox(children=(FloatProgress(value=0.0, description='Epoch 22', max=3337.0, style=ProgressStyle(description_wi…"
      ]
     },
     "metadata": {},
     "output_type": "display_data"
    },
    {
     "data": {
      "application/vnd.jupyter.widget-view+json": {
       "model_id": "",
       "version_major": 2,
       "version_minor": 0
      },
      "text/plain": [
       "HBox(children=(FloatProgress(value=0.0, description='Epoch 23', max=3337.0, style=ProgressStyle(description_wi…"
      ]
     },
     "metadata": {},
     "output_type": "display_data"
    },
    {
     "data": {
      "application/vnd.jupyter.widget-view+json": {
       "model_id": "",
       "version_major": 2,
       "version_minor": 0
      },
      "text/plain": [
       "HBox(children=(FloatProgress(value=0.0, description='Epoch 24', max=3337.0, style=ProgressStyle(description_wi…"
      ]
     },
     "metadata": {},
     "output_type": "display_data"
    },
    {
     "data": {
      "application/vnd.jupyter.widget-view+json": {
       "model_id": "",
       "version_major": 2,
       "version_minor": 0
      },
      "text/plain": [
       "HBox(children=(FloatProgress(value=0.0, description='Epoch 25', max=3337.0, style=ProgressStyle(description_wi…"
      ]
     },
     "metadata": {},
     "output_type": "display_data"
    },
    {
     "data": {
      "application/vnd.jupyter.widget-view+json": {
       "model_id": "",
       "version_major": 2,
       "version_minor": 0
      },
      "text/plain": [
       "HBox(children=(FloatProgress(value=0.0, description='Epoch 26', max=3337.0, style=ProgressStyle(description_wi…"
      ]
     },
     "metadata": {},
     "output_type": "display_data"
    },
    {
     "data": {
      "application/vnd.jupyter.widget-view+json": {
       "model_id": "",
       "version_major": 2,
       "version_minor": 0
      },
      "text/plain": [
       "HBox(children=(FloatProgress(value=0.0, description='Epoch 27', max=3337.0, style=ProgressStyle(description_wi…"
      ]
     },
     "metadata": {},
     "output_type": "display_data"
    },
    {
     "data": {
      "application/vnd.jupyter.widget-view+json": {
       "model_id": "",
       "version_major": 2,
       "version_minor": 0
      },
      "text/plain": [
       "HBox(children=(FloatProgress(value=0.0, description='Epoch 28', max=3337.0, style=ProgressStyle(description_wi…"
      ]
     },
     "metadata": {},
     "output_type": "display_data"
    },
    {
     "data": {
      "application/vnd.jupyter.widget-view+json": {
       "model_id": "",
       "version_major": 2,
       "version_minor": 0
      },
      "text/plain": [
       "HBox(children=(FloatProgress(value=0.0, description='Epoch 29', max=3337.0, style=ProgressStyle(description_wi…"
      ]
     },
     "metadata": {},
     "output_type": "display_data"
    },
    {
     "data": {
      "application/vnd.jupyter.widget-view+json": {
       "model_id": "",
       "version_major": 2,
       "version_minor": 0
      },
      "text/plain": [
       "HBox(children=(FloatProgress(value=0.0, description='Epoch 30', max=3337.0, style=ProgressStyle(description_wi…"
      ]
     },
     "metadata": {},
     "output_type": "display_data"
    },
    {
     "data": {
      "application/vnd.jupyter.widget-view+json": {
       "model_id": "",
       "version_major": 2,
       "version_minor": 0
      },
      "text/plain": [
       "HBox(children=(FloatProgress(value=0.0, description='Epoch 31', max=3337.0, style=ProgressStyle(description_wi…"
      ]
     },
     "metadata": {},
     "output_type": "display_data"
    },
    {
     "data": {
      "application/vnd.jupyter.widget-view+json": {
       "model_id": "",
       "version_major": 2,
       "version_minor": 0
      },
      "text/plain": [
       "HBox(children=(FloatProgress(value=0.0, description='Epoch 32', max=3337.0, style=ProgressStyle(description_wi…"
      ]
     },
     "metadata": {},
     "output_type": "display_data"
    },
    {
     "data": {
      "application/vnd.jupyter.widget-view+json": {
       "model_id": "",
       "version_major": 2,
       "version_minor": 0
      },
      "text/plain": [
       "HBox(children=(FloatProgress(value=0.0, description='Epoch 33', max=3337.0, style=ProgressStyle(description_wi…"
      ]
     },
     "metadata": {},
     "output_type": "display_data"
    },
    {
     "data": {
      "application/vnd.jupyter.widget-view+json": {
       "model_id": "",
       "version_major": 2,
       "version_minor": 0
      },
      "text/plain": [
       "HBox(children=(FloatProgress(value=0.0, description='Epoch 34', max=3337.0, style=ProgressStyle(description_wi…"
      ]
     },
     "metadata": {},
     "output_type": "display_data"
    },
    {
     "data": {
      "application/vnd.jupyter.widget-view+json": {
       "model_id": "",
       "version_major": 2,
       "version_minor": 0
      },
      "text/plain": [
       "HBox(children=(FloatProgress(value=0.0, description='Epoch 35', max=3337.0, style=ProgressStyle(description_wi…"
      ]
     },
     "metadata": {},
     "output_type": "display_data"
    },
    {
     "data": {
      "application/vnd.jupyter.widget-view+json": {
       "model_id": "",
       "version_major": 2,
       "version_minor": 0
      },
      "text/plain": [
       "HBox(children=(FloatProgress(value=0.0, description='Epoch 36', max=3337.0, style=ProgressStyle(description_wi…"
      ]
     },
     "metadata": {},
     "output_type": "display_data"
    },
    {
     "data": {
      "application/vnd.jupyter.widget-view+json": {
       "model_id": "",
       "version_major": 2,
       "version_minor": 0
      },
      "text/plain": [
       "HBox(children=(FloatProgress(value=0.0, description='Epoch 37', max=3337.0, style=ProgressStyle(description_wi…"
      ]
     },
     "metadata": {},
     "output_type": "display_data"
    },
    {
     "data": {
      "application/vnd.jupyter.widget-view+json": {
       "model_id": "",
       "version_major": 2,
       "version_minor": 0
      },
      "text/plain": [
       "HBox(children=(FloatProgress(value=0.0, description='Epoch 38', max=3337.0, style=ProgressStyle(description_wi…"
      ]
     },
     "metadata": {},
     "output_type": "display_data"
    },
    {
     "data": {
      "application/vnd.jupyter.widget-view+json": {
       "model_id": "",
       "version_major": 2,
       "version_minor": 0
      },
      "text/plain": [
       "HBox(children=(FloatProgress(value=0.0, description='Epoch 39', max=3337.0, style=ProgressStyle(description_wi…"
      ]
     },
     "metadata": {},
     "output_type": "display_data"
    },
    {
     "data": {
      "application/vnd.jupyter.widget-view+json": {
       "model_id": "",
       "version_major": 2,
       "version_minor": 0
      },
      "text/plain": [
       "HBox(children=(FloatProgress(value=0.0, description='Epoch 40', max=3337.0, style=ProgressStyle(description_wi…"
      ]
     },
     "metadata": {},
     "output_type": "display_data"
    },
    {
     "data": {
      "application/vnd.jupyter.widget-view+json": {
       "model_id": "",
       "version_major": 2,
       "version_minor": 0
      },
      "text/plain": [
       "HBox(children=(FloatProgress(value=0.0, description='Epoch 41', max=3337.0, style=ProgressStyle(description_wi…"
      ]
     },
     "metadata": {},
     "output_type": "display_data"
    },
    {
     "data": {
      "application/vnd.jupyter.widget-view+json": {
       "model_id": "",
       "version_major": 2,
       "version_minor": 0
      },
      "text/plain": [
       "HBox(children=(FloatProgress(value=0.0, description='Epoch 42', max=3337.0, style=ProgressStyle(description_wi…"
      ]
     },
     "metadata": {},
     "output_type": "display_data"
    },
    {
     "data": {
      "application/vnd.jupyter.widget-view+json": {
       "model_id": "",
       "version_major": 2,
       "version_minor": 0
      },
      "text/plain": [
       "HBox(children=(FloatProgress(value=0.0, description='Epoch 43', max=3337.0, style=ProgressStyle(description_wi…"
      ]
     },
     "metadata": {},
     "output_type": "display_data"
    },
    {
     "data": {
      "application/vnd.jupyter.widget-view+json": {
       "model_id": "",
       "version_major": 2,
       "version_minor": 0
      },
      "text/plain": [
       "HBox(children=(FloatProgress(value=0.0, description='Epoch 44', max=3337.0, style=ProgressStyle(description_wi…"
      ]
     },
     "metadata": {},
     "output_type": "display_data"
    },
    {
     "data": {
      "application/vnd.jupyter.widget-view+json": {
       "model_id": "",
       "version_major": 2,
       "version_minor": 0
      },
      "text/plain": [
       "HBox(children=(FloatProgress(value=0.0, description='Epoch 45', max=3337.0, style=ProgressStyle(description_wi…"
      ]
     },
     "metadata": {},
     "output_type": "display_data"
    },
    {
     "data": {
      "application/vnd.jupyter.widget-view+json": {
       "model_id": "",
       "version_major": 2,
       "version_minor": 0
      },
      "text/plain": [
       "HBox(children=(FloatProgress(value=0.0, description='Epoch 46', max=3337.0, style=ProgressStyle(description_wi…"
      ]
     },
     "metadata": {},
     "output_type": "display_data"
    },
    {
     "data": {
      "application/vnd.jupyter.widget-view+json": {
       "model_id": "",
       "version_major": 2,
       "version_minor": 0
      },
      "text/plain": [
       "HBox(children=(FloatProgress(value=0.0, description='Epoch 47', max=3337.0, style=ProgressStyle(description_wi…"
      ]
     },
     "metadata": {},
     "output_type": "display_data"
    },
    {
     "data": {
      "application/vnd.jupyter.widget-view+json": {
       "model_id": "",
       "version_major": 2,
       "version_minor": 0
      },
      "text/plain": [
       "HBox(children=(FloatProgress(value=0.0, description='Epoch 48', max=3337.0, style=ProgressStyle(description_wi…"
      ]
     },
     "metadata": {},
     "output_type": "display_data"
    },
    {
     "data": {
      "application/vnd.jupyter.widget-view+json": {
       "model_id": "",
       "version_major": 2,
       "version_minor": 0
      },
      "text/plain": [
       "HBox(children=(FloatProgress(value=0.0, description='Epoch 49', max=3337.0, style=ProgressStyle(description_wi…"
      ]
     },
     "metadata": {},
     "output_type": "display_data"
    },
    {
     "data": {
      "application/vnd.jupyter.widget-view+json": {
       "model_id": "",
       "version_major": 2,
       "version_minor": 0
      },
      "text/plain": [
       "HBox(children=(FloatProgress(value=0.0, description='Epoch 50', max=3337.0, style=ProgressStyle(description_wi…"
      ]
     },
     "metadata": {},
     "output_type": "display_data"
    },
    {
     "data": {
      "application/vnd.jupyter.widget-view+json": {
       "model_id": "",
       "version_major": 2,
       "version_minor": 0
      },
      "text/plain": [
       "HBox(children=(FloatProgress(value=0.0, description='Epoch 51', max=3337.0, style=ProgressStyle(description_wi…"
      ]
     },
     "metadata": {},
     "output_type": "display_data"
    },
    {
     "data": {
      "application/vnd.jupyter.widget-view+json": {
       "model_id": "",
       "version_major": 2,
       "version_minor": 0
      },
      "text/plain": [
       "HBox(children=(FloatProgress(value=0.0, description='Epoch 52', max=3337.0, style=ProgressStyle(description_wi…"
      ]
     },
     "metadata": {},
     "output_type": "display_data"
    },
    {
     "data": {
      "application/vnd.jupyter.widget-view+json": {
       "model_id": "",
       "version_major": 2,
       "version_minor": 0
      },
      "text/plain": [
       "HBox(children=(FloatProgress(value=0.0, description='Epoch 53', max=3337.0, style=ProgressStyle(description_wi…"
      ]
     },
     "metadata": {},
     "output_type": "display_data"
    },
    {
     "data": {
      "application/vnd.jupyter.widget-view+json": {
       "model_id": "",
       "version_major": 2,
       "version_minor": 0
      },
      "text/plain": [
       "HBox(children=(FloatProgress(value=0.0, description='Epoch 54', max=3337.0, style=ProgressStyle(description_wi…"
      ]
     },
     "metadata": {},
     "output_type": "display_data"
    },
    {
     "data": {
      "application/vnd.jupyter.widget-view+json": {
       "model_id": "",
       "version_major": 2,
       "version_minor": 0
      },
      "text/plain": [
       "HBox(children=(FloatProgress(value=0.0, description='Epoch 55', max=3337.0, style=ProgressStyle(description_wi…"
      ]
     },
     "metadata": {},
     "output_type": "display_data"
    },
    {
     "data": {
      "application/vnd.jupyter.widget-view+json": {
       "model_id": "",
       "version_major": 2,
       "version_minor": 0
      },
      "text/plain": [
       "HBox(children=(FloatProgress(value=0.0, description='Epoch 56', max=3337.0, style=ProgressStyle(description_wi…"
      ]
     },
     "metadata": {},
     "output_type": "display_data"
    },
    {
     "data": {
      "application/vnd.jupyter.widget-view+json": {
       "model_id": "",
       "version_major": 2,
       "version_minor": 0
      },
      "text/plain": [
       "HBox(children=(FloatProgress(value=0.0, description='Epoch 57', max=3337.0, style=ProgressStyle(description_wi…"
      ]
     },
     "metadata": {},
     "output_type": "display_data"
    },
    {
     "data": {
      "application/vnd.jupyter.widget-view+json": {
       "model_id": "",
       "version_major": 2,
       "version_minor": 0
      },
      "text/plain": [
       "HBox(children=(FloatProgress(value=0.0, description='Epoch 58', max=3337.0, style=ProgressStyle(description_wi…"
      ]
     },
     "metadata": {},
     "output_type": "display_data"
    },
    {
     "data": {
      "application/vnd.jupyter.widget-view+json": {
       "model_id": "",
       "version_major": 2,
       "version_minor": 0
      },
      "text/plain": [
       "HBox(children=(FloatProgress(value=0.0, description='Epoch 59', max=3337.0, style=ProgressStyle(description_wi…"
      ]
     },
     "metadata": {},
     "output_type": "display_data"
    },
    {
     "data": {
      "application/vnd.jupyter.widget-view+json": {
       "model_id": "",
       "version_major": 2,
       "version_minor": 0
      },
      "text/plain": [
       "HBox(children=(FloatProgress(value=0.0, description='Epoch 60', max=3337.0, style=ProgressStyle(description_wi…"
      ]
     },
     "metadata": {},
     "output_type": "display_data"
    },
    {
     "data": {
      "application/vnd.jupyter.widget-view+json": {
       "model_id": "",
       "version_major": 2,
       "version_minor": 0
      },
      "text/plain": [
       "HBox(children=(FloatProgress(value=0.0, description='Epoch 61', max=3337.0, style=ProgressStyle(description_wi…"
      ]
     },
     "metadata": {},
     "output_type": "display_data"
    },
    {
     "data": {
      "application/vnd.jupyter.widget-view+json": {
       "model_id": "",
       "version_major": 2,
       "version_minor": 0
      },
      "text/plain": [
       "HBox(children=(FloatProgress(value=0.0, description='Epoch 62', max=3337.0, style=ProgressStyle(description_wi…"
      ]
     },
     "metadata": {},
     "output_type": "display_data"
    },
    {
     "data": {
      "application/vnd.jupyter.widget-view+json": {
       "model_id": "",
       "version_major": 2,
       "version_minor": 0
      },
      "text/plain": [
       "HBox(children=(FloatProgress(value=0.0, description='Epoch 63', max=3337.0, style=ProgressStyle(description_wi…"
      ]
     },
     "metadata": {},
     "output_type": "display_data"
    },
    {
     "data": {
      "application/vnd.jupyter.widget-view+json": {
       "model_id": "",
       "version_major": 2,
       "version_minor": 0
      },
      "text/plain": [
       "HBox(children=(FloatProgress(value=0.0, description='Epoch 64', max=3337.0, style=ProgressStyle(description_wi…"
      ]
     },
     "metadata": {},
     "output_type": "display_data"
    },
    {
     "data": {
      "application/vnd.jupyter.widget-view+json": {
       "model_id": "",
       "version_major": 2,
       "version_minor": 0
      },
      "text/plain": [
       "HBox(children=(FloatProgress(value=0.0, description='Epoch 65', max=3337.0, style=ProgressStyle(description_wi…"
      ]
     },
     "metadata": {},
     "output_type": "display_data"
    },
    {
     "data": {
      "application/vnd.jupyter.widget-view+json": {
       "model_id": "",
       "version_major": 2,
       "version_minor": 0
      },
      "text/plain": [
       "HBox(children=(FloatProgress(value=0.0, description='Epoch 66', max=3337.0, style=ProgressStyle(description_wi…"
      ]
     },
     "metadata": {},
     "output_type": "display_data"
    },
    {
     "data": {
      "application/vnd.jupyter.widget-view+json": {
       "model_id": "",
       "version_major": 2,
       "version_minor": 0
      },
      "text/plain": [
       "HBox(children=(FloatProgress(value=0.0, description='Epoch 67', max=3337.0, style=ProgressStyle(description_wi…"
      ]
     },
     "metadata": {},
     "output_type": "display_data"
    },
    {
     "data": {
      "application/vnd.jupyter.widget-view+json": {
       "model_id": "",
       "version_major": 2,
       "version_minor": 0
      },
      "text/plain": [
       "HBox(children=(FloatProgress(value=0.0, description='Epoch 68', max=3337.0, style=ProgressStyle(description_wi…"
      ]
     },
     "metadata": {},
     "output_type": "display_data"
    },
    {
     "data": {
      "application/vnd.jupyter.widget-view+json": {
       "model_id": "",
       "version_major": 2,
       "version_minor": 0
      },
      "text/plain": [
       "HBox(children=(FloatProgress(value=0.0, description='Epoch 69', max=3337.0, style=ProgressStyle(description_wi…"
      ]
     },
     "metadata": {},
     "output_type": "display_data"
    },
    {
     "data": {
      "application/vnd.jupyter.widget-view+json": {
       "model_id": "",
       "version_major": 2,
       "version_minor": 0
      },
      "text/plain": [
       "HBox(children=(FloatProgress(value=0.0, description='Epoch 70', max=3337.0, style=ProgressStyle(description_wi…"
      ]
     },
     "metadata": {},
     "output_type": "display_data"
    },
    {
     "data": {
      "application/vnd.jupyter.widget-view+json": {
       "model_id": "",
       "version_major": 2,
       "version_minor": 0
      },
      "text/plain": [
       "HBox(children=(FloatProgress(value=0.0, description='Epoch 71', max=3337.0, style=ProgressStyle(description_wi…"
      ]
     },
     "metadata": {},
     "output_type": "display_data"
    },
    {
     "data": {
      "application/vnd.jupyter.widget-view+json": {
       "model_id": "",
       "version_major": 2,
       "version_minor": 0
      },
      "text/plain": [
       "HBox(children=(FloatProgress(value=0.0, description='Epoch 72', max=3337.0, style=ProgressStyle(description_wi…"
      ]
     },
     "metadata": {},
     "output_type": "display_data"
    },
    {
     "data": {
      "application/vnd.jupyter.widget-view+json": {
       "model_id": "",
       "version_major": 2,
       "version_minor": 0
      },
      "text/plain": [
       "HBox(children=(FloatProgress(value=0.0, description='Epoch 73', max=3337.0, style=ProgressStyle(description_wi…"
      ]
     },
     "metadata": {},
     "output_type": "display_data"
    },
    {
     "data": {
      "application/vnd.jupyter.widget-view+json": {
       "model_id": "",
       "version_major": 2,
       "version_minor": 0
      },
      "text/plain": [
       "HBox(children=(FloatProgress(value=0.0, description='Epoch 74', max=3337.0, style=ProgressStyle(description_wi…"
      ]
     },
     "metadata": {},
     "output_type": "display_data"
    },
    {
     "data": {
      "application/vnd.jupyter.widget-view+json": {
       "model_id": "",
       "version_major": 2,
       "version_minor": 0
      },
      "text/plain": [
       "HBox(children=(FloatProgress(value=0.0, description='Epoch 75', max=3337.0, style=ProgressStyle(description_wi…"
      ]
     },
     "metadata": {},
     "output_type": "display_data"
    },
    {
     "data": {
      "application/vnd.jupyter.widget-view+json": {
       "model_id": "",
       "version_major": 2,
       "version_minor": 0
      },
      "text/plain": [
       "HBox(children=(FloatProgress(value=0.0, description='Epoch 76', max=3337.0, style=ProgressStyle(description_wi…"
      ]
     },
     "metadata": {},
     "output_type": "display_data"
    },
    {
     "data": {
      "application/vnd.jupyter.widget-view+json": {
       "model_id": "",
       "version_major": 2,
       "version_minor": 0
      },
      "text/plain": [
       "HBox(children=(FloatProgress(value=0.0, description='Epoch 77', max=3337.0, style=ProgressStyle(description_wi…"
      ]
     },
     "metadata": {},
     "output_type": "display_data"
    },
    {
     "data": {
      "application/vnd.jupyter.widget-view+json": {
       "model_id": "",
       "version_major": 2,
       "version_minor": 0
      },
      "text/plain": [
       "HBox(children=(FloatProgress(value=0.0, description='Epoch 78', max=3337.0, style=ProgressStyle(description_wi…"
      ]
     },
     "metadata": {},
     "output_type": "display_data"
    },
    {
     "data": {
      "application/vnd.jupyter.widget-view+json": {
       "model_id": "",
       "version_major": 2,
       "version_minor": 0
      },
      "text/plain": [
       "HBox(children=(FloatProgress(value=0.0, description='Epoch 79', max=3337.0, style=ProgressStyle(description_wi…"
      ]
     },
     "metadata": {},
     "output_type": "display_data"
    },
    {
     "data": {
      "application/vnd.jupyter.widget-view+json": {
       "model_id": "",
       "version_major": 2,
       "version_minor": 0
      },
      "text/plain": [
       "HBox(children=(FloatProgress(value=0.0, description='Epoch 80', max=3337.0, style=ProgressStyle(description_wi…"
      ]
     },
     "metadata": {},
     "output_type": "display_data"
    },
    {
     "data": {
      "application/vnd.jupyter.widget-view+json": {
       "model_id": "",
       "version_major": 2,
       "version_minor": 0
      },
      "text/plain": [
       "HBox(children=(FloatProgress(value=0.0, description='Epoch 81', max=3337.0, style=ProgressStyle(description_wi…"
      ]
     },
     "metadata": {},
     "output_type": "display_data"
    },
    {
     "data": {
      "application/vnd.jupyter.widget-view+json": {
       "model_id": "",
       "version_major": 2,
       "version_minor": 0
      },
      "text/plain": [
       "HBox(children=(FloatProgress(value=0.0, description='Epoch 82', max=3337.0, style=ProgressStyle(description_wi…"
      ]
     },
     "metadata": {},
     "output_type": "display_data"
    },
    {
     "data": {
      "application/vnd.jupyter.widget-view+json": {
       "model_id": "",
       "version_major": 2,
       "version_minor": 0
      },
      "text/plain": [
       "HBox(children=(FloatProgress(value=0.0, description='Epoch 83', max=3337.0, style=ProgressStyle(description_wi…"
      ]
     },
     "metadata": {},
     "output_type": "display_data"
    },
    {
     "data": {
      "application/vnd.jupyter.widget-view+json": {
       "model_id": "",
       "version_major": 2,
       "version_minor": 0
      },
      "text/plain": [
       "HBox(children=(FloatProgress(value=0.0, description='Epoch 84', max=3337.0, style=ProgressStyle(description_wi…"
      ]
     },
     "metadata": {},
     "output_type": "display_data"
    },
    {
     "data": {
      "application/vnd.jupyter.widget-view+json": {
       "model_id": "",
       "version_major": 2,
       "version_minor": 0
      },
      "text/plain": [
       "HBox(children=(FloatProgress(value=0.0, description='Epoch 85', max=3337.0, style=ProgressStyle(description_wi…"
      ]
     },
     "metadata": {},
     "output_type": "display_data"
    },
    {
     "data": {
      "application/vnd.jupyter.widget-view+json": {
       "model_id": "",
       "version_major": 2,
       "version_minor": 0
      },
      "text/plain": [
       "HBox(children=(FloatProgress(value=0.0, description='Epoch 86', max=3337.0, style=ProgressStyle(description_wi…"
      ]
     },
     "metadata": {},
     "output_type": "display_data"
    },
    {
     "data": {
      "application/vnd.jupyter.widget-view+json": {
       "model_id": "",
       "version_major": 2,
       "version_minor": 0
      },
      "text/plain": [
       "HBox(children=(FloatProgress(value=0.0, description='Epoch 87', max=3337.0, style=ProgressStyle(description_wi…"
      ]
     },
     "metadata": {},
     "output_type": "display_data"
    },
    {
     "data": {
      "application/vnd.jupyter.widget-view+json": {
       "model_id": "",
       "version_major": 2,
       "version_minor": 0
      },
      "text/plain": [
       "HBox(children=(FloatProgress(value=0.0, description='Epoch 88', max=3337.0, style=ProgressStyle(description_wi…"
      ]
     },
     "metadata": {},
     "output_type": "display_data"
    },
    {
     "data": {
      "application/vnd.jupyter.widget-view+json": {
       "model_id": "",
       "version_major": 2,
       "version_minor": 0
      },
      "text/plain": [
       "HBox(children=(FloatProgress(value=0.0, description='Epoch 89', max=3337.0, style=ProgressStyle(description_wi…"
      ]
     },
     "metadata": {},
     "output_type": "display_data"
    },
    {
     "data": {
      "application/vnd.jupyter.widget-view+json": {
       "model_id": "",
       "version_major": 2,
       "version_minor": 0
      },
      "text/plain": [
       "HBox(children=(FloatProgress(value=0.0, description='Epoch 90', max=3337.0, style=ProgressStyle(description_wi…"
      ]
     },
     "metadata": {},
     "output_type": "display_data"
    },
    {
     "data": {
      "application/vnd.jupyter.widget-view+json": {
       "model_id": "",
       "version_major": 2,
       "version_minor": 0
      },
      "text/plain": [
       "HBox(children=(FloatProgress(value=0.0, description='Epoch 91', max=3337.0, style=ProgressStyle(description_wi…"
      ]
     },
     "metadata": {},
     "output_type": "display_data"
    },
    {
     "data": {
      "application/vnd.jupyter.widget-view+json": {
       "model_id": "",
       "version_major": 2,
       "version_minor": 0
      },
      "text/plain": [
       "HBox(children=(FloatProgress(value=0.0, description='Epoch 92', max=3337.0, style=ProgressStyle(description_wi…"
      ]
     },
     "metadata": {},
     "output_type": "display_data"
    },
    {
     "data": {
      "application/vnd.jupyter.widget-view+json": {
       "model_id": "",
       "version_major": 2,
       "version_minor": 0
      },
      "text/plain": [
       "HBox(children=(FloatProgress(value=0.0, description='Epoch 93', max=3337.0, style=ProgressStyle(description_wi…"
      ]
     },
     "metadata": {},
     "output_type": "display_data"
    },
    {
     "data": {
      "application/vnd.jupyter.widget-view+json": {
       "model_id": "",
       "version_major": 2,
       "version_minor": 0
      },
      "text/plain": [
       "HBox(children=(FloatProgress(value=0.0, description='Epoch 94', max=3337.0, style=ProgressStyle(description_wi…"
      ]
     },
     "metadata": {},
     "output_type": "display_data"
    },
    {
     "data": {
      "application/vnd.jupyter.widget-view+json": {
       "model_id": "",
       "version_major": 2,
       "version_minor": 0
      },
      "text/plain": [
       "HBox(children=(FloatProgress(value=0.0, description='Epoch 95', max=3337.0, style=ProgressStyle(description_wi…"
      ]
     },
     "metadata": {},
     "output_type": "display_data"
    },
    {
     "data": {
      "application/vnd.jupyter.widget-view+json": {
       "model_id": "",
       "version_major": 2,
       "version_minor": 0
      },
      "text/plain": [
       "HBox(children=(FloatProgress(value=0.0, description='Epoch 96', max=3337.0, style=ProgressStyle(description_wi…"
      ]
     },
     "metadata": {},
     "output_type": "display_data"
    },
    {
     "data": {
      "application/vnd.jupyter.widget-view+json": {
       "model_id": "",
       "version_major": 2,
       "version_minor": 0
      },
      "text/plain": [
       "HBox(children=(FloatProgress(value=0.0, description='Epoch 97', max=3337.0, style=ProgressStyle(description_wi…"
      ]
     },
     "metadata": {},
     "output_type": "display_data"
    },
    {
     "data": {
      "application/vnd.jupyter.widget-view+json": {
       "model_id": "",
       "version_major": 2,
       "version_minor": 0
      },
      "text/plain": [
       "HBox(children=(FloatProgress(value=0.0, description='Epoch 98', max=3337.0, style=ProgressStyle(description_wi…"
      ]
     },
     "metadata": {},
     "output_type": "display_data"
    },
    {
     "data": {
      "application/vnd.jupyter.widget-view+json": {
       "model_id": "",
       "version_major": 2,
       "version_minor": 0
      },
      "text/plain": [
       "HBox(children=(FloatProgress(value=0.0, description='Epoch 99', max=3337.0, style=ProgressStyle(description_wi…"
      ]
     },
     "metadata": {},
     "output_type": "display_data"
    },
    {
     "name": "stdout",
     "output_type": "stream",
     "text": [
      "\n"
     ]
    },
    {
     "data": {
      "application/vnd.jupyter.widget-view+json": {
       "model_id": "4af8431409f64cfc91f87e3ce82c621b",
       "version_major": 2,
       "version_minor": 0
      },
      "text/plain": [
       "HBox(children=(FloatProgress(value=0.0, max=2.0), HTML(value='')))"
      ]
     },
     "metadata": {},
     "output_type": "display_data"
    },
    {
     "name": "stdout",
     "output_type": "stream",
     "text": [
      "\n"
     ]
    },
    {
     "data": {
      "application/vnd.jupyter.widget-view+json": {
       "model_id": "cb86b4b9ed4d45a88236f4f46d10deb0",
       "version_major": 2,
       "version_minor": 0
      },
      "text/plain": [
       "HBox(children=(FloatProgress(value=0.0, max=2.0), HTML(value='')))"
      ]
     },
     "metadata": {},
     "output_type": "display_data"
    },
    {
     "name": "stdout",
     "output_type": "stream",
     "text": [
      "\n",
      "Dropping JOB_embedding_1 with vif=20.576858444225355\n",
      "100%|█████████████████████████████████████████████| 100/100 [01:11<00:00,  1.39trial/s, best loss: -0.9419335882739969]\n",
      "best:\n",
      "{'criterion': 0, 'max_depth': 22, 'max_features': 1, 'n_estimators': 54}\n",
      "100%|█████████████████████████████████████████████████████████████| 100/100 [00:07<00:00, 12.70trial/s, best loss: nan]\n",
      "best:\n",
      "{'C': 50.89443987712212, 'penalty': 1}\n",
      "100%|█████████████████████████████████████████████| 100/100 [18:05<00:00, 10.85s/trial, best loss: -0.8021366868744295]\n",
      "best:\n",
      "{'alpha': 0.0034660400935621594, 'hidden_layer_sizes': 91}\n",
      "HMEQ EMB NA NA NA NA LogisticRegression 0.2549 0.3722 0.6131 0.1283\n",
      "HMEQ EMB OSS {'resampler__n_neighbors': 3, 'resampler__n_seeds_S': 10, 'resampler__sampling_strategy': 'not minority'} NA NA LogisticRegression 0.2605 0.378 0.6156 0.1277\n",
      "HMEQ EMB ROS {'resampler__sampling_strategy': 0.5} NA NA LogisticRegression 0.3838 0.4605 0.6566 0.1383\n",
      "HMEQ EMB SMT {'resampler__k_neighbors': 10, 'resampler__sampling_strategy': 0.416} NA NA LogisticRegression 0.3361 0.4248 0.6373 0.1348\n",
      "HMEQ EMB ADA {'resampler__n_neighbors': 15, 'resampler__sampling_strategy': 0.416} NA NA LogisticRegression 0.3669 0.4471 0.6492 0.1377\n",
      "HMEQ EMB SMT_BL {'resampler__k_neighbors': 10, 'resampler__kind': 'borderline-2', 'resampler__sampling_strategy': 0.416} NA NA LogisticRegression 0.3529 0.4398 0.645 0.1348\n",
      "HMEQ EMB SMT_ENN {'resampler__sampling_strategy': 0.5} NA NA LogisticRegression 0.3277 0.4301 0.6394 0.1302\n",
      "HMEQ EMB SMT_TL {'resampler__sampling_strategy': 0.5} NA NA LogisticRegression 0.4062 0.4762 0.6657 0.1384\n",
      "HMEQ EMB RUS {'resampler__sampling_strategy': 0.333} NA NA LogisticRegression 0.2941 0.4015 0.6257 0.1293\n",
      "HMEQ EMB NCL {'resampler__n_neighbors': 3, 'resampler__sampling_strategy': 'not minority'} NA NA LogisticRegression 0.3669 0.4479 0.6496 0.1341\n",
      "HMEQ EMB TL {'resampler__sampling_strategy': 'not majority'} NA NA LogisticRegression 0.2465 0.3636 0.6096 0.1291\n",
      "HMEQ EMB NA NA PCA {'transformer__n_components': 10} LogisticRegression 0.2549 0.3655 0.61 0.1354\n",
      "HMEQ EMB NA NA CFS {'transformer__k': 10} LogisticRegression 0.2493 0.3678 0.6114 0.1283\n",
      "HMEQ EMB OSS {'resampler__n_neighbors': 3, 'resampler__n_seeds_S': 10, 'resampler__sampling_strategy': 'not minority'} PCA {'transformer__n_components': 10} LogisticRegression 0.2493 0.3539 0.6047 0.136\n",
      "HMEQ EMB OSS {'resampler__n_neighbors': 3, 'resampler__n_seeds_S': 10, 'resampler__sampling_strategy': 'not minority'} CFS {'transformer__k': 10} LogisticRegression 0.2521 0.3689 0.6117 0.1278\n",
      "HMEQ EMB ROS {'resampler__sampling_strategy': 0.416} PCA {'transformer__n_components': 10} LogisticRegression 0.3613 0.4329 0.6422 0.1464\n",
      "HMEQ EMB ROS {'resampler__sampling_strategy': 0.416} CFS {'transformer__k': 10} LogisticRegression 0.3417 0.4326 0.6412 0.1343\n",
      "HMEQ EMB SMT {'resampler__k_neighbors': 10, 'resampler__sampling_strategy': 0.333} PCA {'transformer__n_components': 10} LogisticRegression 0.3109 0.4081 0.6289 0.1402\n",
      "HMEQ EMB SMT {'resampler__k_neighbors': 10, 'resampler__sampling_strategy': 0.333} CFS {'transformer__k': 10} LogisticRegression 0.3109 0.415 0.6321 0.1302\n",
      "HMEQ EMB ADA {'resampler__n_neighbors': 5, 'resampler__sampling_strategy': 0.416} PCA {'transformer__n_components': 10} LogisticRegression 0.3417 0.4185 0.6345 0.1484\n",
      "HMEQ EMB ADA {'resampler__n_neighbors': 5, 'resampler__sampling_strategy': 0.416} CFS {'transformer__k': 10} LogisticRegression 0.3529 0.4398 0.645 0.1368\n",
      "HMEQ EMB SMT_BL {'resampler__k_neighbors': 10, 'resampler__kind': 'borderline-1', 'resampler__sampling_strategy': 0.5} PCA {'transformer__n_components': 10} LogisticRegression 0.4062 0.4348 0.6454 0.1588\n",
      "HMEQ EMB SMT_BL {'resampler__k_neighbors': 10, 'resampler__kind': 'borderline-1', 'resampler__sampling_strategy': 0.5} CFS {'transformer__k': 10} LogisticRegression 0.3978 0.4566 0.6559 0.1427\n",
      "HMEQ EMB SMT_ENN {'resampler__sampling_strategy': 0.5} PCA {'transformer__n_components': 10} LogisticRegression 0.3613 0.4351 0.6433 0.1413\n",
      "HMEQ EMB SMT_ENN {'resampler__sampling_strategy': 0.5} CFS {'transformer__k': 10} LogisticRegression 0.3473 0.4493 0.6489 0.1295\n",
      "HMEQ EMB SMT_TL {'resampler__sampling_strategy': 0.333} PCA {'transformer__n_components': 10} LogisticRegression 0.3081 0.4022 0.6261 0.139\n",
      "HMEQ EMB SMT_TL {'resampler__sampling_strategy': 0.333} CFS {'transformer__k': 10} LogisticRegression 0.3053 0.4129 0.631 0.1286\n",
      "HMEQ EMB RUS {'resampler__sampling_strategy': 0.333} PCA {'transformer__n_components': 10} LogisticRegression 0.3081 0.4022 0.6261 0.1391\n",
      "HMEQ EMB RUS {'resampler__sampling_strategy': 0.333} CFS {'transformer__k': 10} LogisticRegression 0.3109 0.4197 0.6341 0.1295\n",
      "HMEQ EMB NCL {'resampler__n_neighbors': 3, 'resampler__sampling_strategy': 'not minority'} PCA {'transformer__n_components': 10} LogisticRegression 0.3585 0.4303 0.6408 0.1457\n",
      "HMEQ EMB NCL {'resampler__n_neighbors': 3, 'resampler__sampling_strategy': 'not minority'} CFS {'transformer__k': 10} LogisticRegression 0.3725 0.4578 0.6545 0.1341\n",
      "HMEQ EMB TL {'resampler__sampling_strategy': 'not majority'} PCA {'transformer__n_components': 10} LogisticRegression 0.2353 0.3436 0.6009 0.1362\n",
      "HMEQ EMB TL {'resampler__sampling_strategy': 'not majority'} CFS {'transformer__k': 10} LogisticRegression 0.2437 0.3648 0.6103 0.1291\n",
      "HMEQ EMB NA NA NA NA RandomForestClassifier 0.6471 0.7524 0.8144 0.0658\n",
      "HMEQ EMB OSS {'resampler__n_neighbors': 3, 'resampler__n_seeds_S': 10, 'resampler__sampling_strategy': 'not minority'} NA NA RandomForestClassifier 0.6471 0.7488 0.8134 0.0656\n",
      "HMEQ EMB ROS {'resampler__sampling_strategy': 0.416} NA NA RandomForestClassifier 0.6779 0.7646 0.8271 0.0628\n",
      "HMEQ EMB SMT {'resampler__k_neighbors': 5, 'resampler__sampling_strategy': 0.5} NA NA RandomForestClassifier 0.6863 0.7765 0.833 0.0626\n",
      "HMEQ EMB ADA {'resampler__n_neighbors': 10, 'resampler__sampling_strategy': 0.5} NA NA RandomForestClassifier 0.6919 0.7816 0.8362 0.063\n",
      "HMEQ EMB SMT_BL {'resampler__k_neighbors': 10, 'resampler__kind': 'borderline-1', 'resampler__sampling_strategy': 0.5} NA NA RandomForestClassifier 0.6723 0.7668 0.826 0.0629\n",
      "HMEQ EMB SMT_ENN {'resampler__sampling_strategy': 0.5} NA NA RandomForestClassifier 0.563 0.6955 0.7745 0.074\n",
      "HMEQ EMB SMT_TL {'resampler__sampling_strategy': 0.416} NA NA RandomForestClassifier 0.6723 0.7717 0.8274 0.0628\n",
      "HMEQ EMB RUS {'resampler__sampling_strategy': 0.333} NA NA RandomForestClassifier 0.6947 0.7702 0.8337 0.0662\n",
      "HMEQ EMB NCL {'resampler__n_neighbors': 3, 'resampler__sampling_strategy': 'not minority'} NA NA RandomForestClassifier 0.7591 0.7889 0.8589 0.0707\n",
      "HMEQ EMB TL {'resampler__sampling_strategy': 'not minority'} NA NA RandomForestClassifier 0.6471 0.7488 0.8134 0.0657\n",
      "HMEQ EMB NA NA PCA {'transformer__n_components': 10} RandomForestClassifier 0.465 0.5381 0.6996 0.1264\n",
      "HMEQ EMB NA NA CFS {'transformer__k': 10} RandomForestClassifier 0.591 0.6952 0.7819 0.078\n",
      "HMEQ EMB OSS {'resampler__n_neighbors': 3, 'resampler__n_seeds_S': 10, 'resampler__sampling_strategy': 'not minority'} PCA {'transformer__n_components': 10} RandomForestClassifier 0.479 0.5262 0.6969 0.1296\n",
      "HMEQ EMB OSS {'resampler__n_neighbors': 3, 'resampler__n_seeds_S': 10, 'resampler__sampling_strategy': 'not minority'} CFS {'transformer__k': 10} RandomForestClassifier 0.6246 0.7159 0.7973 0.0761\n",
      "HMEQ EMB ROS {'resampler__sampling_strategy': 0.333} PCA {'transformer__n_components': 10} RandomForestClassifier 0.4902 0.4868 0.6798 0.141\n",
      "HMEQ EMB ROS {'resampler__sampling_strategy': 0.333} CFS {'transformer__k': 10} RandomForestClassifier 0.5798 0.6854 0.7759 0.0763\n",
      "HMEQ EMB SMT {'resampler__k_neighbors': 5, 'resampler__sampling_strategy': 0.5} PCA {'transformer__n_components': 10} RandomForestClassifier 0.6835 0.442 0.666 0.2135\n",
      "HMEQ EMB SMT {'resampler__k_neighbors': 5, 'resampler__sampling_strategy': 0.5} CFS {'transformer__k': 10} RandomForestClassifier 0.6359 0.7276 0.804 0.0743\n",
      "HMEQ EMB ADA {'resampler__n_neighbors': 15, 'resampler__sampling_strategy': 0.416} PCA {'transformer__n_components': 10} RandomForestClassifier 0.7479 0.4568 0.6835 0.2241\n",
      "HMEQ EMB ADA {'resampler__n_neighbors': 15, 'resampler__sampling_strategy': 0.416} CFS {'transformer__k': 10} RandomForestClassifier 0.6134 0.703 0.7903 0.0752\n"
     ]
    },
    {
     "name": "stdout",
     "output_type": "stream",
     "text": [
      "HMEQ EMB SMT_BL {'resampler__k_neighbors': 10, 'resampler__kind': 'borderline-1', 'resampler__sampling_strategy': 0.5} PCA {'transformer__n_components': 10} RandomForestClassifier 0.7003 0.4537 0.6772 0.2185\n",
      "HMEQ EMB SMT_BL {'resampler__k_neighbors': 10, 'resampler__kind': 'borderline-1', 'resampler__sampling_strategy': 0.5} CFS {'transformer__k': 10} RandomForestClassifier 0.6162 0.7074 0.7924 0.0772\n",
      "HMEQ EMB SMT_ENN {'resampler__sampling_strategy': 0.5} PCA {'transformer__n_components': 10} RandomForestClassifier 0.5658 0.5596 0.726 0.1371\n",
      "HMEQ EMB SMT_ENN {'resampler__sampling_strategy': 0.5} CFS {'transformer__k': 10} RandomForestClassifier 0.4986 0.6323 0.7395 0.0863\n",
      "HMEQ EMB SMT_TL {'resampler__sampling_strategy': 0.5} PCA {'transformer__n_components': 10} RandomForestClassifier 0.7255 0.4379 0.6646 0.2199\n",
      "HMEQ EMB SMT_TL {'resampler__sampling_strategy': 0.5} CFS {'transformer__k': 10} RandomForestClassifier 0.6022 0.7038 0.7875 0.0761\n",
      "HMEQ EMB RUS {'resampler__sampling_strategy': 0.333} PCA {'transformer__n_components': 10} RandomForestClassifier 0.493 0.4802 0.6766 0.143\n",
      "HMEQ EMB RUS {'resampler__sampling_strategy': 0.333} CFS {'transformer__k': 10} RandomForestClassifier 0.6275 0.7089 0.7959 0.0788\n",
      "HMEQ EMB NCL {'resampler__n_neighbors': 3, 'resampler__sampling_strategy': 'not minority'} PCA {'transformer__n_components': 10} RandomForestClassifier 0.5826 0.497 0.6963 0.1608\n",
      "HMEQ EMB NCL {'resampler__n_neighbors': 3, 'resampler__sampling_strategy': 'not minority'} CFS {'transformer__k': 10} RandomForestClassifier 0.7087 0.7281 0.8246 0.0823\n",
      "HMEQ EMB TL {'resampler__sampling_strategy': 'not minority'} PCA {'transformer__n_components': 10} RandomForestClassifier 0.479 0.481 0.6756 0.1435\n",
      "HMEQ EMB TL {'resampler__sampling_strategy': 'not minority'} CFS {'transformer__k': 10} RandomForestClassifier 0.5938 0.6894 0.7808 0.0775\n",
      "HMEQ EMB NA NA NA NA MLPClassifier 0.3866 0.513 0.6783 0.1125\n",
      "HMEQ EMB OSS {'resampler__n_neighbors': 1, 'resampler__n_seeds_S': 10, 'resampler__sampling_strategy': 'not minority'} NA NA MLPClassifier 0.3866 0.5055 0.6755 0.1135\n",
      "HMEQ EMB ROS {'resampler__sampling_strategy': 0.416} NA NA MLPClassifier 0.4958 0.5628 0.7147 0.1218\n",
      "HMEQ EMB SMT {'resampler__k_neighbors': 5, 'resampler__sampling_strategy': 0.333} NA NA MLPClassifier 0.3838 0.5121 0.6776 0.1115\n",
      "HMEQ EMB ADA {'resampler__n_neighbors': 10, 'resampler__sampling_strategy': 0.416} NA NA MLPClassifier 0.451 0.5385 0.6975 0.1156\n",
      "HMEQ EMB SMT_BL {'resampler__k_neighbors': 10, 'resampler__kind': 'borderline-2', 'resampler__sampling_strategy': 0.333} NA NA MLPClassifier 0.423 0.5393 0.6933 0.1138\n",
      "HMEQ EMB SMT_ENN {'resampler__sampling_strategy': 0.5} NA NA MLPClassifier 0.4258 0.5324 0.6912 0.1163\n",
      "HMEQ EMB SMT_TL {'resampler__sampling_strategy': 0.333} NA NA MLPClassifier 0.3754 0.5038 0.6733 0.1127\n",
      "HMEQ EMB RUS {'resampler__sampling_strategy': 0.333} NA NA MLPClassifier 0.3697 0.4972 0.6702 0.1158\n",
      "HMEQ EMB NCL {'resampler__n_neighbors': 6, 'resampler__sampling_strategy': 'not minority'} NA NA MLPClassifier 0.6359 0.5557 0.7365 0.159\n",
      "HMEQ EMB TL {'resampler__sampling_strategy': 'not minority'} NA NA MLPClassifier 0.3585 0.4923 0.667 0.1139\n",
      "HMEQ EMB NA NA PCA {'transformer__n_components': 10} MLPClassifier 0.3445 0.453 0.6503 0.1251\n",
      "HMEQ EMB NA NA CFS {'transformer__k': 10} MLPClassifier 0.3529 0.4951 0.6674 0.1126\n",
      "HMEQ EMB OSS {'resampler__n_neighbors': 6, 'resampler__n_seeds_S': 10, 'resampler__sampling_strategy': 'not minority'} PCA {'transformer__n_components': 10} MLPClassifier 0.3445 0.4668 0.6558 0.125\n",
      "HMEQ EMB OSS {'resampler__n_neighbors': 6, 'resampler__n_seeds_S': 10, 'resampler__sampling_strategy': 'not minority'} CFS {'transformer__k': 10} MLPClassifier 0.3529 0.4855 0.6639 0.1161\n",
      "HMEQ EMB ROS {'resampler__sampling_strategy': 0.416} PCA {'transformer__n_components': 10} MLPClassifier 0.4846 0.518 0.6941 0.1391\n",
      "HMEQ EMB ROS {'resampler__sampling_strategy': 0.416} CFS {'transformer__k': 10} MLPClassifier 0.4538 0.5338 0.6961 0.1189\n",
      "HMEQ EMB SMT {'resampler__k_neighbors': 5, 'resampler__sampling_strategy': 0.333} PCA {'transformer__n_components': 10} MLPClassifier 0.4482 0.5071 0.6843 0.13\n",
      "HMEQ EMB SMT {'resampler__k_neighbors': 5, 'resampler__sampling_strategy': 0.333} CFS {'transformer__k': 10} MLPClassifier 0.3165 0.444 0.6446 0.1197\n",
      "HMEQ EMB ADA {'resampler__n_neighbors': 15, 'resampler__sampling_strategy': 0.416} PCA {'transformer__n_components': 10} MLPClassifier 0.5126 0.4939 0.6861 0.1534\n",
      "HMEQ EMB ADA {'resampler__n_neighbors': 15, 'resampler__sampling_strategy': 0.416} CFS {'transformer__k': 10} MLPClassifier 0.5014 0.5383 0.7056 0.1267\n",
      "HMEQ EMB SMT_BL {'resampler__k_neighbors': 5, 'resampler__kind': 'borderline-2', 'resampler__sampling_strategy': 0.333} PCA {'transformer__n_components': 10} MLPClassifier 0.409 0.4756 0.6657 0.1312\n",
      "HMEQ EMB SMT_BL {'resampler__k_neighbors': 5, 'resampler__kind': 'borderline-2', 'resampler__sampling_strategy': 0.333} CFS {'transformer__k': 10} MLPClassifier 0.3109 0.4467 0.6453 0.1217\n",
      "HMEQ EMB SMT_ENN {'resampler__sampling_strategy': 0.5} PCA {'transformer__n_components': 10} MLPClassifier 0.4958 0.4937 0.684 0.1486\n",
      "HMEQ EMB SMT_ENN {'resampler__sampling_strategy': 0.5} CFS {'transformer__k': 10} MLPClassifier 0.4006 0.4914 0.6716 0.1247\n",
      "HMEQ EMB SMT_TL {'resampler__sampling_strategy': 0.416} PCA {'transformer__n_components': 10} MLPClassifier 0.4762 0.5183 0.693 0.1389\n",
      "HMEQ EMB SMT_TL {'resampler__sampling_strategy': 0.416} CFS {'transformer__k': 10} MLPClassifier 0.4538 0.5192 0.6902 0.1251\n",
      "HMEQ EMB RUS {'resampler__sampling_strategy': 0.333} PCA {'transformer__n_components': 10} MLPClassifier 0.4118 0.4812 0.6685 0.1308\n",
      "HMEQ EMB RUS {'resampler__sampling_strategy': 0.333} CFS {'transformer__k': 10} MLPClassifier 0.3838 0.4893 0.6688 0.12\n",
      "HMEQ EMB NCL {'resampler__n_neighbors': 6, 'resampler__sampling_strategy': 'not minority'} PCA {'transformer__n_components': 10} MLPClassifier 0.6443 0.518 0.717 0.1729\n",
      "HMEQ EMB NCL {'resampler__n_neighbors': 6, 'resampler__sampling_strategy': 'not minority'} CFS {'transformer__k': 10} MLPClassifier 0.5294 0.5081 0.6955 0.1482\n",
      "HMEQ EMB TL {'resampler__sampling_strategy': 'not minority'} PCA {'transformer__n_components': 10} MLPClassifier 0.3473 0.4601 0.6534 0.1301\n",
      "HMEQ EMB TL {'resampler__sampling_strategy': 'not minority'} CFS {'transformer__k': 10} MLPClassifier 0.3333 0.4667 0.6548 0.1188\n"
     ]
    }
   ],
   "source": [
    "preprocess_technique_stat = pd.DataFrame()\n",
    "dataset_name = 'HMEQ'\n",
    "hmeq = pd.read_csv (r'C:\\Users\\ihorh\\Desktop\\Master Thesis\\data_ihorirene\\hmeq\\hmeq.csv'\n",
    "                 ,delimiter=';')\n",
    "\n",
    "#drop duplicates\n",
    "hmeq = hmeq.drop_duplicates(keep='first')\n",
    "\n",
    "\n",
    "#convert to month scale\n",
    "hmeq[['CLAGE']] = round(hmeq[['CLAGE']]*12,1)\n",
    "\n",
    "\n",
    "#split dataset into data and target\n",
    "y = hmeq.BAD\n",
    "X = hmeq.drop('BAD',axis=1)\n",
    "\n",
    "\n",
    "#data set specific ratios to resample\n",
    "ratios =[0.333,0.416,0.5]\n",
    "\n",
    "toScaleColumns = ['LOAN','MORTDUE','VALUE','CLAGE','DEBTINC']\n",
    "\n",
    "X_train_original, X_test_original, y_train_original, y_test_original = split(X,y)\n",
    "\n",
    "#treat missing values\n",
    "imp_cat = SimpleImputer(strategy=\"most_frequent\")\n",
    "imp_num = SimpleImputer(missing_values=np.nan, strategy='mean')\n",
    "X_train_num = X_train_original.select_dtypes(include=['int64', 'float64'])\n",
    "X_test_num = X_test_original.select_dtypes(include=['int64', 'float64'])\n",
    "X_train_cat = X_train_original.select_dtypes(exclude=['int64', 'float64'])\n",
    "X_test_cat = X_test_original.select_dtypes(exclude=['int64', 'float64'])\n",
    "\n",
    "#impute mean mode\n",
    "X_train_cat = pd.DataFrame(imp_cat.fit_transform(X_train_cat),columns=X_train_cat.columns)\n",
    "X_test_cat = pd.DataFrame(imp_cat.transform(X_test_cat),columns=X_test_cat.columns)\n",
    "X_train_num = pd.DataFrame(imp_num.fit_transform(X_train_num),columns = X_train_num.columns)\n",
    "X_test_num = pd.DataFrame(imp_num.transform(X_test_num),columns=X_test_num.columns)\n",
    "\n",
    "X_train_original = pd.concat([X_train_cat,X_train_num],axis=1)\n",
    "X_test_original = pd.concat([X_test_cat,X_test_num],axis=1)\n",
    "\n",
    "\n",
    "\n",
    "\n",
    "#scale\n",
    "X_train_original[toScaleColumns] = scaler.fit_transform(X_train_original[toScaleColumns] )\n",
    "X_test_original[toScaleColumns]  = scaler.transform(X_test_original[toScaleColumns] )\n",
    "\n",
    "#downcast numerical columns\n",
    "for column in toScaleColumns:\n",
    "    X_train_original[column] = pd.to_numeric(X_train_original[column], downcast='float')\n",
    "\n",
    "\n",
    "###ONE HOT ENCODING-------------------------------------------------\n",
    "X_train = one_hot_encode(X_train_original)\n",
    "X_test = one_hot_encode(X_test_original)\n",
    "y_train = y_train_original\n",
    "y_test = y_test_original\n",
    "columns_list = X_train.columns.tolist()\n",
    "X_test = X_test[X_test.columns.intersection(columns_list)]\n",
    "\n",
    "\n",
    "#add columns that are not present in test\n",
    "for column in columns_list:\n",
    "    if column not in X.columns:\n",
    "        X_test[column] = 0\n",
    "\n",
    "\n",
    "#reduce colinearity\n",
    "X_train, X_test = removeMulticolinearFeatures(X_train,X_test, 10)\n",
    "\n",
    "\n",
    "#classifier optimization is performed on OHE dataset\n",
    "RF, bestParametersRF = getRF()\n",
    "LR, bestParametersLR= getLR()\n",
    "MLP, bestParametersMLP = getMLP()\n",
    "classifiers = [LR,RF,MLP]\n",
    "bestParametersList=[str(bestParametersLR),str(bestParametersRF),str(bestParametersMLP)]\n",
    "\n",
    "\n",
    "i = 0\n",
    "for classifier in classifiers:\n",
    "    stat = classify_master(X_train, X_test, y_train, y_test,'OHE',classifier)\n",
    "    stat['ClassifierParameters'] = bestParametersList[i]\n",
    "    preprocess_technique_stat = preprocess_technique_stat.append(stat)\n",
    "    i=i+1\n",
    "\n",
    "\n",
    "###END ONE HOT ENCODING-------------------------------------------------\n",
    "\n",
    "\n",
    "###WOE ENCODING-----------------------------------------------\n",
    "X_train = X_train_original\n",
    "X_test = X_test_original\n",
    "y_train = y_train_original\n",
    "y_test = y_test_original\n",
    "\n",
    "#Encode WOE\n",
    "columns_list = X_train.columns.tolist()\n",
    "for column in columns_list:\n",
    "    if is_string_dtype(X_train[column]):\n",
    "        encoder = ce.WOEEncoder(cols=[column])\n",
    "        encoder.fit(X_train,y_train)\n",
    "        X_train = encoder.transform(X_train)\n",
    "        X_test = encoder.transform(X_test)\n",
    "        \n",
    "#reduce colinearity\n",
    "X_train, X_test = removeMulticolinearFeatures(X_train,X_test, 10)\n",
    "\n",
    "\n",
    "\n",
    "# #classifier optimization is performed on WOE dataset\n",
    "RF, bestParametersRF = getRF()\n",
    "LR, bestParametersLR= getLR()\n",
    "MLP, bestParametersMLP = getMLP()\n",
    "classifiers = [LR,RF,MLP]\n",
    "bestParametersList=[str(bestParametersLR),str(bestParametersRF),str(bestParametersMLP)]\n",
    "\n",
    "\n",
    "i = 0\n",
    "for classifier in classifiers:\n",
    "    stat = classify_master(X_train, X_test, y_train, y_test,'WOE',classifier)\n",
    "    stat['ClassifierParameters'] = bestParametersList[i]\n",
    "    preprocess_technique_stat = preprocess_technique_stat.append(stat)\n",
    "    i=i+1\n",
    "\n",
    "###EMB---------------------------------\n",
    "X_train = X_train_original\n",
    "y_train = y_train_original\n",
    "X_test = X_test_original\n",
    "y_test = y_test_original\n",
    "\n",
    "\n",
    "        \n",
    "embedding_info = cem.get_embedding_info(X_train)\n",
    "\n",
    "X_encoded,encoders = cem.get_label_encoded_data(X_train)\n",
    "\n",
    "\n",
    "\n",
    "embeddings = cem.get_embeddings(X_encoded, y_train, categorical_embedding_info=embedding_info, \n",
    "                            is_classification=True, epochs=100,batch_size=256)\n",
    "\n",
    "\n",
    "\n",
    "\n",
    "X_train = cem.fit_transform(X_train, embeddings=embeddings, encoders=encoders, drop_categorical_vars=True)\n",
    "X_test = cem.fit_transform(X_test, embeddings=embeddings, encoders=encoders, drop_categorical_vars=True)\n",
    " \n",
    "\n",
    "#reduce colinearity\n",
    "X_train, X_test = removeMulticolinearFeatures(X_train,X_test, 10)\n",
    "\n",
    "# #classifier optimization is performed on OHE dataset\n",
    "RF, bestParametersRF = getRF()\n",
    "LR, bestParametersLR= getLR()\n",
    "MLP, bestParametersMLP = getMLP()\n",
    "classifiers = [LR,RF,MLP]\n",
    "bestParametersList=[str(bestParametersLR),str(bestParametersRF),str(bestParametersMLP)]\n",
    "\n",
    "i = 0\n",
    "for classifier in classifiers:\n",
    "    stat = classify_master(X_train, X_test, y_train, y_test,'EMB',classifier)\n",
    "    stat['ClassifierParameters'] = bestParametersList[i]\n",
    "    preprocess_technique_stat = preprocess_technique_stat.append(stat)\n",
    "    i=i+1\n",
    "    \n",
    "###END EMB-------------------------------------------------------------\n",
    "preprocess_technique_stat.to_excel(r'C:\\Users\\ihorh\\Desktop\\Master Thesis\\stats\\prep_technique_stats_'+dataset_name+'.xlsx')  \n",
    "   \n",
    "h_stat = preprocess_technique_stat\n",
    "\n"
   ]
  },
  {
   "cell_type": "code",
   "execution_count": 13,
   "metadata": {
    "collapsed": true
   },
   "outputs": [
    {
     "name": "stdout",
     "output_type": "stream",
     "text": [
      "Dropping Origin_Belgium with vif=96.80360353943215\n",
      "Dropping CivilState_Married with vif=14.698089305463979\n",
      "Dropping Age with vif=12.277318849752529\n",
      "100%|█████████████████████████████████████████████| 100/100 [01:23<00:00,  1.19trial/s, best loss: -0.8991333400082006]\n",
      "best:\n",
      "{'criterion': 0, 'max_depth': 7, 'max_features': 0, 'n_estimators': 14}\n",
      "100%|█████████████████████████████████████████████████████████████| 100/100 [00:17<00:00,  5.70trial/s, best loss: nan]\n",
      "best:\n",
      "{'C': 5.899603692653405, 'penalty': 1}\n",
      "100%|█████████████████████████████████████████████| 100/100 [30:17<00:00, 18.17s/trial, best loss: -0.8991539605801412]\n",
      "best:\n",
      "{'alpha': 0.009895750712964993, 'hidden_layer_sizes': 51}\n",
      "bene OHE NA NA NA NA LogisticRegression 0.1538 0.2667 0.5769 0.0018\n",
      "bene OHE OSS {'resampler__n_neighbors': 6, 'resampler__n_seeds_S': 10, 'resampler__sampling_strategy': 'not minority'} NA NA LogisticRegression 0.1538 0.2667 0.5769 0.0017\n",
      "bene OHE ROS {'resampler__sampling_strategy': 0.166} NA NA LogisticRegression 0.4231 0.4 0.7108 0.0062\n",
      "bene OHE SMT {'resampler__k_neighbors': 10, 'resampler__sampling_strategy': 0.166} NA NA LogisticRegression 0.6923 0.0058 0.5808 0.3753\n",
      "bene OHE ADA {'resampler__n_neighbors': 15, 'resampler__sampling_strategy': 0.166} NA NA LogisticRegression 0.7308 0.0057 0.5795 0.4426\n",
      "bene OHE SMT_BL {'resampler__k_neighbors': 10, 'resampler__kind': 'borderline-1', 'resampler__sampling_strategy': 0.166} NA NA LogisticRegression 0.4231 0.3333 0.7103 0.004\n",
      "bene OHE SMT_ENN {'resampler__sampling_strategy': 0.166} NA NA LogisticRegression 0.6154 0.007 0.6098 0.2327\n",
      "bene OHE SMT_TL {'resampler__sampling_strategy': 0.332} NA NA LogisticRegression 0.6923 0.006 0.5877 0.3331\n",
      "bene OHE RUS {'resampler__sampling_strategy': 0.166} NA NA LogisticRegression 0.1923 0.3226 0.5962 0.0044\n",
      "bene OHE NCL {'resampler__n_neighbors': 3, 'resampler__sampling_strategy': 'not minority'} NA NA LogisticRegression 0.1538 0.2667 0.5769 0.0018\n",
      "bene OHE TL {'resampler__sampling_strategy': 'not minority'} NA NA LogisticRegression 0.1538 0.2667 0.5769 0.0018\n",
      "bene OHE NA NA PCA {'transformer__n_components': 14} LogisticRegression 0.0 0.0 0.5 0.0022\n",
      "bene OHE NA NA CFS {'transformer__k': 14} LogisticRegression 0.1538 0.2667 0.5769 0.0018\n",
      "bene OHE OSS {'resampler__n_neighbors': 1, 'resampler__n_seeds_S': 100, 'resampler__sampling_strategy': 'not majority'} PCA {'transformer__n_components': 14} LogisticRegression 0.0 0.0 0.5 0.0022\n",
      "bene OHE OSS {'resampler__n_neighbors': 1, 'resampler__n_seeds_S': 100, 'resampler__sampling_strategy': 'not majority'} CFS {'transformer__k': 14} LogisticRegression 0.1923 0.3226 0.5962 0.0017\n",
      "bene OHE ROS {'resampler__sampling_strategy': 0.332} PCA {'transformer__n_components': 14} LogisticRegression 0.3846 0.2128 0.6898 0.0496\n",
      "bene OHE ROS {'resampler__sampling_strategy': 0.332} CFS {'transformer__k': 14} LogisticRegression 0.4231 0.2973 0.7099 0.0262\n",
      "bene OHE SMT {'resampler__k_neighbors': 10, 'resampler__sampling_strategy': 0.166} PCA {'transformer__n_components': 14} LogisticRegression 0.0 0.0 0.5 0.0023\n",
      "bene OHE SMT {'resampler__k_neighbors': 10, 'resampler__sampling_strategy': 0.166} CFS {'transformer__k': 14} LogisticRegression 0.6538 0.0059 0.58 0.3236\n",
      "bene OHE ADA {'resampler__n_neighbors': 10, 'resampler__sampling_strategy': 0.166} PCA {'transformer__n_components': 14} LogisticRegression 0.0 0.0 0.5 0.0023\n",
      "bene OHE ADA {'resampler__n_neighbors': 10, 'resampler__sampling_strategy': 0.166} CFS {'transformer__k': 14} LogisticRegression 0.6538 0.006 0.5824 0.3146\n",
      "bene OHE SMT_BL {'resampler__k_neighbors': 10, 'resampler__kind': 'borderline-1', 'resampler__sampling_strategy': 0.166} PCA {'transformer__n_components': 14} LogisticRegression 0.0 0.0 0.5 0.0023\n",
      "bene OHE SMT_BL {'resampler__k_neighbors': 10, 'resampler__kind': 'borderline-1', 'resampler__sampling_strategy': 0.166} CFS {'transformer__k': 14} LogisticRegression 0.4231 0.3333 0.7103 0.0033\n",
      "bene OHE SMT_ENN {'resampler__sampling_strategy': 0.166} PCA {'transformer__n_components': 14} LogisticRegression 0.0 0.0 0.5 0.0024\n",
      "bene OHE SMT_ENN {'resampler__sampling_strategy': 0.166} CFS {'transformer__k': 14} LogisticRegression 0.6154 0.0079 0.6342 0.2058\n",
      "bene OHE SMT_TL {'resampler__sampling_strategy': 0.166} PCA {'transformer__n_components': 14} LogisticRegression 0.0 0.0 0.5 0.0025\n",
      "bene OHE SMT_TL {'resampler__sampling_strategy': 0.166} CFS {'transformer__k': 14} LogisticRegression 0.6154 0.0078 0.631 0.2098\n",
      "bene OHE RUS {'resampler__sampling_strategy': 0.166} PCA {'transformer__n_components': 14} LogisticRegression 0.0 0.0 0.5 0.0095\n",
      "bene OHE RUS {'resampler__sampling_strategy': 0.166} CFS {'transformer__k': 6} LogisticRegression 0.2692 0.4242 0.6346 0.0058\n",
      "bene OHE NCL {'resampler__n_neighbors': 3, 'resampler__sampling_strategy': 'not minority'} PCA {'transformer__n_components': 14} LogisticRegression 0.0 0.0 0.5 0.0022\n",
      "bene OHE NCL {'resampler__n_neighbors': 3, 'resampler__sampling_strategy': 'not minority'} CFS {'transformer__k': 14} LogisticRegression 0.1538 0.2667 0.5769 0.0017\n",
      "bene OHE TL {'resampler__sampling_strategy': 'not minority'} PCA {'transformer__n_components': 14} LogisticRegression 0.0 0.0 0.5 0.0022\n",
      "bene OHE TL {'resampler__sampling_strategy': 'not minority'} CFS {'transformer__k': 14} LogisticRegression 0.1538 0.2667 0.5769 0.0018\n",
      "bene OHE NA NA NA NA RandomForestClassifier 0.4231 0.5946 0.7115 0.0014\n",
      "bene OHE OSS {'resampler__n_neighbors': 3, 'resampler__n_seeds_S': 10, 'resampler__sampling_strategy': 'not minority'} NA NA RandomForestClassifier 0.4231 0.5946 0.7115 0.0013\n",
      "bene OHE ROS {'resampler__sampling_strategy': 0.5} NA NA RandomForestClassifier 0.4231 0.5946 0.7115 0.0166\n",
      "bene OHE SMT {'resampler__k_neighbors': 10, 'resampler__sampling_strategy': 0.332} NA NA RandomForestClassifier 0.4231 0.1486 0.7067 0.0412\n",
      "bene OHE ADA {'resampler__n_neighbors': 10, 'resampler__sampling_strategy': 0.166} NA NA RandomForestClassifier 0.4231 0.25 0.7093 0.0164\n",
      "bene OHE SMT_BL {'resampler__k_neighbors': 15, 'resampler__kind': 'borderline-1', 'resampler__sampling_strategy': 0.5} NA NA RandomForestClassifier 0.3846 0.2 0.6895 0.0103\n",
      "bene OHE SMT_ENN {'resampler__sampling_strategy': 0.166} NA NA RandomForestClassifier 0.4231 0.2619 0.7095 0.0187\n",
      "bene OHE SMT_TL {'resampler__sampling_strategy': 0.332} NA NA RandomForestClassifier 0.3462 0.1429 0.6691 0.0406\n",
      "bene OHE RUS {'resampler__sampling_strategy': 0.166} NA NA RandomForestClassifier 0.4231 0.4231 0.7109 0.0065\n",
      "bene OHE NCL {'resampler__n_neighbors': 9, 'resampler__sampling_strategy': 'not minority'} NA NA RandomForestClassifier 0.4231 0.5946 0.7115 0.0014\n",
      "bene OHE TL {'resampler__sampling_strategy': 'not minority'} NA NA RandomForestClassifier 0.1538 0.2667 0.5769 0.0015\n",
      "bene OHE NA NA PCA {'transformer__n_components': 14} RandomForestClassifier 0.0 0.0 0.5 0.0023\n",
      "bene OHE NA NA CFS {'transformer__k': 14} RandomForestClassifier 0.4231 0.5946 0.7115 0.0014\n",
      "bene OHE OSS {'resampler__n_neighbors': 3, 'resampler__n_seeds_S': 100, 'resampler__sampling_strategy': 'not majority'} PCA {'transformer__n_components': 14} RandomForestClassifier 0.0 0.0 0.5 0.0023\n",
      "bene OHE OSS {'resampler__n_neighbors': 3, 'resampler__n_seeds_S': 100, 'resampler__sampling_strategy': 'not majority'} CFS {'transformer__k': 6} RandomForestClassifier 0.4231 0.5946 0.7115 0.0014\n",
      "bene OHE ROS {'resampler__sampling_strategy': 0.332} PCA {'transformer__n_components': 14} RandomForestClassifier 0.0 0.0 0.5 0.0021\n",
      "bene OHE ROS {'resampler__sampling_strategy': 0.332} CFS {'transformer__k': 10} RandomForestClassifier 0.4231 0.5946 0.7115 0.01\n",
      "bene OHE SMT {'resampler__k_neighbors': 10, 'resampler__sampling_strategy': 0.166} PCA {'transformer__n_components': 14} RandomForestClassifier 0.0 0.0 0.5 0.0044\n",
      "bene OHE SMT {'resampler__k_neighbors': 10, 'resampler__sampling_strategy': 0.166} CFS {'transformer__k': 14} RandomForestClassifier 0.4231 0.2619 0.7095 0.0202\n",
      "bene OHE ADA {'resampler__n_neighbors': 10, 'resampler__sampling_strategy': 0.166} PCA {'transformer__n_components': 14} RandomForestClassifier 0.0 0.0 0.5 0.0037\n",
      "bene OHE ADA {'resampler__n_neighbors': 10, 'resampler__sampling_strategy': 0.166} CFS {'transformer__k': 14} RandomForestClassifier 0.4231 0.2716 0.7096 0.0226\n"
     ]
    },
    {
     "name": "stdout",
     "output_type": "stream",
     "text": [
      "bene OHE SMT_BL {'resampler__k_neighbors': 5, 'resampler__kind': 'borderline-1', 'resampler__sampling_strategy': 0.332} PCA {'transformer__n_components': 14} RandomForestClassifier 0.0 0.0 0.5 0.0088\n",
      "bene OHE SMT_BL {'resampler__k_neighbors': 5, 'resampler__kind': 'borderline-1', 'resampler__sampling_strategy': 0.332} CFS {'transformer__k': 10} RandomForestClassifier 0.3077 0.2319 0.6523 0.0031\n",
      "bene OHE SMT_ENN {'resampler__sampling_strategy': 0.166} PCA {'transformer__n_components': 14} RandomForestClassifier 0.0 0.0 0.5 0.0035\n",
      "bene OHE SMT_ENN {'resampler__sampling_strategy': 0.166} CFS {'transformer__k': 14} RandomForestClassifier 0.3846 0.2817 0.6908 0.021\n",
      "bene OHE SMT_TL {'resampler__sampling_strategy': 0.166} PCA {'transformer__n_components': 14} RandomForestClassifier 0.0 0.0 0.5 0.0024\n",
      "bene OHE SMT_TL {'resampler__sampling_strategy': 0.166} CFS {'transformer__k': 14} RandomForestClassifier 0.3846 0.3279 0.6912 0.0074\n",
      "bene OHE RUS {'resampler__sampling_strategy': 0.166} PCA {'transformer__n_components': 14} RandomForestClassifier 0.0 0.0 0.5 0.0102\n",
      "bene OHE RUS {'resampler__sampling_strategy': 0.166} CFS {'transformer__k': 10} RandomForestClassifier 0.4615 0.4706 0.7302 0.0151\n",
      "bene OHE NCL {'resampler__n_neighbors': 6, 'resampler__sampling_strategy': 'not minority'} PCA {'transformer__n_components': 6} RandomForestClassifier 0.0 0.0 0.5 0.0023\n",
      "bene OHE NCL {'resampler__n_neighbors': 6, 'resampler__sampling_strategy': 'not minority'} CFS {'transformer__k': 14} RandomForestClassifier 0.4231 0.5946 0.7115 0.0013\n",
      "bene OHE TL {'resampler__sampling_strategy': 'all'} PCA {'transformer__n_components': 14} RandomForestClassifier 0.0 0.0 0.5 0.0023\n",
      "bene OHE TL {'resampler__sampling_strategy': 'all'} CFS {'transformer__k': 14} RandomForestClassifier 0.4231 0.5946 0.7115 0.0014\n",
      "bene OHE NA NA NA NA MLPClassifier 0.1923 0.3226 0.5962 0.0016\n",
      "bene OHE OSS {'resampler__n_neighbors': 6, 'resampler__n_seeds_S': 100, 'resampler__sampling_strategy': 'not majority'} NA NA MLPClassifier 0.1923 0.3226 0.5962 0.0016\n",
      "bene OHE ROS {'resampler__sampling_strategy': 0.5} NA NA MLPClassifier 0.3462 0.0367 0.6533 0.0285\n",
      "bene OHE SMT {'resampler__k_neighbors': 15, 'resampler__sampling_strategy': 0.332} NA NA MLPClassifier 0.8462 0.0058 0.5983 0.6037\n",
      "bene OHE ADA {'resampler__n_neighbors': 10, 'resampler__sampling_strategy': 0.5} NA NA MLPClassifier 0.7692 0.0052 0.554 0.6016\n",
      "bene OHE SMT_BL {'resampler__k_neighbors': 10, 'resampler__kind': 'borderline-1', 'resampler__sampling_strategy': 0.332} NA NA MLPClassifier 0.4231 0.0452 0.692 0.0312\n",
      "bene OHE SMT_ENN {'resampler__sampling_strategy': 0.5} NA NA MLPClassifier 0.6154 0.0081 0.6377 0.239\n",
      "bene OHE SMT_TL {'resampler__sampling_strategy': 0.332} NA NA MLPClassifier 0.6923 0.0077 0.6444 0.3157\n",
      "bene OHE RUS {'resampler__sampling_strategy': 0.166} NA NA MLPClassifier 0.3462 0.4 0.6726 0.0382\n",
      "bene OHE NCL {'resampler__n_neighbors': 9, 'resampler__sampling_strategy': 'not minority'} NA NA MLPClassifier 0.1923 0.3226 0.5962 0.0016\n",
      "bene OHE TL {'resampler__sampling_strategy': 'not minority'} NA NA MLPClassifier 0.2692 0.4242 0.6346 0.0016\n",
      "bene OHE NA NA PCA {'transformer__n_components': 14} MLPClassifier 0.0 0.0 0.5 0.0022\n",
      "bene OHE NA NA CFS {'transformer__k': 14} MLPClassifier 0.1538 0.2667 0.5769 0.0017\n",
      "bene OHE OSS {'resampler__n_neighbors': 3, 'resampler__n_seeds_S': 100, 'resampler__sampling_strategy': 'not majority'} PCA {'transformer__n_components': 14} MLPClassifier 0.0 0.0 0.5 0.0023\n",
      "bene OHE OSS {'resampler__n_neighbors': 3, 'resampler__n_seeds_S': 100, 'resampler__sampling_strategy': 'not majority'} CFS {'transformer__k': 10} MLPClassifier 0.2692 0.4242 0.6346 0.0015\n",
      "bene OHE ROS {'resampler__sampling_strategy': 0.332} PCA {'transformer__n_components': 14} MLPClassifier 0.4231 0.0124 0.6364 0.1018\n",
      "bene OHE ROS {'resampler__sampling_strategy': 0.332} CFS {'transformer__k': 14} MLPClassifier 0.2692 0.3889 0.6345 0.0018\n",
      "bene OHE SMT {'resampler__k_neighbors': 15, 'resampler__sampling_strategy': 0.332} PCA {'transformer__n_components': 14} MLPClassifier 0.5 0.0029 0.3679 0.4878\n",
      "bene OHE SMT {'resampler__k_neighbors': 15, 'resampler__sampling_strategy': 0.332} CFS {'transformer__k': 14} MLPClassifier 0.9231 0.006 0.6195 0.6344\n",
      "bene OHE ADA {'resampler__n_neighbors': 10, 'resampler__sampling_strategy': 0.166} PCA {'transformer__n_components': 14} MLPClassifier 0.0 0.0 0.5 0.0023\n",
      "bene OHE ADA {'resampler__n_neighbors': 10, 'resampler__sampling_strategy': 0.166} CFS {'transformer__k': 14} MLPClassifier 0.6923 0.0054 0.5566 0.5157\n",
      "bene OHE SMT_BL {'resampler__k_neighbors': 10, 'resampler__kind': 'borderline-1', 'resampler__sampling_strategy': 0.332} PCA {'transformer__n_components': 14} MLPClassifier 0.9615 0.0051 0.5587 0.6402\n",
      "bene OHE SMT_BL {'resampler__k_neighbors': 10, 'resampler__kind': 'borderline-1', 'resampler__sampling_strategy': 0.332} CFS {'transformer__k': 14} MLPClassifier 0.4231 0.2418 0.7092 0.0059\n",
      "bene OHE SMT_ENN {'resampler__sampling_strategy': 0.5} PCA {'transformer__n_components': 14} MLPClassifier 0.9615 0.005 0.5478 0.7575\n",
      "bene OHE SMT_ENN {'resampler__sampling_strategy': 0.5} CFS {'transformer__k': 14} MLPClassifier 0.6923 0.0058 0.5765 0.4897\n",
      "bene OHE SMT_TL {'resampler__sampling_strategy': 0.5} PCA {'transformer__n_components': 14} MLPClassifier 0.8846 0.0071 0.6641 0.3509\n",
      "bene OHE SMT_TL {'resampler__sampling_strategy': 0.5} CFS {'transformer__k': 14} MLPClassifier 0.6923 0.0068 0.6173 0.3536\n",
      "bene OHE RUS {'resampler__sampling_strategy': 0.166} PCA {'transformer__n_components': 14} MLPClassifier 0.0 0.0 0.5 0.0141\n",
      "bene OHE RUS {'resampler__sampling_strategy': 0.166} CFS {'transformer__k': 14} MLPClassifier 0.2692 0.3889 0.6345 0.0197\n",
      "bene OHE NCL {'resampler__n_neighbors': 6, 'resampler__sampling_strategy': 'not minority'} PCA {'transformer__n_components': 14} MLPClassifier 0.0 0.0 0.5 0.0022\n",
      "bene OHE NCL {'resampler__n_neighbors': 6, 'resampler__sampling_strategy': 'not minority'} CFS {'transformer__k': 14} MLPClassifier 0.1923 0.3226 0.5962 0.0016\n",
      "bene OHE TL {'resampler__sampling_strategy': 'not minority'} PCA {'transformer__n_components': 14} MLPClassifier 0.0 0.0 0.5 0.0022\n",
      "bene OHE TL {'resampler__sampling_strategy': 'not minority'} CFS {'transformer__k': 14} MLPClassifier 0.1538 0.2667 0.5769 0.0016\n",
      "Dropping Gender with vif=16.415103959668247\n",
      "100%|█████████████████████████████████████████████████████████████| 100/100 [01:18<00:00,  1.28trial/s, best loss: nan]\n",
      "best:\n",
      "{'criterion': 1, 'max_depth': 12, 'max_features': 0, 'n_estimators': 70}\n",
      "100%|█████████████████████████████████████████████| 100/100 [00:13<00:00,  7.23trial/s, best loss: -0.9000250307520667]\n",
      "best:\n",
      "{'C': 9.66956717248459, 'penalty': 1}\n",
      "100%|█████████████████████████████████████████████| 100/100 [22:41<00:00, 13.61s/trial, best loss: -0.9042499833128319]\n",
      "best:\n",
      "{'alpha': 0.018010953701839322, 'hidden_layer_sizes': 50}\n",
      "bene WOE NA NA NA NA LogisticRegression 0.2308 0.375 0.6154 0.0016\n",
      "bene WOE OSS {'resampler__n_neighbors': 1, 'resampler__n_seeds_S': 10, 'resampler__sampling_strategy': 'not majority'} NA NA LogisticRegression 0.0 0.0 0.5 0.0021\n",
      "bene WOE ROS {'resampler__sampling_strategy': 0.166} NA NA LogisticRegression 0.4231 0.234 0.7091 0.0143\n",
      "bene WOE SMT {'resampler__k_neighbors': 10, 'resampler__sampling_strategy': 0.166} NA NA LogisticRegression 0.4231 0.1375 0.7062 0.0154\n",
      "bene WOE ADA {'resampler__n_neighbors': 15, 'resampler__sampling_strategy': 0.332} NA NA LogisticRegression 0.4231 0.0507 0.6943 0.0347\n",
      "bene WOE SMT_BL {'resampler__k_neighbors': 15, 'resampler__kind': 'borderline-1', 'resampler__sampling_strategy': 0.332} NA NA LogisticRegression 0.4231 0.2444 0.7092 0.01\n",
      "bene WOE SMT_ENN {'resampler__sampling_strategy': 0.5} NA NA LogisticRegression 0.5 0.0323 0.7168 0.0546\n",
      "bene WOE SMT_TL {'resampler__sampling_strategy': 0.332} NA NA LogisticRegression 0.4231 0.0554 0.6959 0.0338\n",
      "bene WOE RUS {'resampler__sampling_strategy': 0.166} NA NA LogisticRegression 0.3846 0.3636 0.6915 0.0143\n",
      "bene WOE NCL {'resampler__n_neighbors': 9, 'resampler__sampling_strategy': 'not minority'} NA NA LogisticRegression 0.2692 0.4242 0.6346 0.0016\n",
      "bene WOE TL {'resampler__sampling_strategy': 'all'} NA NA LogisticRegression 0.1923 0.3226 0.5962 0.0016\n"
     ]
    },
    {
     "name": "stdout",
     "output_type": "stream",
     "text": [
      "bene WOE NA NA PCA {'transformer__n_components': 8} LogisticRegression 0.0 0.0 0.5 0.0022\n",
      "bene WOE NA NA CFS {'transformer__k': 4} LogisticRegression 0.2308 0.375 0.6154 0.0016\n",
      "bene WOE OSS {'resampler__n_neighbors': 6, 'resampler__n_seeds_S': 10, 'resampler__sampling_strategy': 'not minority'} PCA {'transformer__n_components': 8} LogisticRegression 0.0 0.0 0.5 0.0022\n",
      "bene WOE OSS {'resampler__n_neighbors': 6, 'resampler__n_seeds_S': 10, 'resampler__sampling_strategy': 'not minority'} CFS {'transformer__k': 8} LogisticRegression 0.2308 0.375 0.6154 0.0016\n",
      "bene WOE ROS {'resampler__sampling_strategy': 0.166} PCA {'transformer__n_components': 8} LogisticRegression 0.5769 0.0081 0.6297 0.2565\n",
      "bene WOE ROS {'resampler__sampling_strategy': 0.166} CFS {'transformer__k': 8} LogisticRegression 0.4231 0.2857 0.7098 0.014\n",
      "bene WOE SMT {'resampler__k_neighbors': 15, 'resampler__sampling_strategy': 0.5} PCA {'transformer__n_components': 8} LogisticRegression 0.7308 0.0072 0.6375 0.4059\n",
      "bene WOE SMT {'resampler__k_neighbors': 15, 'resampler__sampling_strategy': 0.5} CFS {'transformer__k': 8} LogisticRegression 0.4615 0.041 0.707 0.0461\n",
      "bene WOE ADA {'resampler__n_neighbors': 15, 'resampler__sampling_strategy': 0.332} PCA {'transformer__n_components': 8} LogisticRegression 0.6154 0.0066 0.5993 0.3732\n",
      "bene WOE ADA {'resampler__n_neighbors': 15, 'resampler__sampling_strategy': 0.332} CFS {'transformer__k': 4} LogisticRegression 0.4231 0.0549 0.6957 0.0343\n",
      "bene WOE SMT_BL {'resampler__k_neighbors': 15, 'resampler__kind': 'borderline-1', 'resampler__sampling_strategy': 0.166} PCA {'transformer__n_components': 8} LogisticRegression 0.5385 0.0071 0.5996 0.2926\n",
      "bene WOE SMT_BL {'resampler__k_neighbors': 15, 'resampler__kind': 'borderline-1', 'resampler__sampling_strategy': 0.166} CFS {'transformer__k': 8} LogisticRegression 0.4231 0.2933 0.7099 0.0058\n",
      "bene WOE SMT_ENN {'resampler__sampling_strategy': 0.5} PCA {'transformer__n_components': 6} LogisticRegression 0.8077 0.0077 0.6695 0.4228\n",
      "bene WOE SMT_ENN {'resampler__sampling_strategy': 0.5} CFS {'transformer__k': 8} LogisticRegression 0.5 0.0349 0.7193 0.0538\n",
      "bene WOE SMT_TL {'resampler__sampling_strategy': 0.5} PCA {'transformer__n_components': 8} LogisticRegression 0.8846 0.0085 0.7109 0.393\n",
      "bene WOE SMT_TL {'resampler__sampling_strategy': 0.5} CFS {'transformer__k': 8} LogisticRegression 0.5 0.0378 0.7218 0.052\n",
      "bene WOE RUS {'resampler__sampling_strategy': 0.166} PCA {'transformer__n_components': 8} LogisticRegression 0.0385 0.0059 0.5057 0.0334\n",
      "bene WOE RUS {'resampler__sampling_strategy': 0.166} CFS {'transformer__k': 6} LogisticRegression 0.3462 0.1417 0.6691 0.0182\n",
      "bene WOE NCL {'resampler__n_neighbors': 9, 'resampler__sampling_strategy': 'not minority'} PCA {'transformer__n_components': 8} LogisticRegression 0.0 0.0 0.5 0.0022\n",
      "bene WOE NCL {'resampler__n_neighbors': 9, 'resampler__sampling_strategy': 'not minority'} CFS {'transformer__k': 4} LogisticRegression 0.2692 0.4242 0.6346 0.0016\n",
      "bene WOE TL {'resampler__sampling_strategy': 'all'} PCA {'transformer__n_components': 8} LogisticRegression 0.0 0.0 0.5 0.0022\n",
      "bene WOE TL {'resampler__sampling_strategy': 'all'} CFS {'transformer__k': 8} LogisticRegression 0.1923 0.3226 0.5962 0.0016\n",
      "bene WOE NA NA NA NA RandomForestClassifier 0.4231 0.5946 0.7115 0.0013\n",
      "bene WOE OSS {'resampler__n_neighbors': 1, 'resampler__n_seeds_S': 100, 'resampler__sampling_strategy': 'not majority'} NA NA RandomForestClassifier 0.4231 0.5946 0.7115 0.0013\n",
      "bene WOE ROS {'resampler__sampling_strategy': 0.166} NA NA RandomForestClassifier 0.4231 0.5238 0.7113 0.0039\n",
      "bene WOE SMT {'resampler__k_neighbors': 15, 'resampler__sampling_strategy': 0.166} NA NA RandomForestClassifier 0.3846 0.3077 0.691 0.0068\n",
      "bene WOE ADA {'resampler__n_neighbors': 15, 'resampler__sampling_strategy': 0.166} NA NA RandomForestClassifier 0.3462 0.2903 0.6719 0.0091\n",
      "bene WOE SMT_BL {'resampler__k_neighbors': 15, 'resampler__kind': 'borderline-1', 'resampler__sampling_strategy': 0.332} NA NA RandomForestClassifier 0.3846 0.3448 0.6914 0.0035\n",
      "bene WOE SMT_ENN {'resampler__sampling_strategy': 0.5} NA NA RandomForestClassifier 0.4231 0.0853 0.702 0.0182\n",
      "bene WOE SMT_TL {'resampler__sampling_strategy': 0.166} NA NA RandomForestClassifier 0.3846 0.3279 0.6912 0.0059\n",
      "bene WOE RUS {'resampler__sampling_strategy': 0.166} NA NA RandomForestClassifier 0.5 0.1656 0.7449 0.0206\n",
      "bene WOE NCL {'resampler__n_neighbors': 3, 'resampler__sampling_strategy': 'not minority'} NA NA RandomForestClassifier 0.4231 0.5946 0.7115 0.0013\n",
      "bene WOE TL {'resampler__sampling_strategy': 'not minority'} NA NA RandomForestClassifier 0.4231 0.5946 0.7115 0.0013\n",
      "bene WOE NA NA PCA {'transformer__n_components': 8} RandomForestClassifier 0.0 0.0 0.5 0.0029\n",
      "bene WOE NA NA CFS {'transformer__k': 8} RandomForestClassifier 0.4231 0.5946 0.7115 0.0013\n",
      "bene WOE OSS {'resampler__n_neighbors': 6, 'resampler__n_seeds_S': 100, 'resampler__sampling_strategy': 'not majority'} PCA {'transformer__n_components': 8} RandomForestClassifier 0.0 0.0 0.5 0.0029\n",
      "bene WOE OSS {'resampler__n_neighbors': 6, 'resampler__n_seeds_S': 100, 'resampler__sampling_strategy': 'not majority'} CFS {'transformer__k': 6} RandomForestClassifier 0.4231 0.5946 0.7115 0.0013\n",
      "bene WOE ROS {'resampler__sampling_strategy': 0.166} PCA {'transformer__n_components': 6} RandomForestClassifier 0.0769 0.0104 0.5231 0.0243\n",
      "bene WOE ROS {'resampler__sampling_strategy': 0.166} CFS {'transformer__k': 8} RandomForestClassifier 0.4231 0.5366 0.7114 0.0041\n",
      "bene WOE SMT {'resampler__k_neighbors': 5, 'resampler__sampling_strategy': 0.166} PCA {'transformer__n_components': 8} RandomForestClassifier 0.1923 0.0282 0.5821 0.0264\n",
      "bene WOE SMT {'resampler__k_neighbors': 5, 'resampler__sampling_strategy': 0.166} CFS {'transformer__k': 8} RandomForestClassifier 0.4231 0.4151 0.7108 0.0062\n",
      "bene WOE ADA {'resampler__n_neighbors': 15, 'resampler__sampling_strategy': 0.5} PCA {'transformer__n_components': 8} RandomForestClassifier 0.4231 0.015 0.6495 0.0891\n",
      "bene WOE ADA {'resampler__n_neighbors': 15, 'resampler__sampling_strategy': 0.5} CFS {'transformer__k': 8} RandomForestClassifier 0.3846 0.068 0.6811 0.0228\n",
      "bene WOE SMT_BL {'resampler__k_neighbors': 15, 'resampler__kind': 'borderline-1', 'resampler__sampling_strategy': 0.166} PCA {'transformer__n_components': 8} RandomForestClassifier 0.3077 0.019 0.6189 0.0528\n",
      "bene WOE SMT_BL {'resampler__k_neighbors': 15, 'resampler__kind': 'borderline-1', 'resampler__sampling_strategy': 0.166} CFS {'transformer__k': 6} RandomForestClassifier 0.4231 0.3385 0.7103 0.0032\n",
      "bene WOE SMT_ENN {'resampler__sampling_strategy': 0.166} PCA {'transformer__n_components': 8} RandomForestClassifier 0.2692 0.0315 0.6168 0.0325\n",
      "bene WOE SMT_ENN {'resampler__sampling_strategy': 0.166} CFS {'transformer__k': 8} RandomForestClassifier 0.4615 0.338 0.7293 0.0068\n",
      "bene WOE SMT_TL {'resampler__sampling_strategy': 0.5} PCA {'transformer__n_components': 8} RandomForestClassifier 0.3462 0.0094 0.5915 0.1103\n",
      "bene WOE SMT_TL {'resampler__sampling_strategy': 0.5} CFS {'transformer__k': 8} RandomForestClassifier 0.4615 0.0927 0.7212 0.0164\n",
      "bene WOE RUS {'resampler__sampling_strategy': 0.166} PCA {'transformer__n_components': 8} RandomForestClassifier 0.0769 0.0152 0.5283 0.0377\n",
      "bene WOE RUS {'resampler__sampling_strategy': 0.166} CFS {'transformer__k': 6} RandomForestClassifier 0.5 0.1898 0.7457 0.0145\n",
      "bene WOE NCL {'resampler__n_neighbors': 3, 'resampler__sampling_strategy': 'not minority'} PCA {'transformer__n_components': 8} RandomForestClassifier 0.0385 0.0714 0.5192 0.0034\n",
      "bene WOE NCL {'resampler__n_neighbors': 3, 'resampler__sampling_strategy': 'not minority'} CFS {'transformer__k': 6} RandomForestClassifier 0.4231 0.5946 0.7115 0.0013\n",
      "bene WOE TL {'resampler__sampling_strategy': 'not minority'} PCA {'transformer__n_components': 8} RandomForestClassifier 0.0 0.0 0.5 0.0027\n",
      "bene WOE TL {'resampler__sampling_strategy': 'not minority'} CFS {'transformer__k': 8} RandomForestClassifier 0.4231 0.5946 0.7115 0.0013\n",
      "bene WOE NA NA NA NA MLPClassifier 0.1538 0.2667 0.5769 0.0017\n",
      "bene WOE OSS {'resampler__n_neighbors': 6, 'resampler__n_seeds_S': 200, 'resampler__sampling_strategy': 'not majority'} NA NA MLPClassifier 0.3077 0.4571 0.6538 0.0015\n"
     ]
    },
    {
     "name": "stdout",
     "output_type": "stream",
     "text": [
      "bene WOE ROS {'resampler__sampling_strategy': 0.332} NA NA MLPClassifier 0.5 0.055 0.7312 0.031\n",
      "bene WOE SMT {'resampler__k_neighbors': 10, 'resampler__sampling_strategy': 0.166} NA NA MLPClassifier 0.3846 0.1149 0.6863 0.0128\n",
      "bene WOE ADA {'resampler__n_neighbors': 10, 'resampler__sampling_strategy': 0.332} NA NA MLPClassifier 0.4231 0.0542 0.6955 0.0235\n",
      "bene WOE SMT_BL {'resampler__k_neighbors': 15, 'resampler__kind': 'borderline-1', 'resampler__sampling_strategy': 0.5} NA NA MLPClassifier 0.4231 0.1732 0.7076 0.0097\n",
      "bene WOE SMT_ENN {'resampler__sampling_strategy': 0.5} NA NA MLPClassifier 0.4615 0.0539 0.7131 0.0256\n",
      "bene WOE SMT_TL {'resampler__sampling_strategy': 0.166} NA NA MLPClassifier 0.4231 0.1477 0.7067 0.0117\n",
      "bene WOE RUS {'resampler__sampling_strategy': 0.166} NA NA MLPClassifier 0.2692 0.35 0.6343 0.0212\n",
      "bene WOE NCL {'resampler__n_neighbors': 9, 'resampler__sampling_strategy': 'not minority'} NA NA MLPClassifier 0.1923 0.3226 0.5962 0.0017\n",
      "bene WOE TL {'resampler__sampling_strategy': 'not minority'} NA NA MLPClassifier 0.1923 0.3226 0.5962 0.0016\n",
      "bene WOE NA NA PCA {'transformer__n_components': 8} MLPClassifier 0.0 0.0 0.5 0.0022\n",
      "bene WOE NA NA CFS {'transformer__k': 4} MLPClassifier 0.1923 0.3226 0.5962 0.0016\n",
      "bene WOE OSS {'resampler__n_neighbors': 3, 'resampler__n_seeds_S': 10, 'resampler__sampling_strategy': 'not minority'} PCA {'transformer__n_components': 8} MLPClassifier 0.0 0.0 0.5 0.0022\n",
      "bene WOE OSS {'resampler__n_neighbors': 3, 'resampler__n_seeds_S': 10, 'resampler__sampling_strategy': 'not minority'} CFS {'transformer__k': 8} MLPClassifier 0.1923 0.3226 0.5962 0.0016\n",
      "bene WOE ROS {'resampler__sampling_strategy': 0.166} PCA {'transformer__n_components': 8} MLPClassifier 0.5385 0.0089 0.6344 0.232\n",
      "bene WOE ROS {'resampler__sampling_strategy': 0.166} CFS {'transformer__k': 8} MLPClassifier 0.4615 0.1905 0.727 0.0145\n",
      "bene WOE SMT {'resampler__k_neighbors': 5, 'resampler__sampling_strategy': 0.166} PCA {'transformer__n_components': 8} MLPClassifier 0.4231 0.0082 0.5965 0.1979\n",
      "bene WOE SMT {'resampler__k_neighbors': 5, 'resampler__sampling_strategy': 0.166} CFS {'transformer__k': 8} MLPClassifier 0.4615 0.1622 0.726 0.0133\n",
      "bene WOE ADA {'resampler__n_neighbors': 5, 'resampler__sampling_strategy': 0.166} PCA {'transformer__n_components': 8} MLPClassifier 0.4615 0.0147 0.6615 0.1125\n",
      "bene WOE ADA {'resampler__n_neighbors': 5, 'resampler__sampling_strategy': 0.166} CFS {'transformer__k': 8} MLPClassifier 0.4615 0.0927 0.7212 0.0165\n",
      "bene WOE SMT_BL {'resampler__k_neighbors': 15, 'resampler__kind': 'borderline-1', 'resampler__sampling_strategy': 0.5} PCA {'transformer__n_components': 8} MLPClassifier 0.5769 0.0066 0.5941 0.3685\n",
      "bene WOE SMT_BL {'resampler__k_neighbors': 15, 'resampler__kind': 'borderline-1', 'resampler__sampling_strategy': 0.5} CFS {'transformer__k': 8} MLPClassifier 0.3846 0.1835 0.6891 0.0088\n",
      "bene WOE SMT_ENN {'resampler__sampling_strategy': 0.166} PCA {'transformer__n_components': 8} MLPClassifier 0.5 0.01 0.6388 0.192\n",
      "bene WOE SMT_ENN {'resampler__sampling_strategy': 0.166} CFS {'transformer__k': 8} MLPClassifier 0.4615 0.1341 0.7247 0.0137\n",
      "bene WOE SMT_TL {'resampler__sampling_strategy': 0.5} PCA {'transformer__n_components': 8} MLPClassifier 0.3462 0.0089 0.5867 0.1511\n",
      "bene WOE SMT_TL {'resampler__sampling_strategy': 0.5} CFS {'transformer__k': 8} MLPClassifier 0.5385 0.0527 0.7479 0.0288\n",
      "bene WOE RUS {'resampler__sampling_strategy': 0.166} PCA {'transformer__n_components': 8} MLPClassifier 0.0 0.0 0.4767 0.0438\n",
      "bene WOE RUS {'resampler__sampling_strategy': 0.166} CFS {'transformer__k': 4} MLPClassifier 0.3462 0.4286 0.6728 0.0186\n",
      "bene WOE NCL {'resampler__n_neighbors': 9, 'resampler__sampling_strategy': 'not minority'} PCA {'transformer__n_components': 8} MLPClassifier 0.0 0.0 0.5 0.0022\n",
      "bene WOE NCL {'resampler__n_neighbors': 9, 'resampler__sampling_strategy': 'not minority'} CFS {'transformer__k': 4} MLPClassifier 0.1923 0.3226 0.5962 0.0016\n",
      "bene WOE TL {'resampler__sampling_strategy': 'all'} PCA {'transformer__n_components': 8} MLPClassifier 0.0 0.0 0.5 0.0022\n",
      "bene WOE TL {'resampler__sampling_strategy': 'all'} CFS {'transformer__k': 6} MLPClassifier 0.1538 0.2667 0.5769 0.0017\n"
     ]
    },
    {
     "data": {
      "application/vnd.jupyter.widget-view+json": {
       "model_id": "6477002c1fed4a01a7a09811fe96640c",
       "version_major": 2,
       "version_minor": 0
      },
      "text/plain": [
       "HBox(children=(FloatProgress(value=0.0, description='Training', style=ProgressStyle(description_width='initial…"
      ]
     },
     "metadata": {},
     "output_type": "display_data"
    },
    {
     "data": {
      "application/vnd.jupyter.widget-view+json": {
       "model_id": "",
       "version_major": 2,
       "version_minor": 0
      },
      "text/plain": [
       "HBox(children=(FloatProgress(value=0.0, description='Epoch 0', max=21560.0, style=ProgressStyle(description_wi…"
      ]
     },
     "metadata": {},
     "output_type": "display_data"
    },
    {
     "data": {
      "application/vnd.jupyter.widget-view+json": {
       "model_id": "",
       "version_major": 2,
       "version_minor": 0
      },
      "text/plain": [
       "HBox(children=(FloatProgress(value=0.0, description='Epoch 1', max=21560.0, style=ProgressStyle(description_wi…"
      ]
     },
     "metadata": {},
     "output_type": "display_data"
    },
    {
     "data": {
      "application/vnd.jupyter.widget-view+json": {
       "model_id": "",
       "version_major": 2,
       "version_minor": 0
      },
      "text/plain": [
       "HBox(children=(FloatProgress(value=0.0, description='Epoch 2', max=21560.0, style=ProgressStyle(description_wi…"
      ]
     },
     "metadata": {},
     "output_type": "display_data"
    },
    {
     "data": {
      "application/vnd.jupyter.widget-view+json": {
       "model_id": "",
       "version_major": 2,
       "version_minor": 0
      },
      "text/plain": [
       "HBox(children=(FloatProgress(value=0.0, description='Epoch 3', max=21560.0, style=ProgressStyle(description_wi…"
      ]
     },
     "metadata": {},
     "output_type": "display_data"
    },
    {
     "data": {
      "application/vnd.jupyter.widget-view+json": {
       "model_id": "",
       "version_major": 2,
       "version_minor": 0
      },
      "text/plain": [
       "HBox(children=(FloatProgress(value=0.0, description='Epoch 4', max=21560.0, style=ProgressStyle(description_wi…"
      ]
     },
     "metadata": {},
     "output_type": "display_data"
    },
    {
     "data": {
      "application/vnd.jupyter.widget-view+json": {
       "model_id": "",
       "version_major": 2,
       "version_minor": 0
      },
      "text/plain": [
       "HBox(children=(FloatProgress(value=0.0, description='Epoch 5', max=21560.0, style=ProgressStyle(description_wi…"
      ]
     },
     "metadata": {},
     "output_type": "display_data"
    },
    {
     "data": {
      "application/vnd.jupyter.widget-view+json": {
       "model_id": "",
       "version_major": 2,
       "version_minor": 0
      },
      "text/plain": [
       "HBox(children=(FloatProgress(value=0.0, description='Epoch 6', max=21560.0, style=ProgressStyle(description_wi…"
      ]
     },
     "metadata": {},
     "output_type": "display_data"
    },
    {
     "data": {
      "application/vnd.jupyter.widget-view+json": {
       "model_id": "",
       "version_major": 2,
       "version_minor": 0
      },
      "text/plain": [
       "HBox(children=(FloatProgress(value=0.0, description='Epoch 7', max=21560.0, style=ProgressStyle(description_wi…"
      ]
     },
     "metadata": {},
     "output_type": "display_data"
    },
    {
     "data": {
      "application/vnd.jupyter.widget-view+json": {
       "model_id": "",
       "version_major": 2,
       "version_minor": 0
      },
      "text/plain": [
       "HBox(children=(FloatProgress(value=0.0, description='Epoch 8', max=21560.0, style=ProgressStyle(description_wi…"
      ]
     },
     "metadata": {},
     "output_type": "display_data"
    },
    {
     "data": {
      "application/vnd.jupyter.widget-view+json": {
       "model_id": "",
       "version_major": 2,
       "version_minor": 0
      },
      "text/plain": [
       "HBox(children=(FloatProgress(value=0.0, description='Epoch 9', max=21560.0, style=ProgressStyle(description_wi…"
      ]
     },
     "metadata": {},
     "output_type": "display_data"
    },
    {
     "data": {
      "application/vnd.jupyter.widget-view+json": {
       "model_id": "",
       "version_major": 2,
       "version_minor": 0
      },
      "text/plain": [
       "HBox(children=(FloatProgress(value=0.0, description='Epoch 10', max=21560.0, style=ProgressStyle(description_w…"
      ]
     },
     "metadata": {},
     "output_type": "display_data"
    },
    {
     "data": {
      "application/vnd.jupyter.widget-view+json": {
       "model_id": "",
       "version_major": 2,
       "version_minor": 0
      },
      "text/plain": [
       "HBox(children=(FloatProgress(value=0.0, description='Epoch 11', max=21560.0, style=ProgressStyle(description_w…"
      ]
     },
     "metadata": {},
     "output_type": "display_data"
    },
    {
     "data": {
      "application/vnd.jupyter.widget-view+json": {
       "model_id": "",
       "version_major": 2,
       "version_minor": 0
      },
      "text/plain": [
       "HBox(children=(FloatProgress(value=0.0, description='Epoch 12', max=21560.0, style=ProgressStyle(description_w…"
      ]
     },
     "metadata": {},
     "output_type": "display_data"
    },
    {
     "data": {
      "application/vnd.jupyter.widget-view+json": {
       "model_id": "",
       "version_major": 2,
       "version_minor": 0
      },
      "text/plain": [
       "HBox(children=(FloatProgress(value=0.0, description='Epoch 13', max=21560.0, style=ProgressStyle(description_w…"
      ]
     },
     "metadata": {},
     "output_type": "display_data"
    },
    {
     "data": {
      "application/vnd.jupyter.widget-view+json": {
       "model_id": "",
       "version_major": 2,
       "version_minor": 0
      },
      "text/plain": [
       "HBox(children=(FloatProgress(value=0.0, description='Epoch 14', max=21560.0, style=ProgressStyle(description_w…"
      ]
     },
     "metadata": {},
     "output_type": "display_data"
    },
    {
     "data": {
      "application/vnd.jupyter.widget-view+json": {
       "model_id": "",
       "version_major": 2,
       "version_minor": 0
      },
      "text/plain": [
       "HBox(children=(FloatProgress(value=0.0, description='Epoch 15', max=21560.0, style=ProgressStyle(description_w…"
      ]
     },
     "metadata": {},
     "output_type": "display_data"
    },
    {
     "data": {
      "application/vnd.jupyter.widget-view+json": {
       "model_id": "",
       "version_major": 2,
       "version_minor": 0
      },
      "text/plain": [
       "HBox(children=(FloatProgress(value=0.0, description='Epoch 16', max=21560.0, style=ProgressStyle(description_w…"
      ]
     },
     "metadata": {},
     "output_type": "display_data"
    },
    {
     "data": {
      "application/vnd.jupyter.widget-view+json": {
       "model_id": "",
       "version_major": 2,
       "version_minor": 0
      },
      "text/plain": [
       "HBox(children=(FloatProgress(value=0.0, description='Epoch 17', max=21560.0, style=ProgressStyle(description_w…"
      ]
     },
     "metadata": {},
     "output_type": "display_data"
    },
    {
     "data": {
      "application/vnd.jupyter.widget-view+json": {
       "model_id": "",
       "version_major": 2,
       "version_minor": 0
      },
      "text/plain": [
       "HBox(children=(FloatProgress(value=0.0, description='Epoch 18', max=21560.0, style=ProgressStyle(description_w…"
      ]
     },
     "metadata": {},
     "output_type": "display_data"
    },
    {
     "data": {
      "application/vnd.jupyter.widget-view+json": {
       "model_id": "",
       "version_major": 2,
       "version_minor": 0
      },
      "text/plain": [
       "HBox(children=(FloatProgress(value=0.0, description='Epoch 19', max=21560.0, style=ProgressStyle(description_w…"
      ]
     },
     "metadata": {},
     "output_type": "display_data"
    },
    {
     "data": {
      "application/vnd.jupyter.widget-view+json": {
       "model_id": "",
       "version_major": 2,
       "version_minor": 0
      },
      "text/plain": [
       "HBox(children=(FloatProgress(value=0.0, description='Epoch 20', max=21560.0, style=ProgressStyle(description_w…"
      ]
     },
     "metadata": {},
     "output_type": "display_data"
    },
    {
     "data": {
      "application/vnd.jupyter.widget-view+json": {
       "model_id": "",
       "version_major": 2,
       "version_minor": 0
      },
      "text/plain": [
       "HBox(children=(FloatProgress(value=0.0, description='Epoch 21', max=21560.0, style=ProgressStyle(description_w…"
      ]
     },
     "metadata": {},
     "output_type": "display_data"
    },
    {
     "data": {
      "application/vnd.jupyter.widget-view+json": {
       "model_id": "",
       "version_major": 2,
       "version_minor": 0
      },
      "text/plain": [
       "HBox(children=(FloatProgress(value=0.0, description='Epoch 22', max=21560.0, style=ProgressStyle(description_w…"
      ]
     },
     "metadata": {},
     "output_type": "display_data"
    },
    {
     "data": {
      "application/vnd.jupyter.widget-view+json": {
       "model_id": "",
       "version_major": 2,
       "version_minor": 0
      },
      "text/plain": [
       "HBox(children=(FloatProgress(value=0.0, description='Epoch 23', max=21560.0, style=ProgressStyle(description_w…"
      ]
     },
     "metadata": {},
     "output_type": "display_data"
    },
    {
     "data": {
      "application/vnd.jupyter.widget-view+json": {
       "model_id": "",
       "version_major": 2,
       "version_minor": 0
      },
      "text/plain": [
       "HBox(children=(FloatProgress(value=0.0, description='Epoch 24', max=21560.0, style=ProgressStyle(description_w…"
      ]
     },
     "metadata": {},
     "output_type": "display_data"
    },
    {
     "data": {
      "application/vnd.jupyter.widget-view+json": {
       "model_id": "",
       "version_major": 2,
       "version_minor": 0
      },
      "text/plain": [
       "HBox(children=(FloatProgress(value=0.0, description='Epoch 25', max=21560.0, style=ProgressStyle(description_w…"
      ]
     },
     "metadata": {},
     "output_type": "display_data"
    },
    {
     "data": {
      "application/vnd.jupyter.widget-view+json": {
       "model_id": "",
       "version_major": 2,
       "version_minor": 0
      },
      "text/plain": [
       "HBox(children=(FloatProgress(value=0.0, description='Epoch 26', max=21560.0, style=ProgressStyle(description_w…"
      ]
     },
     "metadata": {},
     "output_type": "display_data"
    },
    {
     "data": {
      "application/vnd.jupyter.widget-view+json": {
       "model_id": "",
       "version_major": 2,
       "version_minor": 0
      },
      "text/plain": [
       "HBox(children=(FloatProgress(value=0.0, description='Epoch 27', max=21560.0, style=ProgressStyle(description_w…"
      ]
     },
     "metadata": {},
     "output_type": "display_data"
    },
    {
     "data": {
      "application/vnd.jupyter.widget-view+json": {
       "model_id": "",
       "version_major": 2,
       "version_minor": 0
      },
      "text/plain": [
       "HBox(children=(FloatProgress(value=0.0, description='Epoch 28', max=21560.0, style=ProgressStyle(description_w…"
      ]
     },
     "metadata": {},
     "output_type": "display_data"
    },
    {
     "data": {
      "application/vnd.jupyter.widget-view+json": {
       "model_id": "",
       "version_major": 2,
       "version_minor": 0
      },
      "text/plain": [
       "HBox(children=(FloatProgress(value=0.0, description='Epoch 29', max=21560.0, style=ProgressStyle(description_w…"
      ]
     },
     "metadata": {},
     "output_type": "display_data"
    },
    {
     "data": {
      "application/vnd.jupyter.widget-view+json": {
       "model_id": "",
       "version_major": 2,
       "version_minor": 0
      },
      "text/plain": [
       "HBox(children=(FloatProgress(value=0.0, description='Epoch 30', max=21560.0, style=ProgressStyle(description_w…"
      ]
     },
     "metadata": {},
     "output_type": "display_data"
    },
    {
     "data": {
      "application/vnd.jupyter.widget-view+json": {
       "model_id": "",
       "version_major": 2,
       "version_minor": 0
      },
      "text/plain": [
       "HBox(children=(FloatProgress(value=0.0, description='Epoch 31', max=21560.0, style=ProgressStyle(description_w…"
      ]
     },
     "metadata": {},
     "output_type": "display_data"
    },
    {
     "data": {
      "application/vnd.jupyter.widget-view+json": {
       "model_id": "",
       "version_major": 2,
       "version_minor": 0
      },
      "text/plain": [
       "HBox(children=(FloatProgress(value=0.0, description='Epoch 32', max=21560.0, style=ProgressStyle(description_w…"
      ]
     },
     "metadata": {},
     "output_type": "display_data"
    },
    {
     "data": {
      "application/vnd.jupyter.widget-view+json": {
       "model_id": "",
       "version_major": 2,
       "version_minor": 0
      },
      "text/plain": [
       "HBox(children=(FloatProgress(value=0.0, description='Epoch 33', max=21560.0, style=ProgressStyle(description_w…"
      ]
     },
     "metadata": {},
     "output_type": "display_data"
    },
    {
     "data": {
      "application/vnd.jupyter.widget-view+json": {
       "model_id": "",
       "version_major": 2,
       "version_minor": 0
      },
      "text/plain": [
       "HBox(children=(FloatProgress(value=0.0, description='Epoch 34', max=21560.0, style=ProgressStyle(description_w…"
      ]
     },
     "metadata": {},
     "output_type": "display_data"
    },
    {
     "data": {
      "application/vnd.jupyter.widget-view+json": {
       "model_id": "",
       "version_major": 2,
       "version_minor": 0
      },
      "text/plain": [
       "HBox(children=(FloatProgress(value=0.0, description='Epoch 35', max=21560.0, style=ProgressStyle(description_w…"
      ]
     },
     "metadata": {},
     "output_type": "display_data"
    },
    {
     "data": {
      "application/vnd.jupyter.widget-view+json": {
       "model_id": "",
       "version_major": 2,
       "version_minor": 0
      },
      "text/plain": [
       "HBox(children=(FloatProgress(value=0.0, description='Epoch 36', max=21560.0, style=ProgressStyle(description_w…"
      ]
     },
     "metadata": {},
     "output_type": "display_data"
    },
    {
     "data": {
      "application/vnd.jupyter.widget-view+json": {
       "model_id": "",
       "version_major": 2,
       "version_minor": 0
      },
      "text/plain": [
       "HBox(children=(FloatProgress(value=0.0, description='Epoch 37', max=21560.0, style=ProgressStyle(description_w…"
      ]
     },
     "metadata": {},
     "output_type": "display_data"
    },
    {
     "data": {
      "application/vnd.jupyter.widget-view+json": {
       "model_id": "",
       "version_major": 2,
       "version_minor": 0
      },
      "text/plain": [
       "HBox(children=(FloatProgress(value=0.0, description='Epoch 38', max=21560.0, style=ProgressStyle(description_w…"
      ]
     },
     "metadata": {},
     "output_type": "display_data"
    },
    {
     "data": {
      "application/vnd.jupyter.widget-view+json": {
       "model_id": "",
       "version_major": 2,
       "version_minor": 0
      },
      "text/plain": [
       "HBox(children=(FloatProgress(value=0.0, description='Epoch 39', max=21560.0, style=ProgressStyle(description_w…"
      ]
     },
     "metadata": {},
     "output_type": "display_data"
    },
    {
     "data": {
      "application/vnd.jupyter.widget-view+json": {
       "model_id": "",
       "version_major": 2,
       "version_minor": 0
      },
      "text/plain": [
       "HBox(children=(FloatProgress(value=0.0, description='Epoch 40', max=21560.0, style=ProgressStyle(description_w…"
      ]
     },
     "metadata": {},
     "output_type": "display_data"
    },
    {
     "data": {
      "application/vnd.jupyter.widget-view+json": {
       "model_id": "",
       "version_major": 2,
       "version_minor": 0
      },
      "text/plain": [
       "HBox(children=(FloatProgress(value=0.0, description='Epoch 41', max=21560.0, style=ProgressStyle(description_w…"
      ]
     },
     "metadata": {},
     "output_type": "display_data"
    },
    {
     "data": {
      "application/vnd.jupyter.widget-view+json": {
       "model_id": "",
       "version_major": 2,
       "version_minor": 0
      },
      "text/plain": [
       "HBox(children=(FloatProgress(value=0.0, description='Epoch 42', max=21560.0, style=ProgressStyle(description_w…"
      ]
     },
     "metadata": {},
     "output_type": "display_data"
    },
    {
     "data": {
      "application/vnd.jupyter.widget-view+json": {
       "model_id": "",
       "version_major": 2,
       "version_minor": 0
      },
      "text/plain": [
       "HBox(children=(FloatProgress(value=0.0, description='Epoch 43', max=21560.0, style=ProgressStyle(description_w…"
      ]
     },
     "metadata": {},
     "output_type": "display_data"
    },
    {
     "data": {
      "application/vnd.jupyter.widget-view+json": {
       "model_id": "",
       "version_major": 2,
       "version_minor": 0
      },
      "text/plain": [
       "HBox(children=(FloatProgress(value=0.0, description='Epoch 44', max=21560.0, style=ProgressStyle(description_w…"
      ]
     },
     "metadata": {},
     "output_type": "display_data"
    },
    {
     "data": {
      "application/vnd.jupyter.widget-view+json": {
       "model_id": "",
       "version_major": 2,
       "version_minor": 0
      },
      "text/plain": [
       "HBox(children=(FloatProgress(value=0.0, description='Epoch 45', max=21560.0, style=ProgressStyle(description_w…"
      ]
     },
     "metadata": {},
     "output_type": "display_data"
    },
    {
     "data": {
      "application/vnd.jupyter.widget-view+json": {
       "model_id": "",
       "version_major": 2,
       "version_minor": 0
      },
      "text/plain": [
       "HBox(children=(FloatProgress(value=0.0, description='Epoch 46', max=21560.0, style=ProgressStyle(description_w…"
      ]
     },
     "metadata": {},
     "output_type": "display_data"
    },
    {
     "data": {
      "application/vnd.jupyter.widget-view+json": {
       "model_id": "",
       "version_major": 2,
       "version_minor": 0
      },
      "text/plain": [
       "HBox(children=(FloatProgress(value=0.0, description='Epoch 47', max=21560.0, style=ProgressStyle(description_w…"
      ]
     },
     "metadata": {},
     "output_type": "display_data"
    },
    {
     "data": {
      "application/vnd.jupyter.widget-view+json": {
       "model_id": "",
       "version_major": 2,
       "version_minor": 0
      },
      "text/plain": [
       "HBox(children=(FloatProgress(value=0.0, description='Epoch 48', max=21560.0, style=ProgressStyle(description_w…"
      ]
     },
     "metadata": {},
     "output_type": "display_data"
    },
    {
     "data": {
      "application/vnd.jupyter.widget-view+json": {
       "model_id": "",
       "version_major": 2,
       "version_minor": 0
      },
      "text/plain": [
       "HBox(children=(FloatProgress(value=0.0, description='Epoch 49', max=21560.0, style=ProgressStyle(description_w…"
      ]
     },
     "metadata": {},
     "output_type": "display_data"
    },
    {
     "data": {
      "application/vnd.jupyter.widget-view+json": {
       "model_id": "",
       "version_major": 2,
       "version_minor": 0
      },
      "text/plain": [
       "HBox(children=(FloatProgress(value=0.0, description='Epoch 50', max=21560.0, style=ProgressStyle(description_w…"
      ]
     },
     "metadata": {},
     "output_type": "display_data"
    },
    {
     "data": {
      "application/vnd.jupyter.widget-view+json": {
       "model_id": "",
       "version_major": 2,
       "version_minor": 0
      },
      "text/plain": [
       "HBox(children=(FloatProgress(value=0.0, description='Epoch 51', max=21560.0, style=ProgressStyle(description_w…"
      ]
     },
     "metadata": {},
     "output_type": "display_data"
    },
    {
     "data": {
      "application/vnd.jupyter.widget-view+json": {
       "model_id": "",
       "version_major": 2,
       "version_minor": 0
      },
      "text/plain": [
       "HBox(children=(FloatProgress(value=0.0, description='Epoch 52', max=21560.0, style=ProgressStyle(description_w…"
      ]
     },
     "metadata": {},
     "output_type": "display_data"
    },
    {
     "data": {
      "application/vnd.jupyter.widget-view+json": {
       "model_id": "",
       "version_major": 2,
       "version_minor": 0
      },
      "text/plain": [
       "HBox(children=(FloatProgress(value=0.0, description='Epoch 53', max=21560.0, style=ProgressStyle(description_w…"
      ]
     },
     "metadata": {},
     "output_type": "display_data"
    },
    {
     "data": {
      "application/vnd.jupyter.widget-view+json": {
       "model_id": "",
       "version_major": 2,
       "version_minor": 0
      },
      "text/plain": [
       "HBox(children=(FloatProgress(value=0.0, description='Epoch 54', max=21560.0, style=ProgressStyle(description_w…"
      ]
     },
     "metadata": {},
     "output_type": "display_data"
    },
    {
     "data": {
      "application/vnd.jupyter.widget-view+json": {
       "model_id": "",
       "version_major": 2,
       "version_minor": 0
      },
      "text/plain": [
       "HBox(children=(FloatProgress(value=0.0, description='Epoch 55', max=21560.0, style=ProgressStyle(description_w…"
      ]
     },
     "metadata": {},
     "output_type": "display_data"
    },
    {
     "data": {
      "application/vnd.jupyter.widget-view+json": {
       "model_id": "",
       "version_major": 2,
       "version_minor": 0
      },
      "text/plain": [
       "HBox(children=(FloatProgress(value=0.0, description='Epoch 56', max=21560.0, style=ProgressStyle(description_w…"
      ]
     },
     "metadata": {},
     "output_type": "display_data"
    },
    {
     "data": {
      "application/vnd.jupyter.widget-view+json": {
       "model_id": "",
       "version_major": 2,
       "version_minor": 0
      },
      "text/plain": [
       "HBox(children=(FloatProgress(value=0.0, description='Epoch 57', max=21560.0, style=ProgressStyle(description_w…"
      ]
     },
     "metadata": {},
     "output_type": "display_data"
    },
    {
     "data": {
      "application/vnd.jupyter.widget-view+json": {
       "model_id": "",
       "version_major": 2,
       "version_minor": 0
      },
      "text/plain": [
       "HBox(children=(FloatProgress(value=0.0, description='Epoch 58', max=21560.0, style=ProgressStyle(description_w…"
      ]
     },
     "metadata": {},
     "output_type": "display_data"
    },
    {
     "data": {
      "application/vnd.jupyter.widget-view+json": {
       "model_id": "",
       "version_major": 2,
       "version_minor": 0
      },
      "text/plain": [
       "HBox(children=(FloatProgress(value=0.0, description='Epoch 59', max=21560.0, style=ProgressStyle(description_w…"
      ]
     },
     "metadata": {},
     "output_type": "display_data"
    },
    {
     "data": {
      "application/vnd.jupyter.widget-view+json": {
       "model_id": "",
       "version_major": 2,
       "version_minor": 0
      },
      "text/plain": [
       "HBox(children=(FloatProgress(value=0.0, description='Epoch 60', max=21560.0, style=ProgressStyle(description_w…"
      ]
     },
     "metadata": {},
     "output_type": "display_data"
    },
    {
     "data": {
      "application/vnd.jupyter.widget-view+json": {
       "model_id": "",
       "version_major": 2,
       "version_minor": 0
      },
      "text/plain": [
       "HBox(children=(FloatProgress(value=0.0, description='Epoch 61', max=21560.0, style=ProgressStyle(description_w…"
      ]
     },
     "metadata": {},
     "output_type": "display_data"
    },
    {
     "data": {
      "application/vnd.jupyter.widget-view+json": {
       "model_id": "",
       "version_major": 2,
       "version_minor": 0
      },
      "text/plain": [
       "HBox(children=(FloatProgress(value=0.0, description='Epoch 62', max=21560.0, style=ProgressStyle(description_w…"
      ]
     },
     "metadata": {},
     "output_type": "display_data"
    },
    {
     "data": {
      "application/vnd.jupyter.widget-view+json": {
       "model_id": "",
       "version_major": 2,
       "version_minor": 0
      },
      "text/plain": [
       "HBox(children=(FloatProgress(value=0.0, description='Epoch 63', max=21560.0, style=ProgressStyle(description_w…"
      ]
     },
     "metadata": {},
     "output_type": "display_data"
    },
    {
     "data": {
      "application/vnd.jupyter.widget-view+json": {
       "model_id": "",
       "version_major": 2,
       "version_minor": 0
      },
      "text/plain": [
       "HBox(children=(FloatProgress(value=0.0, description='Epoch 64', max=21560.0, style=ProgressStyle(description_w…"
      ]
     },
     "metadata": {},
     "output_type": "display_data"
    },
    {
     "data": {
      "application/vnd.jupyter.widget-view+json": {
       "model_id": "",
       "version_major": 2,
       "version_minor": 0
      },
      "text/plain": [
       "HBox(children=(FloatProgress(value=0.0, description='Epoch 65', max=21560.0, style=ProgressStyle(description_w…"
      ]
     },
     "metadata": {},
     "output_type": "display_data"
    },
    {
     "data": {
      "application/vnd.jupyter.widget-view+json": {
       "model_id": "",
       "version_major": 2,
       "version_minor": 0
      },
      "text/plain": [
       "HBox(children=(FloatProgress(value=0.0, description='Epoch 66', max=21560.0, style=ProgressStyle(description_w…"
      ]
     },
     "metadata": {},
     "output_type": "display_data"
    },
    {
     "data": {
      "application/vnd.jupyter.widget-view+json": {
       "model_id": "",
       "version_major": 2,
       "version_minor": 0
      },
      "text/plain": [
       "HBox(children=(FloatProgress(value=0.0, description='Epoch 67', max=21560.0, style=ProgressStyle(description_w…"
      ]
     },
     "metadata": {},
     "output_type": "display_data"
    },
    {
     "data": {
      "application/vnd.jupyter.widget-view+json": {
       "model_id": "",
       "version_major": 2,
       "version_minor": 0
      },
      "text/plain": [
       "HBox(children=(FloatProgress(value=0.0, description='Epoch 68', max=21560.0, style=ProgressStyle(description_w…"
      ]
     },
     "metadata": {},
     "output_type": "display_data"
    },
    {
     "data": {
      "application/vnd.jupyter.widget-view+json": {
       "model_id": "",
       "version_major": 2,
       "version_minor": 0
      },
      "text/plain": [
       "HBox(children=(FloatProgress(value=0.0, description='Epoch 69', max=21560.0, style=ProgressStyle(description_w…"
      ]
     },
     "metadata": {},
     "output_type": "display_data"
    },
    {
     "data": {
      "application/vnd.jupyter.widget-view+json": {
       "model_id": "",
       "version_major": 2,
       "version_minor": 0
      },
      "text/plain": [
       "HBox(children=(FloatProgress(value=0.0, description='Epoch 70', max=21560.0, style=ProgressStyle(description_w…"
      ]
     },
     "metadata": {},
     "output_type": "display_data"
    },
    {
     "data": {
      "application/vnd.jupyter.widget-view+json": {
       "model_id": "",
       "version_major": 2,
       "version_minor": 0
      },
      "text/plain": [
       "HBox(children=(FloatProgress(value=0.0, description='Epoch 71', max=21560.0, style=ProgressStyle(description_w…"
      ]
     },
     "metadata": {},
     "output_type": "display_data"
    },
    {
     "data": {
      "application/vnd.jupyter.widget-view+json": {
       "model_id": "",
       "version_major": 2,
       "version_minor": 0
      },
      "text/plain": [
       "HBox(children=(FloatProgress(value=0.0, description='Epoch 72', max=21560.0, style=ProgressStyle(description_w…"
      ]
     },
     "metadata": {},
     "output_type": "display_data"
    },
    {
     "data": {
      "application/vnd.jupyter.widget-view+json": {
       "model_id": "",
       "version_major": 2,
       "version_minor": 0
      },
      "text/plain": [
       "HBox(children=(FloatProgress(value=0.0, description='Epoch 73', max=21560.0, style=ProgressStyle(description_w…"
      ]
     },
     "metadata": {},
     "output_type": "display_data"
    },
    {
     "data": {
      "application/vnd.jupyter.widget-view+json": {
       "model_id": "",
       "version_major": 2,
       "version_minor": 0
      },
      "text/plain": [
       "HBox(children=(FloatProgress(value=0.0, description='Epoch 74', max=21560.0, style=ProgressStyle(description_w…"
      ]
     },
     "metadata": {},
     "output_type": "display_data"
    },
    {
     "data": {
      "application/vnd.jupyter.widget-view+json": {
       "model_id": "",
       "version_major": 2,
       "version_minor": 0
      },
      "text/plain": [
       "HBox(children=(FloatProgress(value=0.0, description='Epoch 75', max=21560.0, style=ProgressStyle(description_w…"
      ]
     },
     "metadata": {},
     "output_type": "display_data"
    },
    {
     "data": {
      "application/vnd.jupyter.widget-view+json": {
       "model_id": "",
       "version_major": 2,
       "version_minor": 0
      },
      "text/plain": [
       "HBox(children=(FloatProgress(value=0.0, description='Epoch 76', max=21560.0, style=ProgressStyle(description_w…"
      ]
     },
     "metadata": {},
     "output_type": "display_data"
    },
    {
     "data": {
      "application/vnd.jupyter.widget-view+json": {
       "model_id": "",
       "version_major": 2,
       "version_minor": 0
      },
      "text/plain": [
       "HBox(children=(FloatProgress(value=0.0, description='Epoch 77', max=21560.0, style=ProgressStyle(description_w…"
      ]
     },
     "metadata": {},
     "output_type": "display_data"
    },
    {
     "data": {
      "application/vnd.jupyter.widget-view+json": {
       "model_id": "",
       "version_major": 2,
       "version_minor": 0
      },
      "text/plain": [
       "HBox(children=(FloatProgress(value=0.0, description='Epoch 78', max=21560.0, style=ProgressStyle(description_w…"
      ]
     },
     "metadata": {},
     "output_type": "display_data"
    },
    {
     "data": {
      "application/vnd.jupyter.widget-view+json": {
       "model_id": "",
       "version_major": 2,
       "version_minor": 0
      },
      "text/plain": [
       "HBox(children=(FloatProgress(value=0.0, description='Epoch 79', max=21560.0, style=ProgressStyle(description_w…"
      ]
     },
     "metadata": {},
     "output_type": "display_data"
    },
    {
     "data": {
      "application/vnd.jupyter.widget-view+json": {
       "model_id": "",
       "version_major": 2,
       "version_minor": 0
      },
      "text/plain": [
       "HBox(children=(FloatProgress(value=0.0, description='Epoch 80', max=21560.0, style=ProgressStyle(description_w…"
      ]
     },
     "metadata": {},
     "output_type": "display_data"
    },
    {
     "data": {
      "application/vnd.jupyter.widget-view+json": {
       "model_id": "",
       "version_major": 2,
       "version_minor": 0
      },
      "text/plain": [
       "HBox(children=(FloatProgress(value=0.0, description='Epoch 81', max=21560.0, style=ProgressStyle(description_w…"
      ]
     },
     "metadata": {},
     "output_type": "display_data"
    },
    {
     "data": {
      "application/vnd.jupyter.widget-view+json": {
       "model_id": "",
       "version_major": 2,
       "version_minor": 0
      },
      "text/plain": [
       "HBox(children=(FloatProgress(value=0.0, description='Epoch 82', max=21560.0, style=ProgressStyle(description_w…"
      ]
     },
     "metadata": {},
     "output_type": "display_data"
    },
    {
     "data": {
      "application/vnd.jupyter.widget-view+json": {
       "model_id": "",
       "version_major": 2,
       "version_minor": 0
      },
      "text/plain": [
       "HBox(children=(FloatProgress(value=0.0, description='Epoch 83', max=21560.0, style=ProgressStyle(description_w…"
      ]
     },
     "metadata": {},
     "output_type": "display_data"
    },
    {
     "data": {
      "application/vnd.jupyter.widget-view+json": {
       "model_id": "",
       "version_major": 2,
       "version_minor": 0
      },
      "text/plain": [
       "HBox(children=(FloatProgress(value=0.0, description='Epoch 84', max=21560.0, style=ProgressStyle(description_w…"
      ]
     },
     "metadata": {},
     "output_type": "display_data"
    },
    {
     "data": {
      "application/vnd.jupyter.widget-view+json": {
       "model_id": "",
       "version_major": 2,
       "version_minor": 0
      },
      "text/plain": [
       "HBox(children=(FloatProgress(value=0.0, description='Epoch 85', max=21560.0, style=ProgressStyle(description_w…"
      ]
     },
     "metadata": {},
     "output_type": "display_data"
    },
    {
     "data": {
      "application/vnd.jupyter.widget-view+json": {
       "model_id": "",
       "version_major": 2,
       "version_minor": 0
      },
      "text/plain": [
       "HBox(children=(FloatProgress(value=0.0, description='Epoch 86', max=21560.0, style=ProgressStyle(description_w…"
      ]
     },
     "metadata": {},
     "output_type": "display_data"
    },
    {
     "data": {
      "application/vnd.jupyter.widget-view+json": {
       "model_id": "",
       "version_major": 2,
       "version_minor": 0
      },
      "text/plain": [
       "HBox(children=(FloatProgress(value=0.0, description='Epoch 87', max=21560.0, style=ProgressStyle(description_w…"
      ]
     },
     "metadata": {},
     "output_type": "display_data"
    },
    {
     "data": {
      "application/vnd.jupyter.widget-view+json": {
       "model_id": "",
       "version_major": 2,
       "version_minor": 0
      },
      "text/plain": [
       "HBox(children=(FloatProgress(value=0.0, description='Epoch 88', max=21560.0, style=ProgressStyle(description_w…"
      ]
     },
     "metadata": {},
     "output_type": "display_data"
    },
    {
     "data": {
      "application/vnd.jupyter.widget-view+json": {
       "model_id": "",
       "version_major": 2,
       "version_minor": 0
      },
      "text/plain": [
       "HBox(children=(FloatProgress(value=0.0, description='Epoch 89', max=21560.0, style=ProgressStyle(description_w…"
      ]
     },
     "metadata": {},
     "output_type": "display_data"
    },
    {
     "data": {
      "application/vnd.jupyter.widget-view+json": {
       "model_id": "",
       "version_major": 2,
       "version_minor": 0
      },
      "text/plain": [
       "HBox(children=(FloatProgress(value=0.0, description='Epoch 90', max=21560.0, style=ProgressStyle(description_w…"
      ]
     },
     "metadata": {},
     "output_type": "display_data"
    },
    {
     "data": {
      "application/vnd.jupyter.widget-view+json": {
       "model_id": "",
       "version_major": 2,
       "version_minor": 0
      },
      "text/plain": [
       "HBox(children=(FloatProgress(value=0.0, description='Epoch 91', max=21560.0, style=ProgressStyle(description_w…"
      ]
     },
     "metadata": {},
     "output_type": "display_data"
    },
    {
     "data": {
      "application/vnd.jupyter.widget-view+json": {
       "model_id": "",
       "version_major": 2,
       "version_minor": 0
      },
      "text/plain": [
       "HBox(children=(FloatProgress(value=0.0, description='Epoch 92', max=21560.0, style=ProgressStyle(description_w…"
      ]
     },
     "metadata": {},
     "output_type": "display_data"
    },
    {
     "data": {
      "application/vnd.jupyter.widget-view+json": {
       "model_id": "",
       "version_major": 2,
       "version_minor": 0
      },
      "text/plain": [
       "HBox(children=(FloatProgress(value=0.0, description='Epoch 93', max=21560.0, style=ProgressStyle(description_w…"
      ]
     },
     "metadata": {},
     "output_type": "display_data"
    },
    {
     "data": {
      "application/vnd.jupyter.widget-view+json": {
       "model_id": "",
       "version_major": 2,
       "version_minor": 0
      },
      "text/plain": [
       "HBox(children=(FloatProgress(value=0.0, description='Epoch 94', max=21560.0, style=ProgressStyle(description_w…"
      ]
     },
     "metadata": {},
     "output_type": "display_data"
    },
    {
     "data": {
      "application/vnd.jupyter.widget-view+json": {
       "model_id": "",
       "version_major": 2,
       "version_minor": 0
      },
      "text/plain": [
       "HBox(children=(FloatProgress(value=0.0, description='Epoch 95', max=21560.0, style=ProgressStyle(description_w…"
      ]
     },
     "metadata": {},
     "output_type": "display_data"
    },
    {
     "data": {
      "application/vnd.jupyter.widget-view+json": {
       "model_id": "",
       "version_major": 2,
       "version_minor": 0
      },
      "text/plain": [
       "HBox(children=(FloatProgress(value=0.0, description='Epoch 96', max=21560.0, style=ProgressStyle(description_w…"
      ]
     },
     "metadata": {},
     "output_type": "display_data"
    },
    {
     "data": {
      "application/vnd.jupyter.widget-view+json": {
       "model_id": "",
       "version_major": 2,
       "version_minor": 0
      },
      "text/plain": [
       "HBox(children=(FloatProgress(value=0.0, description='Epoch 97', max=21560.0, style=ProgressStyle(description_w…"
      ]
     },
     "metadata": {},
     "output_type": "display_data"
    },
    {
     "data": {
      "application/vnd.jupyter.widget-view+json": {
       "model_id": "",
       "version_major": 2,
       "version_minor": 0
      },
      "text/plain": [
       "HBox(children=(FloatProgress(value=0.0, description='Epoch 98', max=21560.0, style=ProgressStyle(description_w…"
      ]
     },
     "metadata": {},
     "output_type": "display_data"
    },
    {
     "data": {
      "application/vnd.jupyter.widget-view+json": {
       "model_id": "",
       "version_major": 2,
       "version_minor": 0
      },
      "text/plain": [
       "HBox(children=(FloatProgress(value=0.0, description='Epoch 99', max=21560.0, style=ProgressStyle(description_w…"
      ]
     },
     "metadata": {},
     "output_type": "display_data"
    },
    {
     "name": "stdout",
     "output_type": "stream",
     "text": [
      "\n"
     ]
    },
    {
     "data": {
      "application/vnd.jupyter.widget-view+json": {
       "model_id": "db97df06406b40d5871a3cb28a584e3e",
       "version_major": 2,
       "version_minor": 0
      },
      "text/plain": [
       "HBox(children=(FloatProgress(value=0.0, max=4.0), HTML(value='')))"
      ]
     },
     "metadata": {},
     "output_type": "display_data"
    },
    {
     "name": "stdout",
     "output_type": "stream",
     "text": [
      "\n"
     ]
    },
    {
     "data": {
      "application/vnd.jupyter.widget-view+json": {
       "model_id": "3aa3803e9cd5409c962202faf566bfcf",
       "version_major": 2,
       "version_minor": 0
      },
      "text/plain": [
       "HBox(children=(FloatProgress(value=0.0, max=4.0), HTML(value='')))"
      ]
     },
     "metadata": {},
     "output_type": "display_data"
    },
    {
     "name": "stdout",
     "output_type": "stream",
     "text": [
      "\n",
      "Dropping Origin_embedding_0 with vif=63.636547559062066\n",
      "Dropping Origin_embedding_1 with vif=30.5909154327941\n",
      "Dropping CivilState_embedding_0 with vif=12.502238650839235\n",
      "Dropping HomeOwnership_embedding_1 with vif=11.62476836853596\n",
      "100%|█████████████████████████████████████████████| 100/100 [02:59<00:00,  1.79s/trial, best loss: -0.9196477100437681]\n",
      "best:\n",
      "{'criterion': 0, 'max_depth': 7, 'max_features': 1, 'n_estimators': 82}\n",
      "100%|█████████████████████████████████████████████| 100/100 [00:31<00:00,  3.21trial/s, best loss: -0.9078653774637413]\n",
      "best:\n",
      "{'C': 6.260790383099128, 'penalty': 1}\n",
      "100%|█████████████████████████████████████████████| 100/100 [36:02<00:00, 21.63s/trial, best loss: -0.9133733348590173]\n",
      "best:\n",
      "{'alpha': 0.000740603278518534, 'hidden_layer_sizes': 21}\n",
      "bene EMB NA NA NA NA LogisticRegression 0.1923 0.3226 0.5962 0.0017\n",
      "bene EMB OSS {'resampler__n_neighbors': 3, 'resampler__n_seeds_S': 10, 'resampler__sampling_strategy': 'not majority'} NA NA LogisticRegression 0.0 0.0 0.5 0.0021\n",
      "bene EMB ROS {'resampler__sampling_strategy': 0.166} NA NA LogisticRegression 0.3846 0.1961 0.6894 0.0153\n",
      "bene EMB SMT {'resampler__k_neighbors': 15, 'resampler__sampling_strategy': 0.332} NA NA LogisticRegression 0.4615 0.0652 0.7165 0.0304\n",
      "bene EMB ADA {'resampler__n_neighbors': 15, 'resampler__sampling_strategy': 0.166} NA NA LogisticRegression 0.4231 0.1375 0.7062 0.0173\n",
      "bene EMB SMT_BL {'resampler__k_neighbors': 15, 'resampler__kind': 'borderline-1', 'resampler__sampling_strategy': 0.5} NA NA LogisticRegression 0.4231 0.275 0.7097 0.0062\n",
      "bene EMB SMT_ENN {'resampler__sampling_strategy': 0.332} NA NA LogisticRegression 0.4615 0.0513 0.7121 0.0374\n",
      "bene EMB SMT_TL {'resampler__sampling_strategy': 0.5} NA NA LogisticRegression 0.5 0.034 0.7185 0.0525\n",
      "bene EMB RUS {'resampler__sampling_strategy': 0.332} NA NA LogisticRegression 0.3846 0.113 0.6862 0.0357\n",
      "bene EMB NCL {'resampler__n_neighbors': 9, 'resampler__sampling_strategy': 'not minority'} NA NA LogisticRegression 0.1923 0.3226 0.5962 0.0017\n",
      "bene EMB TL {'resampler__sampling_strategy': 'not minority'} NA NA LogisticRegression 0.1923 0.3226 0.5962 0.0017\n",
      "bene EMB NA NA PCA {'transformer__n_components': 10} LogisticRegression 0.0 0.0 0.5 0.0022\n",
      "bene EMB NA NA CFS {'transformer__k': 7} LogisticRegression 0.1538 0.2667 0.5769 0.0017\n",
      "bene EMB OSS {'resampler__n_neighbors': 3, 'resampler__n_seeds_S': 10, 'resampler__sampling_strategy': 'all'} PCA {'transformer__n_components': 10} LogisticRegression 0.0 0.0 0.5 0.0022\n",
      "bene EMB OSS {'resampler__n_neighbors': 3, 'resampler__n_seeds_S': 10, 'resampler__sampling_strategy': 'all'} CFS {'transformer__k': 5} LogisticRegression 0.0 0.0 0.5 0.0022\n",
      "bene EMB ROS {'resampler__sampling_strategy': 0.5} PCA {'transformer__n_components': 10} LogisticRegression 0.8846 0.0087 0.7158 0.3795\n",
      "bene EMB ROS {'resampler__sampling_strategy': 0.5} CFS {'transformer__k': 10} LogisticRegression 0.5 0.0369 0.7211 0.0533\n",
      "bene EMB SMT {'resampler__k_neighbors': 10, 'resampler__sampling_strategy': 0.332} PCA {'transformer__n_components': 10} LogisticRegression 0.7692 0.0081 0.6732 0.3552\n",
      "bene EMB SMT {'resampler__k_neighbors': 10, 'resampler__sampling_strategy': 0.332} CFS {'transformer__k': 10} LogisticRegression 0.5385 0.0751 0.7548 0.033\n",
      "bene EMB ADA {'resampler__n_neighbors': 15, 'resampler__sampling_strategy': 0.332} PCA {'transformer__n_components': 10} LogisticRegression 0.7308 0.009 0.6842 0.2837\n",
      "bene EMB ADA {'resampler__n_neighbors': 15, 'resampler__sampling_strategy': 0.332} CFS {'transformer__k': 10} LogisticRegression 0.5769 0.0645 0.7701 0.0378\n",
      "bene EMB SMT_BL {'resampler__k_neighbors': 15, 'resampler__kind': 'borderline-1', 'resampler__sampling_strategy': 0.332} PCA {'transformer__n_components': 10} LogisticRegression 0.6923 0.0072 0.6322 0.3777\n",
      "bene EMB SMT_BL {'resampler__k_neighbors': 15, 'resampler__kind': 'borderline-1', 'resampler__sampling_strategy': 0.332} CFS {'transformer__k': 5} LogisticRegression 0.4231 0.2857 0.7098 0.0051\n",
      "bene EMB SMT_ENN {'resampler__sampling_strategy': 0.5} PCA {'transformer__n_components': 10} LogisticRegression 0.8846 0.0075 0.6784 0.4679\n",
      "bene EMB SMT_ENN {'resampler__sampling_strategy': 0.5} CFS {'transformer__k': 10} LogisticRegression 0.5 0.033 0.7175 0.0553\n",
      "bene EMB SMT_TL {'resampler__sampling_strategy': 0.332} PCA {'transformer__n_components': 10} LogisticRegression 0.7308 0.0077 0.6521 0.3577\n",
      "bene EMB SMT_TL {'resampler__sampling_strategy': 0.332} CFS {'transformer__k': 10} LogisticRegression 0.4615 0.0614 0.7155 0.0352\n",
      "bene EMB RUS {'resampler__sampling_strategy': 0.166} PCA {'transformer__n_components': 10} LogisticRegression 0.3846 0.0182 0.6461 0.0701\n",
      "bene EMB RUS {'resampler__sampling_strategy': 0.166} CFS {'transformer__k': 7} LogisticRegression 0.3462 0.3673 0.6725 0.0153\n",
      "bene EMB NCL {'resampler__n_neighbors': 9, 'resampler__sampling_strategy': 'not minority'} PCA {'transformer__n_components': 10} LogisticRegression 0.0 0.0 0.5 0.0022\n",
      "bene EMB NCL {'resampler__n_neighbors': 9, 'resampler__sampling_strategy': 'not minority'} CFS {'transformer__k': 7} LogisticRegression 0.1923 0.3226 0.5962 0.0016\n",
      "bene EMB TL {'resampler__sampling_strategy': 'not minority'} PCA {'transformer__n_components': 10} LogisticRegression 0.0 0.0 0.5 0.0022\n",
      "bene EMB TL {'resampler__sampling_strategy': 'not minority'} CFS {'transformer__k': 7} LogisticRegression 0.1923 0.3226 0.5962 0.0016\n",
      "bene EMB NA NA NA NA RandomForestClassifier 0.4231 0.5946 0.7115 0.0013\n",
      "bene EMB OSS {'resampler__n_neighbors': 3, 'resampler__n_seeds_S': 10, 'resampler__sampling_strategy': 'not minority'} NA NA RandomForestClassifier 0.4231 0.5946 0.7115 0.0013\n",
      "bene EMB ROS {'resampler__sampling_strategy': 0.332} NA NA RandomForestClassifier 0.4615 0.32 0.7292 0.0156\n",
      "bene EMB SMT {'resampler__k_neighbors': 5, 'resampler__sampling_strategy': 0.166} NA NA RandomForestClassifier 0.4231 0.3607 0.7105 0.0084\n",
      "bene EMB ADA {'resampler__n_neighbors': 5, 'resampler__sampling_strategy': 0.166} NA NA RandomForestClassifier 0.3846 0.2778 0.6907 0.0113\n",
      "bene EMB SMT_BL {'resampler__k_neighbors': 15, 'resampler__kind': 'borderline-1', 'resampler__sampling_strategy': 0.166} NA NA RandomForestClassifier 0.2308 0.2069 0.6143 0.0034\n",
      "bene EMB SMT_ENN {'resampler__sampling_strategy': 0.166} NA NA RandomForestClassifier 0.4231 0.3014 0.71 0.0092\n",
      "bene EMB SMT_TL {'resampler__sampling_strategy': 0.166} NA NA RandomForestClassifier 0.3462 0.3051 0.672 0.0081\n",
      "bene EMB RUS {'resampler__sampling_strategy': 0.166} NA NA RandomForestClassifier 0.5 0.1313 0.7431 0.0165\n",
      "bene EMB NCL {'resampler__n_neighbors': 3, 'resampler__sampling_strategy': 'not minority'} NA NA RandomForestClassifier 0.4231 0.5946 0.7115 0.0013\n",
      "bene EMB TL {'resampler__sampling_strategy': 'not minority'} NA NA RandomForestClassifier 0.4231 0.5946 0.7115 0.0012\n",
      "bene EMB NA NA PCA {'transformer__n_components': 7} RandomForestClassifier 0.0 0.0 0.5 0.0022\n",
      "bene EMB NA NA CFS {'transformer__k': 10} RandomForestClassifier 0.4231 0.5946 0.7115 0.0013\n",
      "bene EMB OSS {'resampler__n_neighbors': 3, 'resampler__n_seeds_S': 100, 'resampler__sampling_strategy': 'not majority'} PCA {'transformer__n_components': 7} RandomForestClassifier 0.0 0.0 0.5 0.0022\n",
      "bene EMB OSS {'resampler__n_neighbors': 3, 'resampler__n_seeds_S': 100, 'resampler__sampling_strategy': 'not majority'} CFS {'transformer__k': 10} RandomForestClassifier 0.4231 0.5946 0.7115 0.0013\n",
      "bene EMB ROS {'resampler__sampling_strategy': 0.332} PCA {'transformer__n_components': 7} RandomForestClassifier 0.2692 0.0144 0.5938 0.0625\n",
      "bene EMB ROS {'resampler__sampling_strategy': 0.332} CFS {'transformer__k': 10} RandomForestClassifier 0.4615 0.2857 0.7288 0.0156\n",
      "bene EMB SMT {'resampler__k_neighbors': 5, 'resampler__sampling_strategy': 0.166} PCA {'transformer__n_components': 10} RandomForestClassifier 0.0385 0.05 0.5187 0.0226\n",
      "bene EMB SMT {'resampler__k_neighbors': 5, 'resampler__sampling_strategy': 0.166} CFS {'transformer__k': 10} RandomForestClassifier 0.4615 0.3692 0.7296 0.0081\n",
      "bene EMB ADA {'resampler__n_neighbors': 5, 'resampler__sampling_strategy': 0.166} PCA {'transformer__n_components': 10} RandomForestClassifier 0.4231 0.0165 0.6553 0.0777\n",
      "bene EMB ADA {'resampler__n_neighbors': 5, 'resampler__sampling_strategy': 0.166} CFS {'transformer__k': 10} RandomForestClassifier 0.4231 0.2933 0.7099 0.01\n"
     ]
    },
    {
     "name": "stdout",
     "output_type": "stream",
     "text": [
      "bene EMB SMT_BL {'resampler__k_neighbors': 15, 'resampler__kind': 'borderline-1', 'resampler__sampling_strategy': 0.166} PCA {'transformer__n_components': 10} RandomForestClassifier 0.3462 0.0126 0.6124 0.0817\n",
      "bene EMB SMT_BL {'resampler__k_neighbors': 15, 'resampler__kind': 'borderline-1', 'resampler__sampling_strategy': 0.166} CFS {'transformer__k': 7} RandomForestClassifier 0.2692 0.2333 0.6334 0.0032\n",
      "bene EMB SMT_ENN {'resampler__sampling_strategy': 0.166} PCA {'transformer__n_components': 10} RandomForestClassifier 0.1538 0.0332 0.5678 0.0335\n",
      "bene EMB SMT_ENN {'resampler__sampling_strategy': 0.166} CFS {'transformer__k': 10} RandomForestClassifier 0.4231 0.3143 0.7101 0.0088\n",
      "bene EMB SMT_TL {'resampler__sampling_strategy': 0.166} PCA {'transformer__n_components': 10} RandomForestClassifier 0.1538 0.0941 0.5745 0.0257\n",
      "bene EMB SMT_TL {'resampler__sampling_strategy': 0.166} CFS {'transformer__k': 10} RandomForestClassifier 0.4231 0.3438 0.7104 0.0083\n",
      "bene EMB RUS {'resampler__sampling_strategy': 0.5} PCA {'transformer__n_components': 10} RandomForestClassifier 0.8077 0.0132 0.7674 0.173\n",
      "bene EMB RUS {'resampler__sampling_strategy': 0.5} CFS {'transformer__k': 5} RandomForestClassifier 0.5385 0.0601 0.7507 0.051\n",
      "bene EMB NCL {'resampler__n_neighbors': 6, 'resampler__sampling_strategy': 'not minority'} PCA {'transformer__n_components': 7} RandomForestClassifier 0.0385 0.0741 0.5192 0.0022\n",
      "bene EMB NCL {'resampler__n_neighbors': 6, 'resampler__sampling_strategy': 'not minority'} CFS {'transformer__k': 10} RandomForestClassifier 0.4231 0.5946 0.7115 0.0013\n",
      "bene EMB TL {'resampler__sampling_strategy': 'not minority'} PCA {'transformer__n_components': 7} RandomForestClassifier 0.0385 0.0741 0.5192 0.0022\n",
      "bene EMB TL {'resampler__sampling_strategy': 'not minority'} CFS {'transformer__k': 10} RandomForestClassifier 0.4231 0.5946 0.7115 0.0013\n",
      "bene EMB NA NA NA NA MLPClassifier 0.2692 0.4242 0.6346 0.0016\n",
      "bene EMB OSS {'resampler__n_neighbors': 6, 'resampler__n_seeds_S': 10, 'resampler__sampling_strategy': 'not minority'} NA NA MLPClassifier 0.3077 0.4706 0.6538 0.0016\n",
      "bene EMB ROS {'resampler__sampling_strategy': 0.166} NA NA MLPClassifier 0.4231 0.0973 0.7033 0.0177\n",
      "bene EMB SMT {'resampler__k_neighbors': 5, 'resampler__sampling_strategy': 0.5} NA NA MLPClassifier 0.3462 0.0368 0.6534 0.027\n",
      "bene EMB ADA {'resampler__n_neighbors': 5, 'resampler__sampling_strategy': 0.166} NA NA MLPClassifier 0.3846 0.0741 0.6822 0.0162\n",
      "bene EMB SMT_BL {'resampler__k_neighbors': 10, 'resampler__kind': 'borderline-1', 'resampler__sampling_strategy': 0.5} NA NA MLPClassifier 0.3462 0.2727 0.6717 0.0037\n",
      "bene EMB SMT_ENN {'resampler__sampling_strategy': 0.166} NA NA MLPClassifier 0.3846 0.0727 0.6819 0.015\n",
      "bene EMB SMT_TL {'resampler__sampling_strategy': 0.166} NA NA MLPClassifier 0.3846 0.0889 0.6841 0.0138\n",
      "bene EMB RUS {'resampler__sampling_strategy': 0.5} NA NA MLPClassifier 0.3846 0.0429 0.6737 0.084\n",
      "bene EMB NCL {'resampler__n_neighbors': 3, 'resampler__sampling_strategy': 'not minority'} NA NA MLPClassifier 0.3077 0.4571 0.6538 0.0016\n",
      "bene EMB TL {'resampler__sampling_strategy': 'not minority'} NA NA MLPClassifier 0.3077 0.4571 0.6538 0.0016\n",
      "bene EMB NA NA PCA {'transformer__n_components': 10} MLPClassifier 0.0 0.0 0.5 0.0022\n",
      "bene EMB NA NA CFS {'transformer__k': 7} MLPClassifier 0.2692 0.4242 0.6346 0.0016\n",
      "bene EMB OSS {'resampler__n_neighbors': 3, 'resampler__n_seeds_S': 100, 'resampler__sampling_strategy': 'not majority'} PCA {'transformer__n_components': 10} MLPClassifier 0.0 0.0 0.5 0.0022\n",
      "bene EMB OSS {'resampler__n_neighbors': 3, 'resampler__n_seeds_S': 100, 'resampler__sampling_strategy': 'not majority'} CFS {'transformer__k': 10} MLPClassifier 0.3462 0.4865 0.673 0.0016\n",
      "bene EMB ROS {'resampler__sampling_strategy': 0.166} PCA {'transformer__n_components': 10} MLPClassifier 0.3077 0.009 0.5784 0.1187\n",
      "bene EMB ROS {'resampler__sampling_strategy': 0.166} CFS {'transformer__k': 10} MLPClassifier 0.5 0.2766 0.7476 0.0134\n",
      "bene EMB SMT {'resampler__k_neighbors': 15, 'resampler__sampling_strategy': 0.332} PCA {'transformer__n_components': 10} MLPClassifier 0.7308 0.0109 0.7166 0.2631\n",
      "bene EMB SMT {'resampler__k_neighbors': 15, 'resampler__sampling_strategy': 0.332} CFS {'transformer__k': 10} MLPClassifier 0.4231 0.1019 0.7038 0.0133\n",
      "bene EMB ADA {'resampler__n_neighbors': 15, 'resampler__sampling_strategy': 0.166} PCA {'transformer__n_components': 10} MLPClassifier 0.6154 0.0129 0.7021 0.1713\n",
      "bene EMB ADA {'resampler__n_neighbors': 15, 'resampler__sampling_strategy': 0.166} CFS {'transformer__k': 10} MLPClassifier 0.4231 0.1068 0.7042 0.0134\n",
      "bene EMB SMT_BL {'resampler__k_neighbors': 15, 'resampler__kind': 'borderline-2', 'resampler__sampling_strategy': 0.5} PCA {'transformer__n_components': 10} MLPClassifier 0.8846 0.0079 0.693 0.4557\n",
      "bene EMB SMT_BL {'resampler__k_neighbors': 15, 'resampler__kind': 'borderline-2', 'resampler__sampling_strategy': 0.5} CFS {'transformer__k': 10} MLPClassifier 0.3846 0.2299 0.6901 0.005\n",
      "bene EMB SMT_ENN {'resampler__sampling_strategy': 0.166} PCA {'transformer__n_components': 10} MLPClassifier 0.5 0.0122 0.6594 0.1401\n",
      "bene EMB SMT_ENN {'resampler__sampling_strategy': 0.166} CFS {'transformer__k': 10} MLPClassifier 0.3846 0.0781 0.6828 0.0151\n",
      "bene EMB SMT_TL {'resampler__sampling_strategy': 0.5} PCA {'transformer__n_components': 10} MLPClassifier 0.6154 0.0094 0.6612 0.2655\n",
      "bene EMB SMT_TL {'resampler__sampling_strategy': 0.5} CFS {'transformer__k': 10} MLPClassifier 0.4231 0.0403 0.6895 0.0315\n",
      "bene EMB RUS {'resampler__sampling_strategy': 0.166} PCA {'transformer__n_components': 10} MLPClassifier 0.1538 0.0162 0.5568 0.0474\n",
      "bene EMB RUS {'resampler__sampling_strategy': 0.166} CFS {'transformer__k': 5} MLPClassifier 0.1538 0.2667 0.5769 0.0181\n",
      "bene EMB NCL {'resampler__n_neighbors': 9, 'resampler__sampling_strategy': 'not minority'} PCA {'transformer__n_components': 10} MLPClassifier 0.0 0.0 0.5 0.0022\n",
      "bene EMB NCL {'resampler__n_neighbors': 9, 'resampler__sampling_strategy': 'not minority'} CFS {'transformer__k': 10} MLPClassifier 0.3462 0.5 0.673 0.0016\n",
      "bene EMB TL {'resampler__sampling_strategy': 'not minority'} PCA {'transformer__n_components': 10} MLPClassifier 0.0 0.0 0.5 0.0022\n",
      "bene EMB TL {'resampler__sampling_strategy': 'not minority'} CFS {'transformer__k': 7} MLPClassifier 0.2692 0.4242 0.6346 0.0016\n"
     ]
    }
   ],
   "source": [
    "preprocess_technique_stat = pd.DataFrame()\n",
    "dataset_name = 'bene'\n",
    "\n",
    "#data set specific ratios to resample\n",
    "ratios =[0.166,0.332,0.5]\n",
    "bene = pd.read_csv (r'C:\\Users\\ihorh\\Desktop\\Master Thesis\\data_ihorirene\\bene3\\data_bene3.csv'\n",
    "                 ,delimiter=';')\n",
    "#drop duplicates\n",
    "bene = bene.drop_duplicates(keep='first')\n",
    "\n",
    "\n",
    "bene = bene.drop(columns=['account_id'])\n",
    "bene = bene.rename(columns={'default': 'BAD'})\n",
    "\n",
    "\n",
    "#treat values based on their meaning\n",
    "bene.loc[bene.HWGV_REL_MD_AT > 900, 'HWGV_REL_MD_AT'] = np.nan\n",
    "\n",
    "bene.replace({'HGESL_KD' : { 2: 'm',1: 'f'}},inplace=True)\n",
    "bene.loc[bene.HWOON_STA_MD_AT == 99998, 'HWOON_STA_MD_AT'] = bene.HLTD_MD_AT\n",
    "\n",
    "bene.replace({'HBURG_KD' : { 0: 'NA', 1 : 'Divorced', 2 : 'Married',3:'Not married',4:'Legally divorced',5:'Widow',6:'Overleden' }},inplace=True)\n",
    "\n",
    "bene.replace({'HWOON_STA_KD' : {1 : 'Owner', 2 : 'Renter',3:'Lives at parents',4:'Other'}},inplace=True)\n",
    "bene.replace({'HNAT_KD' : {1 : 'Belgium', 2 : 'West-Europe',3:'Rest of Europe',4:'North America/ Australia',5:'South/ Central America',6:'Asia/ Middle East',7:'Africa',8:'Not applicable'}},inplace=True)\n",
    "\n",
    "\n",
    "bene[['HLTD_MD_AT']] = round(bene[['HLTD_MD_AT']]/12,1)\n",
    "bene[['HWOON_STA_MD_AT']] = round(bene[['HWOON_STA_MD_AT']]/12,1)\n",
    "bene[['HWGV_REL_MD_AT']] = round(bene[['HWGV_REL_MD_AT']]/12,1)\n",
    "  \n",
    "bene.rename(columns={'HGESL_KD': 'Gender','HLTD_MD_AT': 'Age','HWOON_STA_MD_AT':'LivesWithParents',\n",
    "                                 'HWGV_REL_MD_AT':'WorksAtEmployer','HNAT_KD':'Origin','HBURG_KD':'CivilState'\n",
    "                                ,'HWOON_STA_KD':'HomeOwnership','MOB':'Month'}, inplace=True)\n",
    "\n",
    "#end treat values based on their meaning\n",
    "\n",
    "# #split dataset into data and target\n",
    "y = bene.BAD\n",
    "X = bene.drop('BAD',axis=1)\n",
    "\n",
    "\n",
    "toScaleColumns = ['amount_of_loan','Month','LivesWithParents','Age','WorksAtEmployer','DPD']\n",
    "\n",
    "\n",
    "X_train_original, X_test_original, y_train_original, y_test_original = split(X,y)\n",
    "\n",
    "#treat missing values\n",
    "imp_cat = SimpleImputer(strategy=\"most_frequent\")\n",
    "imp_num = SimpleImputer(missing_values=np.nan, strategy='mean')\n",
    "X_train_num = X_train_original.select_dtypes(include=['int64', 'float64'])\n",
    "X_test_num = X_test_original.select_dtypes(include=['int64', 'float64'])\n",
    "X_train_cat = X_train_original.select_dtypes(exclude=['int64', 'float64'])\n",
    "X_test_cat = X_test_original.select_dtypes(exclude=['int64', 'float64'])\n",
    "\n",
    "#impute mean mode\n",
    "X_train_cat = pd.DataFrame(imp_cat.fit_transform(X_train_cat),columns=X_train_cat.columns)\n",
    "X_test_cat = pd.DataFrame(imp_cat.transform(X_test_cat),columns=X_test_cat.columns)\n",
    "X_train_num = pd.DataFrame(imp_num.fit_transform(X_train_num),columns = X_train_num.columns)\n",
    "X_test_num = pd.DataFrame(imp_num.transform(X_test_num),columns=X_test_num.columns)\n",
    "\n",
    "X_train_original = pd.concat([X_train_cat,X_train_num],axis=1)\n",
    "X_test_original = pd.concat([X_test_cat,X_test_num],axis=1)\n",
    "\n",
    "\n",
    "#scale\n",
    "X_train_original[toScaleColumns] = scaler.fit_transform(X_train_original[toScaleColumns] )\n",
    "X_test_original[toScaleColumns]  = scaler.transform(X_test_original[toScaleColumns] )\n",
    "\n",
    "#downcast numerical columns\n",
    "for column in toScaleColumns:\n",
    "    X_train_original[column] = pd.to_numeric(X_train_original[column], downcast='float')\n",
    "\n",
    "\n",
    "###ONE HOT ENCODING-------------------------------------------------\n",
    "X_train = one_hot_encode(X_train_original)\n",
    "X_test = one_hot_encode(X_test_original)\n",
    "y_train = y_train_original\n",
    "y_test = y_test_original\n",
    "columns_list = X_train.columns.tolist()\n",
    "X_test = X_test[X_test.columns.intersection(columns_list)]\n",
    "\n",
    "\n",
    "\n",
    "\n",
    "#add columns that are not present in test\n",
    "for column in columns_list:\n",
    "    if column not in X.columns:\n",
    "        X_test[column] = 0\n",
    "\n",
    "\n",
    "#reduce colinearity\n",
    "X_train, X_test = removeMulticolinearFeatures(X_train,X_test, 10)\n",
    "\n",
    "\n",
    "\n",
    "\n",
    "#classifier optimization is performed on OHE dataset\n",
    "RF, bestParametersRF = getRF()\n",
    "LR, bestParametersLR= getLR()\n",
    "MLP, bestParametersMLP = getMLP()\n",
    "classifiers = [LR,RF,MLP]\n",
    "bestParametersList=[str(bestParametersLR),str(bestParametersRF),str(bestParametersMLP)]\n",
    "\n",
    "\n",
    "i = 0\n",
    "for classifier in classifiers:\n",
    "    stat = classify_master(X_train, X_test, y_train, y_test,'OHE',classifier)\n",
    "    stat['ClassifierParameters'] = bestParametersList[i]\n",
    "    preprocess_technique_stat = preprocess_technique_stat.append(stat)\n",
    "    i=i+1\n",
    "\n",
    "\n",
    "###END ONE HOT ENCODING------------------------------------------\n",
    "\n",
    "\n",
    "###WOE ENCODING-----------------------------------------------\n",
    "X_train = X_train_original\n",
    "X_test = X_test_original\n",
    "y_train = y_train_original\n",
    "y_test = y_test_original\n",
    "\n",
    "#Encode WOE\n",
    "columns_list = X_train.columns.tolist()\n",
    "for column in columns_list:\n",
    "    if is_string_dtype(X_train[column]):\n",
    "        encoder = ce.WOEEncoder(cols=[column])\n",
    "        encoder.fit(X_train,y_train)\n",
    "        X_train = encoder.transform(X_train)\n",
    "        X_test = encoder.transform(X_test)\n",
    "        \n",
    "#reduce colinearity\n",
    "X_train, X_test = removeMulticolinearFeatures(X_train,X_test, 10)\n",
    "\n",
    "\n",
    "\n",
    "# #classifier optimization is performed on WOE dataset\n",
    "RF, bestParametersRF = getRF()\n",
    "LR, bestParametersLR= getLR()\n",
    "MLP, bestParametersMLP = getMLP()\n",
    "classifiers = [LR,RF,MLP]\n",
    "bestParametersList=[str(bestParametersLR),str(bestParametersRF),str(bestParametersMLP)]\n",
    "\n",
    "\n",
    "i = 0\n",
    "for classifier in classifiers:\n",
    "    stat = classify_master(X_train, X_test, y_train, y_test,'WOE',classifier)\n",
    "    stat['ClassifierParameters'] = bestParametersList[i]\n",
    "    preprocess_technique_stat = preprocess_technique_stat.append(stat)\n",
    "    i=i+1\n",
    "\n",
    "###EMB---------------------------------\n",
    "X_train = X_train_original\n",
    "y_train = y_train_original\n",
    "X_test = X_test_original\n",
    "y_test = y_test_original\n",
    "\n",
    "\n",
    "        \n",
    "embedding_info = cem.get_embedding_info(X_train)\n",
    "\n",
    "X_encoded,encoders = cem.get_label_encoded_data(X_train)\n",
    "\n",
    "\n",
    "\n",
    "embeddings = cem.get_embeddings(X_encoded, y_train, categorical_embedding_info=embedding_info, \n",
    "                            is_classification=True, epochs=100,batch_size=256)\n",
    "\n",
    "\n",
    "\n",
    "\n",
    "X_train = cem.fit_transform(X_train, embeddings=embeddings, encoders=encoders, drop_categorical_vars=True)\n",
    "X_test = cem.fit_transform(X_test, embeddings=embeddings, encoders=encoders, drop_categorical_vars=True)\n",
    " \n",
    "\n",
    "#reduce colinearity\n",
    "X_train, X_test = removeMulticolinearFeatures(X_train,X_test, 10)\n",
    "\n",
    "# #classifier optimization is performed on OHE dataset\n",
    "RF, bestParametersRF = getRF()\n",
    "LR, bestParametersLR= getLR()\n",
    "MLP, bestParametersMLP = getMLP()\n",
    "classifiers = [LR,RF,MLP]\n",
    "bestParametersList=[str(bestParametersLR),str(bestParametersRF),str(bestParametersMLP)]\n",
    "\n",
    "i = 0\n",
    "for classifier in classifiers:\n",
    "    stat = classify_master(X_train, X_test, y_train, y_test,'EMB',classifier)\n",
    "    stat['ClassifierParameters'] = bestParametersList[i]\n",
    "    preprocess_technique_stat = preprocess_technique_stat.append(stat)\n",
    "    i=i+1\n",
    "    \n",
    "###END EMB-------------------------------------------------------------\n",
    "preprocess_technique_stat.to_excel(r'C:\\Users\\ihorh\\Desktop\\Master Thesis\\stats\\prep_technique_stats_'+dataset_name+'.xlsx')  \n",
    "    \n",
    "b_stat = preprocess_technique_stat\n",
    "\n"
   ]
  },
  {
   "cell_type": "code",
   "execution_count": 64,
   "metadata": {},
   "outputs": [],
   "source": [
    "stats_joined = pd.concat([ l_stat,h_stat,b_stat],axis=1)\n",
    "stats_joined.columns =['l_Dataset','l_Encoder','l_Resampler','l_Resampler_Parameters','l_Feature_Selection','l_FS_Parameters','l_Classifier','l_Recall','l_f1','l_AUC','l_BS','l_Classifier_Parameters',\n",
    "                       'h_Dataset','h_Encoder','h_Resampler','h_Resampler_Parameters','h_Feature_Selection','h_FS_Parameters','h_Classifier','h_Recall','h_f1','h_AUC','h_BS','h_Classifier_Parameters',\n",
    "                       'b_Dataset','b_Encoder','b_Resampler','b_Resampler_Parameters','b_Feature_Selection','b_FS_Parameters','b_Classifier','b_Recall','b_f1','b_AUC','b_BS','b_Classifier_Parameters']\n",
    "stats_joined['l_Recall_r'] = stats_joined['l_Recall'].rank(method='dense',ascending=False)\n",
    "stats_joined['l_f1_r'] = stats_joined['l_f1'].rank(method='dense',ascending=False)\n",
    "stats_joined['l_AUC_r'] = stats_joined['l_AUC'].rank(method='dense',ascending=False)\n",
    "stats_joined['l_BS_r'] = stats_joined['l_BS'].rank(method='dense')\n",
    "stats_joined['h_Recall_r'] = stats_joined['h_Recall'].rank(method='dense',ascending=False)\n",
    "stats_joined['h_f1_r'] = stats_joined['h_f1'].rank(method='dense',ascending=False)\n",
    "stats_joined['h_AUC_r'] = stats_joined['h_AUC'].rank(method='dense',ascending=False)\n",
    "stats_joined['h_BS_r'] = stats_joined['h_BS'].rank(method='dense')\n",
    "stats_joined['b_Recall_r'] = stats_joined['b_Recall'].rank(method='dense',ascending=False)\n",
    "stats_joined['b_f1_r'] = stats_joined['b_f1'].rank(method='dense',ascending=False)\n",
    "stats_joined['b_AUC_r'] = stats_joined['b_AUC'].rank(method='dense',ascending=False)\n",
    "stats_joined['b_BS_r'] = stats_joined['b_BS'].rank(method='dense')\n",
    "\n",
    "stats_joined['AverageRank']= stats_joined[['l_Recall_r','l_f1_r','l_AUC_r','l_BS_r',\n",
    "                                         'h_Recall_r','h_f1_r','h_AUC_r','h_BS_r'\n",
    "                                         ,'b_Recall_r','b_f1_r','b_AUC_r','b_BS_r']].sum(axis=1)/12\n",
    "\n",
    "stats_joined.to_excel(r'C:\\Users\\ihorh\\Desktop\\Master Thesis\\stats\\statistics_joined.xlsx')"
   ]
  }
 ],
 "metadata": {
  "kernelspec": {
   "display_name": "Python 3",
   "language": "python",
   "name": "python3"
  },
  "language_info": {
   "codemirror_mode": {
    "name": "ipython",
    "version": 3
   },
   "file_extension": ".py",
   "mimetype": "text/x-python",
   "name": "python",
   "nbconvert_exporter": "python",
   "pygments_lexer": "ipython3",
   "version": "3.7.4"
  }
 },
 "nbformat": 4,
 "nbformat_minor": 2
}
